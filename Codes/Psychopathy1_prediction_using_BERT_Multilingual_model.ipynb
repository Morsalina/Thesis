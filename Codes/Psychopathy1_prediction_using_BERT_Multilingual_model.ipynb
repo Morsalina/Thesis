{
  "nbformat": 4,
  "nbformat_minor": 0,
  "metadata": {
    "colab": {
      "provenance": []
    },
    "kernelspec": {
      "name": "python3",
      "display_name": "Python 3"
    },
    "language_info": {
      "name": "python"
    },
    "accelerator": "GPU",
    "gpuClass": "standard",
    "widgets": {
      "application/vnd.jupyter.widget-state+json": {
        "afb47aca6983469a8be10a232d8fa226": {
          "model_module": "@jupyter-widgets/controls",
          "model_name": "HBoxModel",
          "model_module_version": "1.5.0",
          "state": {
            "_dom_classes": [],
            "_model_module": "@jupyter-widgets/controls",
            "_model_module_version": "1.5.0",
            "_model_name": "HBoxModel",
            "_view_count": null,
            "_view_module": "@jupyter-widgets/controls",
            "_view_module_version": "1.5.0",
            "_view_name": "HBoxView",
            "box_style": "",
            "children": [
              "IPY_MODEL_b100e14e1d364ba4aaaf3f33d97de9ac",
              "IPY_MODEL_8859a9f42f014c2db3d6b386b1614525",
              "IPY_MODEL_4828c5ffd0ea47e7882a54033f4f8872"
            ],
            "layout": "IPY_MODEL_488cd1d894cb49b8b56c1f07695c5227"
          }
        },
        "b100e14e1d364ba4aaaf3f33d97de9ac": {
          "model_module": "@jupyter-widgets/controls",
          "model_name": "HTMLModel",
          "model_module_version": "1.5.0",
          "state": {
            "_dom_classes": [],
            "_model_module": "@jupyter-widgets/controls",
            "_model_module_version": "1.5.0",
            "_model_name": "HTMLModel",
            "_view_count": null,
            "_view_module": "@jupyter-widgets/controls",
            "_view_module_version": "1.5.0",
            "_view_name": "HTMLView",
            "description": "",
            "description_tooltip": null,
            "layout": "IPY_MODEL_1ab762d72dd246f48dcc0a2a2aa9a732",
            "placeholder": "​",
            "style": "IPY_MODEL_03219b426664430e839dd875fe3fe83d",
            "value": "Downloading (…)solve/main/vocab.txt: 100%"
          }
        },
        "8859a9f42f014c2db3d6b386b1614525": {
          "model_module": "@jupyter-widgets/controls",
          "model_name": "FloatProgressModel",
          "model_module_version": "1.5.0",
          "state": {
            "_dom_classes": [],
            "_model_module": "@jupyter-widgets/controls",
            "_model_module_version": "1.5.0",
            "_model_name": "FloatProgressModel",
            "_view_count": null,
            "_view_module": "@jupyter-widgets/controls",
            "_view_module_version": "1.5.0",
            "_view_name": "ProgressView",
            "bar_style": "success",
            "description": "",
            "description_tooltip": null,
            "layout": "IPY_MODEL_2f190cb10bf8439fb8d5452b192941fe",
            "max": 995526,
            "min": 0,
            "orientation": "horizontal",
            "style": "IPY_MODEL_d844657d5bc149678bee6408bdedba68",
            "value": 995526
          }
        },
        "4828c5ffd0ea47e7882a54033f4f8872": {
          "model_module": "@jupyter-widgets/controls",
          "model_name": "HTMLModel",
          "model_module_version": "1.5.0",
          "state": {
            "_dom_classes": [],
            "_model_module": "@jupyter-widgets/controls",
            "_model_module_version": "1.5.0",
            "_model_name": "HTMLModel",
            "_view_count": null,
            "_view_module": "@jupyter-widgets/controls",
            "_view_module_version": "1.5.0",
            "_view_name": "HTMLView",
            "description": "",
            "description_tooltip": null,
            "layout": "IPY_MODEL_ec917b93708240979976c8e18f89493c",
            "placeholder": "​",
            "style": "IPY_MODEL_635cb98c7f72460d9532167fd61c3d75",
            "value": " 996k/996k [00:00&lt;00:00, 10.5MB/s]"
          }
        },
        "488cd1d894cb49b8b56c1f07695c5227": {
          "model_module": "@jupyter-widgets/base",
          "model_name": "LayoutModel",
          "model_module_version": "1.2.0",
          "state": {
            "_model_module": "@jupyter-widgets/base",
            "_model_module_version": "1.2.0",
            "_model_name": "LayoutModel",
            "_view_count": null,
            "_view_module": "@jupyter-widgets/base",
            "_view_module_version": "1.2.0",
            "_view_name": "LayoutView",
            "align_content": null,
            "align_items": null,
            "align_self": null,
            "border": null,
            "bottom": null,
            "display": null,
            "flex": null,
            "flex_flow": null,
            "grid_area": null,
            "grid_auto_columns": null,
            "grid_auto_flow": null,
            "grid_auto_rows": null,
            "grid_column": null,
            "grid_gap": null,
            "grid_row": null,
            "grid_template_areas": null,
            "grid_template_columns": null,
            "grid_template_rows": null,
            "height": null,
            "justify_content": null,
            "justify_items": null,
            "left": null,
            "margin": null,
            "max_height": null,
            "max_width": null,
            "min_height": null,
            "min_width": null,
            "object_fit": null,
            "object_position": null,
            "order": null,
            "overflow": null,
            "overflow_x": null,
            "overflow_y": null,
            "padding": null,
            "right": null,
            "top": null,
            "visibility": null,
            "width": null
          }
        },
        "1ab762d72dd246f48dcc0a2a2aa9a732": {
          "model_module": "@jupyter-widgets/base",
          "model_name": "LayoutModel",
          "model_module_version": "1.2.0",
          "state": {
            "_model_module": "@jupyter-widgets/base",
            "_model_module_version": "1.2.0",
            "_model_name": "LayoutModel",
            "_view_count": null,
            "_view_module": "@jupyter-widgets/base",
            "_view_module_version": "1.2.0",
            "_view_name": "LayoutView",
            "align_content": null,
            "align_items": null,
            "align_self": null,
            "border": null,
            "bottom": null,
            "display": null,
            "flex": null,
            "flex_flow": null,
            "grid_area": null,
            "grid_auto_columns": null,
            "grid_auto_flow": null,
            "grid_auto_rows": null,
            "grid_column": null,
            "grid_gap": null,
            "grid_row": null,
            "grid_template_areas": null,
            "grid_template_columns": null,
            "grid_template_rows": null,
            "height": null,
            "justify_content": null,
            "justify_items": null,
            "left": null,
            "margin": null,
            "max_height": null,
            "max_width": null,
            "min_height": null,
            "min_width": null,
            "object_fit": null,
            "object_position": null,
            "order": null,
            "overflow": null,
            "overflow_x": null,
            "overflow_y": null,
            "padding": null,
            "right": null,
            "top": null,
            "visibility": null,
            "width": null
          }
        },
        "03219b426664430e839dd875fe3fe83d": {
          "model_module": "@jupyter-widgets/controls",
          "model_name": "DescriptionStyleModel",
          "model_module_version": "1.5.0",
          "state": {
            "_model_module": "@jupyter-widgets/controls",
            "_model_module_version": "1.5.0",
            "_model_name": "DescriptionStyleModel",
            "_view_count": null,
            "_view_module": "@jupyter-widgets/base",
            "_view_module_version": "1.2.0",
            "_view_name": "StyleView",
            "description_width": ""
          }
        },
        "2f190cb10bf8439fb8d5452b192941fe": {
          "model_module": "@jupyter-widgets/base",
          "model_name": "LayoutModel",
          "model_module_version": "1.2.0",
          "state": {
            "_model_module": "@jupyter-widgets/base",
            "_model_module_version": "1.2.0",
            "_model_name": "LayoutModel",
            "_view_count": null,
            "_view_module": "@jupyter-widgets/base",
            "_view_module_version": "1.2.0",
            "_view_name": "LayoutView",
            "align_content": null,
            "align_items": null,
            "align_self": null,
            "border": null,
            "bottom": null,
            "display": null,
            "flex": null,
            "flex_flow": null,
            "grid_area": null,
            "grid_auto_columns": null,
            "grid_auto_flow": null,
            "grid_auto_rows": null,
            "grid_column": null,
            "grid_gap": null,
            "grid_row": null,
            "grid_template_areas": null,
            "grid_template_columns": null,
            "grid_template_rows": null,
            "height": null,
            "justify_content": null,
            "justify_items": null,
            "left": null,
            "margin": null,
            "max_height": null,
            "max_width": null,
            "min_height": null,
            "min_width": null,
            "object_fit": null,
            "object_position": null,
            "order": null,
            "overflow": null,
            "overflow_x": null,
            "overflow_y": null,
            "padding": null,
            "right": null,
            "top": null,
            "visibility": null,
            "width": null
          }
        },
        "d844657d5bc149678bee6408bdedba68": {
          "model_module": "@jupyter-widgets/controls",
          "model_name": "ProgressStyleModel",
          "model_module_version": "1.5.0",
          "state": {
            "_model_module": "@jupyter-widgets/controls",
            "_model_module_version": "1.5.0",
            "_model_name": "ProgressStyleModel",
            "_view_count": null,
            "_view_module": "@jupyter-widgets/base",
            "_view_module_version": "1.2.0",
            "_view_name": "StyleView",
            "bar_color": null,
            "description_width": ""
          }
        },
        "ec917b93708240979976c8e18f89493c": {
          "model_module": "@jupyter-widgets/base",
          "model_name": "LayoutModel",
          "model_module_version": "1.2.0",
          "state": {
            "_model_module": "@jupyter-widgets/base",
            "_model_module_version": "1.2.0",
            "_model_name": "LayoutModel",
            "_view_count": null,
            "_view_module": "@jupyter-widgets/base",
            "_view_module_version": "1.2.0",
            "_view_name": "LayoutView",
            "align_content": null,
            "align_items": null,
            "align_self": null,
            "border": null,
            "bottom": null,
            "display": null,
            "flex": null,
            "flex_flow": null,
            "grid_area": null,
            "grid_auto_columns": null,
            "grid_auto_flow": null,
            "grid_auto_rows": null,
            "grid_column": null,
            "grid_gap": null,
            "grid_row": null,
            "grid_template_areas": null,
            "grid_template_columns": null,
            "grid_template_rows": null,
            "height": null,
            "justify_content": null,
            "justify_items": null,
            "left": null,
            "margin": null,
            "max_height": null,
            "max_width": null,
            "min_height": null,
            "min_width": null,
            "object_fit": null,
            "object_position": null,
            "order": null,
            "overflow": null,
            "overflow_x": null,
            "overflow_y": null,
            "padding": null,
            "right": null,
            "top": null,
            "visibility": null,
            "width": null
          }
        },
        "635cb98c7f72460d9532167fd61c3d75": {
          "model_module": "@jupyter-widgets/controls",
          "model_name": "DescriptionStyleModel",
          "model_module_version": "1.5.0",
          "state": {
            "_model_module": "@jupyter-widgets/controls",
            "_model_module_version": "1.5.0",
            "_model_name": "DescriptionStyleModel",
            "_view_count": null,
            "_view_module": "@jupyter-widgets/base",
            "_view_module_version": "1.2.0",
            "_view_name": "StyleView",
            "description_width": ""
          }
        },
        "8a81f4838e7d4c5e8bc1064bd4fc9b5d": {
          "model_module": "@jupyter-widgets/controls",
          "model_name": "HBoxModel",
          "model_module_version": "1.5.0",
          "state": {
            "_dom_classes": [],
            "_model_module": "@jupyter-widgets/controls",
            "_model_module_version": "1.5.0",
            "_model_name": "HBoxModel",
            "_view_count": null,
            "_view_module": "@jupyter-widgets/controls",
            "_view_module_version": "1.5.0",
            "_view_name": "HBoxView",
            "box_style": "",
            "children": [
              "IPY_MODEL_497dc98ed0c34bbcbf0a049c79640694",
              "IPY_MODEL_a9fab57551fd491db3a7ffa28e12700d",
              "IPY_MODEL_acbb20493ad94096a93c5ae8969357a5"
            ],
            "layout": "IPY_MODEL_f4a24510378844c0a69e205457ba716f"
          }
        },
        "497dc98ed0c34bbcbf0a049c79640694": {
          "model_module": "@jupyter-widgets/controls",
          "model_name": "HTMLModel",
          "model_module_version": "1.5.0",
          "state": {
            "_dom_classes": [],
            "_model_module": "@jupyter-widgets/controls",
            "_model_module_version": "1.5.0",
            "_model_name": "HTMLModel",
            "_view_count": null,
            "_view_module": "@jupyter-widgets/controls",
            "_view_module_version": "1.5.0",
            "_view_name": "HTMLView",
            "description": "",
            "description_tooltip": null,
            "layout": "IPY_MODEL_90715996a49d4eb18a757c6b9f867b1f",
            "placeholder": "​",
            "style": "IPY_MODEL_27ae748c6c32494f84e4e82f4dd3584a",
            "value": "Downloading (…)okenizer_config.json: 100%"
          }
        },
        "a9fab57551fd491db3a7ffa28e12700d": {
          "model_module": "@jupyter-widgets/controls",
          "model_name": "FloatProgressModel",
          "model_module_version": "1.5.0",
          "state": {
            "_dom_classes": [],
            "_model_module": "@jupyter-widgets/controls",
            "_model_module_version": "1.5.0",
            "_model_name": "FloatProgressModel",
            "_view_count": null,
            "_view_module": "@jupyter-widgets/controls",
            "_view_module_version": "1.5.0",
            "_view_name": "ProgressView",
            "bar_style": "success",
            "description": "",
            "description_tooltip": null,
            "layout": "IPY_MODEL_823d0047861e424594a9dd5ef3c3fbb5",
            "max": 29,
            "min": 0,
            "orientation": "horizontal",
            "style": "IPY_MODEL_160c3f0831c649e6bc89041d61668765",
            "value": 29
          }
        },
        "acbb20493ad94096a93c5ae8969357a5": {
          "model_module": "@jupyter-widgets/controls",
          "model_name": "HTMLModel",
          "model_module_version": "1.5.0",
          "state": {
            "_dom_classes": [],
            "_model_module": "@jupyter-widgets/controls",
            "_model_module_version": "1.5.0",
            "_model_name": "HTMLModel",
            "_view_count": null,
            "_view_module": "@jupyter-widgets/controls",
            "_view_module_version": "1.5.0",
            "_view_name": "HTMLView",
            "description": "",
            "description_tooltip": null,
            "layout": "IPY_MODEL_f335590c59954422868cf127df656188",
            "placeholder": "​",
            "style": "IPY_MODEL_77f87ae207364042970a467f7972da17",
            "value": " 29.0/29.0 [00:00&lt;00:00, 1.21kB/s]"
          }
        },
        "f4a24510378844c0a69e205457ba716f": {
          "model_module": "@jupyter-widgets/base",
          "model_name": "LayoutModel",
          "model_module_version": "1.2.0",
          "state": {
            "_model_module": "@jupyter-widgets/base",
            "_model_module_version": "1.2.0",
            "_model_name": "LayoutModel",
            "_view_count": null,
            "_view_module": "@jupyter-widgets/base",
            "_view_module_version": "1.2.0",
            "_view_name": "LayoutView",
            "align_content": null,
            "align_items": null,
            "align_self": null,
            "border": null,
            "bottom": null,
            "display": null,
            "flex": null,
            "flex_flow": null,
            "grid_area": null,
            "grid_auto_columns": null,
            "grid_auto_flow": null,
            "grid_auto_rows": null,
            "grid_column": null,
            "grid_gap": null,
            "grid_row": null,
            "grid_template_areas": null,
            "grid_template_columns": null,
            "grid_template_rows": null,
            "height": null,
            "justify_content": null,
            "justify_items": null,
            "left": null,
            "margin": null,
            "max_height": null,
            "max_width": null,
            "min_height": null,
            "min_width": null,
            "object_fit": null,
            "object_position": null,
            "order": null,
            "overflow": null,
            "overflow_x": null,
            "overflow_y": null,
            "padding": null,
            "right": null,
            "top": null,
            "visibility": null,
            "width": null
          }
        },
        "90715996a49d4eb18a757c6b9f867b1f": {
          "model_module": "@jupyter-widgets/base",
          "model_name": "LayoutModel",
          "model_module_version": "1.2.0",
          "state": {
            "_model_module": "@jupyter-widgets/base",
            "_model_module_version": "1.2.0",
            "_model_name": "LayoutModel",
            "_view_count": null,
            "_view_module": "@jupyter-widgets/base",
            "_view_module_version": "1.2.0",
            "_view_name": "LayoutView",
            "align_content": null,
            "align_items": null,
            "align_self": null,
            "border": null,
            "bottom": null,
            "display": null,
            "flex": null,
            "flex_flow": null,
            "grid_area": null,
            "grid_auto_columns": null,
            "grid_auto_flow": null,
            "grid_auto_rows": null,
            "grid_column": null,
            "grid_gap": null,
            "grid_row": null,
            "grid_template_areas": null,
            "grid_template_columns": null,
            "grid_template_rows": null,
            "height": null,
            "justify_content": null,
            "justify_items": null,
            "left": null,
            "margin": null,
            "max_height": null,
            "max_width": null,
            "min_height": null,
            "min_width": null,
            "object_fit": null,
            "object_position": null,
            "order": null,
            "overflow": null,
            "overflow_x": null,
            "overflow_y": null,
            "padding": null,
            "right": null,
            "top": null,
            "visibility": null,
            "width": null
          }
        },
        "27ae748c6c32494f84e4e82f4dd3584a": {
          "model_module": "@jupyter-widgets/controls",
          "model_name": "DescriptionStyleModel",
          "model_module_version": "1.5.0",
          "state": {
            "_model_module": "@jupyter-widgets/controls",
            "_model_module_version": "1.5.0",
            "_model_name": "DescriptionStyleModel",
            "_view_count": null,
            "_view_module": "@jupyter-widgets/base",
            "_view_module_version": "1.2.0",
            "_view_name": "StyleView",
            "description_width": ""
          }
        },
        "823d0047861e424594a9dd5ef3c3fbb5": {
          "model_module": "@jupyter-widgets/base",
          "model_name": "LayoutModel",
          "model_module_version": "1.2.0",
          "state": {
            "_model_module": "@jupyter-widgets/base",
            "_model_module_version": "1.2.0",
            "_model_name": "LayoutModel",
            "_view_count": null,
            "_view_module": "@jupyter-widgets/base",
            "_view_module_version": "1.2.0",
            "_view_name": "LayoutView",
            "align_content": null,
            "align_items": null,
            "align_self": null,
            "border": null,
            "bottom": null,
            "display": null,
            "flex": null,
            "flex_flow": null,
            "grid_area": null,
            "grid_auto_columns": null,
            "grid_auto_flow": null,
            "grid_auto_rows": null,
            "grid_column": null,
            "grid_gap": null,
            "grid_row": null,
            "grid_template_areas": null,
            "grid_template_columns": null,
            "grid_template_rows": null,
            "height": null,
            "justify_content": null,
            "justify_items": null,
            "left": null,
            "margin": null,
            "max_height": null,
            "max_width": null,
            "min_height": null,
            "min_width": null,
            "object_fit": null,
            "object_position": null,
            "order": null,
            "overflow": null,
            "overflow_x": null,
            "overflow_y": null,
            "padding": null,
            "right": null,
            "top": null,
            "visibility": null,
            "width": null
          }
        },
        "160c3f0831c649e6bc89041d61668765": {
          "model_module": "@jupyter-widgets/controls",
          "model_name": "ProgressStyleModel",
          "model_module_version": "1.5.0",
          "state": {
            "_model_module": "@jupyter-widgets/controls",
            "_model_module_version": "1.5.0",
            "_model_name": "ProgressStyleModel",
            "_view_count": null,
            "_view_module": "@jupyter-widgets/base",
            "_view_module_version": "1.2.0",
            "_view_name": "StyleView",
            "bar_color": null,
            "description_width": ""
          }
        },
        "f335590c59954422868cf127df656188": {
          "model_module": "@jupyter-widgets/base",
          "model_name": "LayoutModel",
          "model_module_version": "1.2.0",
          "state": {
            "_model_module": "@jupyter-widgets/base",
            "_model_module_version": "1.2.0",
            "_model_name": "LayoutModel",
            "_view_count": null,
            "_view_module": "@jupyter-widgets/base",
            "_view_module_version": "1.2.0",
            "_view_name": "LayoutView",
            "align_content": null,
            "align_items": null,
            "align_self": null,
            "border": null,
            "bottom": null,
            "display": null,
            "flex": null,
            "flex_flow": null,
            "grid_area": null,
            "grid_auto_columns": null,
            "grid_auto_flow": null,
            "grid_auto_rows": null,
            "grid_column": null,
            "grid_gap": null,
            "grid_row": null,
            "grid_template_areas": null,
            "grid_template_columns": null,
            "grid_template_rows": null,
            "height": null,
            "justify_content": null,
            "justify_items": null,
            "left": null,
            "margin": null,
            "max_height": null,
            "max_width": null,
            "min_height": null,
            "min_width": null,
            "object_fit": null,
            "object_position": null,
            "order": null,
            "overflow": null,
            "overflow_x": null,
            "overflow_y": null,
            "padding": null,
            "right": null,
            "top": null,
            "visibility": null,
            "width": null
          }
        },
        "77f87ae207364042970a467f7972da17": {
          "model_module": "@jupyter-widgets/controls",
          "model_name": "DescriptionStyleModel",
          "model_module_version": "1.5.0",
          "state": {
            "_model_module": "@jupyter-widgets/controls",
            "_model_module_version": "1.5.0",
            "_model_name": "DescriptionStyleModel",
            "_view_count": null,
            "_view_module": "@jupyter-widgets/base",
            "_view_module_version": "1.2.0",
            "_view_name": "StyleView",
            "description_width": ""
          }
        },
        "afe37110b2c244299af7bf8f1308d90c": {
          "model_module": "@jupyter-widgets/controls",
          "model_name": "HBoxModel",
          "model_module_version": "1.5.0",
          "state": {
            "_dom_classes": [],
            "_model_module": "@jupyter-widgets/controls",
            "_model_module_version": "1.5.0",
            "_model_name": "HBoxModel",
            "_view_count": null,
            "_view_module": "@jupyter-widgets/controls",
            "_view_module_version": "1.5.0",
            "_view_name": "HBoxView",
            "box_style": "",
            "children": [
              "IPY_MODEL_7178acdbdfc54f1092a315c06b9f2704",
              "IPY_MODEL_889816a614cd4295831f691a348daef2",
              "IPY_MODEL_4aa72217b50e4d2d830f0046f1953933"
            ],
            "layout": "IPY_MODEL_a7d7d70008ed4df5b9f5e095f3de235a"
          }
        },
        "7178acdbdfc54f1092a315c06b9f2704": {
          "model_module": "@jupyter-widgets/controls",
          "model_name": "HTMLModel",
          "model_module_version": "1.5.0",
          "state": {
            "_dom_classes": [],
            "_model_module": "@jupyter-widgets/controls",
            "_model_module_version": "1.5.0",
            "_model_name": "HTMLModel",
            "_view_count": null,
            "_view_module": "@jupyter-widgets/controls",
            "_view_module_version": "1.5.0",
            "_view_name": "HTMLView",
            "description": "",
            "description_tooltip": null,
            "layout": "IPY_MODEL_778844389ebb42b08487675336a07fdf",
            "placeholder": "​",
            "style": "IPY_MODEL_91fcb3e41840430f8d5fd821f92ee384",
            "value": "Downloading (…)lve/main/config.json: 100%"
          }
        },
        "889816a614cd4295831f691a348daef2": {
          "model_module": "@jupyter-widgets/controls",
          "model_name": "FloatProgressModel",
          "model_module_version": "1.5.0",
          "state": {
            "_dom_classes": [],
            "_model_module": "@jupyter-widgets/controls",
            "_model_module_version": "1.5.0",
            "_model_name": "FloatProgressModel",
            "_view_count": null,
            "_view_module": "@jupyter-widgets/controls",
            "_view_module_version": "1.5.0",
            "_view_name": "ProgressView",
            "bar_style": "success",
            "description": "",
            "description_tooltip": null,
            "layout": "IPY_MODEL_50c2f8e6dc844f19b4bf7820a1b3308d",
            "max": 625,
            "min": 0,
            "orientation": "horizontal",
            "style": "IPY_MODEL_7bd334e98d264de4aebdd5602ed6a551",
            "value": 625
          }
        },
        "4aa72217b50e4d2d830f0046f1953933": {
          "model_module": "@jupyter-widgets/controls",
          "model_name": "HTMLModel",
          "model_module_version": "1.5.0",
          "state": {
            "_dom_classes": [],
            "_model_module": "@jupyter-widgets/controls",
            "_model_module_version": "1.5.0",
            "_model_name": "HTMLModel",
            "_view_count": null,
            "_view_module": "@jupyter-widgets/controls",
            "_view_module_version": "1.5.0",
            "_view_name": "HTMLView",
            "description": "",
            "description_tooltip": null,
            "layout": "IPY_MODEL_82fbd98f44114397b8130f72e73be4d4",
            "placeholder": "​",
            "style": "IPY_MODEL_f6b1a0fa90884024a76b2632d2a7dcec",
            "value": " 625/625 [00:00&lt;00:00, 22.9kB/s]"
          }
        },
        "a7d7d70008ed4df5b9f5e095f3de235a": {
          "model_module": "@jupyter-widgets/base",
          "model_name": "LayoutModel",
          "model_module_version": "1.2.0",
          "state": {
            "_model_module": "@jupyter-widgets/base",
            "_model_module_version": "1.2.0",
            "_model_name": "LayoutModel",
            "_view_count": null,
            "_view_module": "@jupyter-widgets/base",
            "_view_module_version": "1.2.0",
            "_view_name": "LayoutView",
            "align_content": null,
            "align_items": null,
            "align_self": null,
            "border": null,
            "bottom": null,
            "display": null,
            "flex": null,
            "flex_flow": null,
            "grid_area": null,
            "grid_auto_columns": null,
            "grid_auto_flow": null,
            "grid_auto_rows": null,
            "grid_column": null,
            "grid_gap": null,
            "grid_row": null,
            "grid_template_areas": null,
            "grid_template_columns": null,
            "grid_template_rows": null,
            "height": null,
            "justify_content": null,
            "justify_items": null,
            "left": null,
            "margin": null,
            "max_height": null,
            "max_width": null,
            "min_height": null,
            "min_width": null,
            "object_fit": null,
            "object_position": null,
            "order": null,
            "overflow": null,
            "overflow_x": null,
            "overflow_y": null,
            "padding": null,
            "right": null,
            "top": null,
            "visibility": null,
            "width": null
          }
        },
        "778844389ebb42b08487675336a07fdf": {
          "model_module": "@jupyter-widgets/base",
          "model_name": "LayoutModel",
          "model_module_version": "1.2.0",
          "state": {
            "_model_module": "@jupyter-widgets/base",
            "_model_module_version": "1.2.0",
            "_model_name": "LayoutModel",
            "_view_count": null,
            "_view_module": "@jupyter-widgets/base",
            "_view_module_version": "1.2.0",
            "_view_name": "LayoutView",
            "align_content": null,
            "align_items": null,
            "align_self": null,
            "border": null,
            "bottom": null,
            "display": null,
            "flex": null,
            "flex_flow": null,
            "grid_area": null,
            "grid_auto_columns": null,
            "grid_auto_flow": null,
            "grid_auto_rows": null,
            "grid_column": null,
            "grid_gap": null,
            "grid_row": null,
            "grid_template_areas": null,
            "grid_template_columns": null,
            "grid_template_rows": null,
            "height": null,
            "justify_content": null,
            "justify_items": null,
            "left": null,
            "margin": null,
            "max_height": null,
            "max_width": null,
            "min_height": null,
            "min_width": null,
            "object_fit": null,
            "object_position": null,
            "order": null,
            "overflow": null,
            "overflow_x": null,
            "overflow_y": null,
            "padding": null,
            "right": null,
            "top": null,
            "visibility": null,
            "width": null
          }
        },
        "91fcb3e41840430f8d5fd821f92ee384": {
          "model_module": "@jupyter-widgets/controls",
          "model_name": "DescriptionStyleModel",
          "model_module_version": "1.5.0",
          "state": {
            "_model_module": "@jupyter-widgets/controls",
            "_model_module_version": "1.5.0",
            "_model_name": "DescriptionStyleModel",
            "_view_count": null,
            "_view_module": "@jupyter-widgets/base",
            "_view_module_version": "1.2.0",
            "_view_name": "StyleView",
            "description_width": ""
          }
        },
        "50c2f8e6dc844f19b4bf7820a1b3308d": {
          "model_module": "@jupyter-widgets/base",
          "model_name": "LayoutModel",
          "model_module_version": "1.2.0",
          "state": {
            "_model_module": "@jupyter-widgets/base",
            "_model_module_version": "1.2.0",
            "_model_name": "LayoutModel",
            "_view_count": null,
            "_view_module": "@jupyter-widgets/base",
            "_view_module_version": "1.2.0",
            "_view_name": "LayoutView",
            "align_content": null,
            "align_items": null,
            "align_self": null,
            "border": null,
            "bottom": null,
            "display": null,
            "flex": null,
            "flex_flow": null,
            "grid_area": null,
            "grid_auto_columns": null,
            "grid_auto_flow": null,
            "grid_auto_rows": null,
            "grid_column": null,
            "grid_gap": null,
            "grid_row": null,
            "grid_template_areas": null,
            "grid_template_columns": null,
            "grid_template_rows": null,
            "height": null,
            "justify_content": null,
            "justify_items": null,
            "left": null,
            "margin": null,
            "max_height": null,
            "max_width": null,
            "min_height": null,
            "min_width": null,
            "object_fit": null,
            "object_position": null,
            "order": null,
            "overflow": null,
            "overflow_x": null,
            "overflow_y": null,
            "padding": null,
            "right": null,
            "top": null,
            "visibility": null,
            "width": null
          }
        },
        "7bd334e98d264de4aebdd5602ed6a551": {
          "model_module": "@jupyter-widgets/controls",
          "model_name": "ProgressStyleModel",
          "model_module_version": "1.5.0",
          "state": {
            "_model_module": "@jupyter-widgets/controls",
            "_model_module_version": "1.5.0",
            "_model_name": "ProgressStyleModel",
            "_view_count": null,
            "_view_module": "@jupyter-widgets/base",
            "_view_module_version": "1.2.0",
            "_view_name": "StyleView",
            "bar_color": null,
            "description_width": ""
          }
        },
        "82fbd98f44114397b8130f72e73be4d4": {
          "model_module": "@jupyter-widgets/base",
          "model_name": "LayoutModel",
          "model_module_version": "1.2.0",
          "state": {
            "_model_module": "@jupyter-widgets/base",
            "_model_module_version": "1.2.0",
            "_model_name": "LayoutModel",
            "_view_count": null,
            "_view_module": "@jupyter-widgets/base",
            "_view_module_version": "1.2.0",
            "_view_name": "LayoutView",
            "align_content": null,
            "align_items": null,
            "align_self": null,
            "border": null,
            "bottom": null,
            "display": null,
            "flex": null,
            "flex_flow": null,
            "grid_area": null,
            "grid_auto_columns": null,
            "grid_auto_flow": null,
            "grid_auto_rows": null,
            "grid_column": null,
            "grid_gap": null,
            "grid_row": null,
            "grid_template_areas": null,
            "grid_template_columns": null,
            "grid_template_rows": null,
            "height": null,
            "justify_content": null,
            "justify_items": null,
            "left": null,
            "margin": null,
            "max_height": null,
            "max_width": null,
            "min_height": null,
            "min_width": null,
            "object_fit": null,
            "object_position": null,
            "order": null,
            "overflow": null,
            "overflow_x": null,
            "overflow_y": null,
            "padding": null,
            "right": null,
            "top": null,
            "visibility": null,
            "width": null
          }
        },
        "f6b1a0fa90884024a76b2632d2a7dcec": {
          "model_module": "@jupyter-widgets/controls",
          "model_name": "DescriptionStyleModel",
          "model_module_version": "1.5.0",
          "state": {
            "_model_module": "@jupyter-widgets/controls",
            "_model_module_version": "1.5.0",
            "_model_name": "DescriptionStyleModel",
            "_view_count": null,
            "_view_module": "@jupyter-widgets/base",
            "_view_module_version": "1.2.0",
            "_view_name": "StyleView",
            "description_width": ""
          }
        },
        "fa874c11a6304a4ca94fb56eda84154a": {
          "model_module": "@jupyter-widgets/controls",
          "model_name": "HBoxModel",
          "model_module_version": "1.5.0",
          "state": {
            "_dom_classes": [],
            "_model_module": "@jupyter-widgets/controls",
            "_model_module_version": "1.5.0",
            "_model_name": "HBoxModel",
            "_view_count": null,
            "_view_module": "@jupyter-widgets/controls",
            "_view_module_version": "1.5.0",
            "_view_name": "HBoxView",
            "box_style": "",
            "children": [
              "IPY_MODEL_0f5b4d98909846248ccfe962e36c0b31",
              "IPY_MODEL_d18f28dfdfe34b178e6633f1f3ee2fe5",
              "IPY_MODEL_13e240d015ea44428f4b866f0cd38c1d"
            ],
            "layout": "IPY_MODEL_64caf426fc0c4b1a982a02737def427c"
          }
        },
        "0f5b4d98909846248ccfe962e36c0b31": {
          "model_module": "@jupyter-widgets/controls",
          "model_name": "HTMLModel",
          "model_module_version": "1.5.0",
          "state": {
            "_dom_classes": [],
            "_model_module": "@jupyter-widgets/controls",
            "_model_module_version": "1.5.0",
            "_model_name": "HTMLModel",
            "_view_count": null,
            "_view_module": "@jupyter-widgets/controls",
            "_view_module_version": "1.5.0",
            "_view_name": "HTMLView",
            "description": "",
            "description_tooltip": null,
            "layout": "IPY_MODEL_c8608bc3b9ad406eaf6d7c047a272f7c",
            "placeholder": "​",
            "style": "IPY_MODEL_e10d92764c7f44038b4cda3679785cc1",
            "value": "Downloading pytorch_model.bin: 100%"
          }
        },
        "d18f28dfdfe34b178e6633f1f3ee2fe5": {
          "model_module": "@jupyter-widgets/controls",
          "model_name": "FloatProgressModel",
          "model_module_version": "1.5.0",
          "state": {
            "_dom_classes": [],
            "_model_module": "@jupyter-widgets/controls",
            "_model_module_version": "1.5.0",
            "_model_name": "FloatProgressModel",
            "_view_count": null,
            "_view_module": "@jupyter-widgets/controls",
            "_view_module_version": "1.5.0",
            "_view_name": "ProgressView",
            "bar_style": "success",
            "description": "",
            "description_tooltip": null,
            "layout": "IPY_MODEL_3d665e263f88474ea51f910b17fdb74c",
            "max": 714314041,
            "min": 0,
            "orientation": "horizontal",
            "style": "IPY_MODEL_952829dfcccb484cb972197947448dc8",
            "value": 714314041
          }
        },
        "13e240d015ea44428f4b866f0cd38c1d": {
          "model_module": "@jupyter-widgets/controls",
          "model_name": "HTMLModel",
          "model_module_version": "1.5.0",
          "state": {
            "_dom_classes": [],
            "_model_module": "@jupyter-widgets/controls",
            "_model_module_version": "1.5.0",
            "_model_name": "HTMLModel",
            "_view_count": null,
            "_view_module": "@jupyter-widgets/controls",
            "_view_module_version": "1.5.0",
            "_view_name": "HTMLView",
            "description": "",
            "description_tooltip": null,
            "layout": "IPY_MODEL_858b739593114a568598a2de1552328d",
            "placeholder": "​",
            "style": "IPY_MODEL_254bdd7e97dc49bfbad4ae6cf0b6099e",
            "value": " 714M/714M [00:08&lt;00:00, 87.5MB/s]"
          }
        },
        "64caf426fc0c4b1a982a02737def427c": {
          "model_module": "@jupyter-widgets/base",
          "model_name": "LayoutModel",
          "model_module_version": "1.2.0",
          "state": {
            "_model_module": "@jupyter-widgets/base",
            "_model_module_version": "1.2.0",
            "_model_name": "LayoutModel",
            "_view_count": null,
            "_view_module": "@jupyter-widgets/base",
            "_view_module_version": "1.2.0",
            "_view_name": "LayoutView",
            "align_content": null,
            "align_items": null,
            "align_self": null,
            "border": null,
            "bottom": null,
            "display": null,
            "flex": null,
            "flex_flow": null,
            "grid_area": null,
            "grid_auto_columns": null,
            "grid_auto_flow": null,
            "grid_auto_rows": null,
            "grid_column": null,
            "grid_gap": null,
            "grid_row": null,
            "grid_template_areas": null,
            "grid_template_columns": null,
            "grid_template_rows": null,
            "height": null,
            "justify_content": null,
            "justify_items": null,
            "left": null,
            "margin": null,
            "max_height": null,
            "max_width": null,
            "min_height": null,
            "min_width": null,
            "object_fit": null,
            "object_position": null,
            "order": null,
            "overflow": null,
            "overflow_x": null,
            "overflow_y": null,
            "padding": null,
            "right": null,
            "top": null,
            "visibility": null,
            "width": null
          }
        },
        "c8608bc3b9ad406eaf6d7c047a272f7c": {
          "model_module": "@jupyter-widgets/base",
          "model_name": "LayoutModel",
          "model_module_version": "1.2.0",
          "state": {
            "_model_module": "@jupyter-widgets/base",
            "_model_module_version": "1.2.0",
            "_model_name": "LayoutModel",
            "_view_count": null,
            "_view_module": "@jupyter-widgets/base",
            "_view_module_version": "1.2.0",
            "_view_name": "LayoutView",
            "align_content": null,
            "align_items": null,
            "align_self": null,
            "border": null,
            "bottom": null,
            "display": null,
            "flex": null,
            "flex_flow": null,
            "grid_area": null,
            "grid_auto_columns": null,
            "grid_auto_flow": null,
            "grid_auto_rows": null,
            "grid_column": null,
            "grid_gap": null,
            "grid_row": null,
            "grid_template_areas": null,
            "grid_template_columns": null,
            "grid_template_rows": null,
            "height": null,
            "justify_content": null,
            "justify_items": null,
            "left": null,
            "margin": null,
            "max_height": null,
            "max_width": null,
            "min_height": null,
            "min_width": null,
            "object_fit": null,
            "object_position": null,
            "order": null,
            "overflow": null,
            "overflow_x": null,
            "overflow_y": null,
            "padding": null,
            "right": null,
            "top": null,
            "visibility": null,
            "width": null
          }
        },
        "e10d92764c7f44038b4cda3679785cc1": {
          "model_module": "@jupyter-widgets/controls",
          "model_name": "DescriptionStyleModel",
          "model_module_version": "1.5.0",
          "state": {
            "_model_module": "@jupyter-widgets/controls",
            "_model_module_version": "1.5.0",
            "_model_name": "DescriptionStyleModel",
            "_view_count": null,
            "_view_module": "@jupyter-widgets/base",
            "_view_module_version": "1.2.0",
            "_view_name": "StyleView",
            "description_width": ""
          }
        },
        "3d665e263f88474ea51f910b17fdb74c": {
          "model_module": "@jupyter-widgets/base",
          "model_name": "LayoutModel",
          "model_module_version": "1.2.0",
          "state": {
            "_model_module": "@jupyter-widgets/base",
            "_model_module_version": "1.2.0",
            "_model_name": "LayoutModel",
            "_view_count": null,
            "_view_module": "@jupyter-widgets/base",
            "_view_module_version": "1.2.0",
            "_view_name": "LayoutView",
            "align_content": null,
            "align_items": null,
            "align_self": null,
            "border": null,
            "bottom": null,
            "display": null,
            "flex": null,
            "flex_flow": null,
            "grid_area": null,
            "grid_auto_columns": null,
            "grid_auto_flow": null,
            "grid_auto_rows": null,
            "grid_column": null,
            "grid_gap": null,
            "grid_row": null,
            "grid_template_areas": null,
            "grid_template_columns": null,
            "grid_template_rows": null,
            "height": null,
            "justify_content": null,
            "justify_items": null,
            "left": null,
            "margin": null,
            "max_height": null,
            "max_width": null,
            "min_height": null,
            "min_width": null,
            "object_fit": null,
            "object_position": null,
            "order": null,
            "overflow": null,
            "overflow_x": null,
            "overflow_y": null,
            "padding": null,
            "right": null,
            "top": null,
            "visibility": null,
            "width": null
          }
        },
        "952829dfcccb484cb972197947448dc8": {
          "model_module": "@jupyter-widgets/controls",
          "model_name": "ProgressStyleModel",
          "model_module_version": "1.5.0",
          "state": {
            "_model_module": "@jupyter-widgets/controls",
            "_model_module_version": "1.5.0",
            "_model_name": "ProgressStyleModel",
            "_view_count": null,
            "_view_module": "@jupyter-widgets/base",
            "_view_module_version": "1.2.0",
            "_view_name": "StyleView",
            "bar_color": null,
            "description_width": ""
          }
        },
        "858b739593114a568598a2de1552328d": {
          "model_module": "@jupyter-widgets/base",
          "model_name": "LayoutModel",
          "model_module_version": "1.2.0",
          "state": {
            "_model_module": "@jupyter-widgets/base",
            "_model_module_version": "1.2.0",
            "_model_name": "LayoutModel",
            "_view_count": null,
            "_view_module": "@jupyter-widgets/base",
            "_view_module_version": "1.2.0",
            "_view_name": "LayoutView",
            "align_content": null,
            "align_items": null,
            "align_self": null,
            "border": null,
            "bottom": null,
            "display": null,
            "flex": null,
            "flex_flow": null,
            "grid_area": null,
            "grid_auto_columns": null,
            "grid_auto_flow": null,
            "grid_auto_rows": null,
            "grid_column": null,
            "grid_gap": null,
            "grid_row": null,
            "grid_template_areas": null,
            "grid_template_columns": null,
            "grid_template_rows": null,
            "height": null,
            "justify_content": null,
            "justify_items": null,
            "left": null,
            "margin": null,
            "max_height": null,
            "max_width": null,
            "min_height": null,
            "min_width": null,
            "object_fit": null,
            "object_position": null,
            "order": null,
            "overflow": null,
            "overflow_x": null,
            "overflow_y": null,
            "padding": null,
            "right": null,
            "top": null,
            "visibility": null,
            "width": null
          }
        },
        "254bdd7e97dc49bfbad4ae6cf0b6099e": {
          "model_module": "@jupyter-widgets/controls",
          "model_name": "DescriptionStyleModel",
          "model_module_version": "1.5.0",
          "state": {
            "_model_module": "@jupyter-widgets/controls",
            "_model_module_version": "1.5.0",
            "_model_name": "DescriptionStyleModel",
            "_view_count": null,
            "_view_module": "@jupyter-widgets/base",
            "_view_module_version": "1.2.0",
            "_view_name": "StyleView",
            "description_width": ""
          }
        }
      }
    }
  },
  "cells": [
    {
      "cell_type": "code",
      "source": [
        "from google.colab import drive\n",
        "drive.mount('/content/drive')"
      ],
      "metadata": {
        "colab": {
          "base_uri": "https://localhost:8080/"
        },
        "id": "ZCVkok-g1GG_",
        "outputId": "8419706f-7df7-40d1-d11f-decca8d18cf6"
      },
      "execution_count": null,
      "outputs": [
        {
          "output_type": "stream",
          "name": "stdout",
          "text": [
            "Mounted at /content/drive\n"
          ]
        }
      ]
    },
    {
      "cell_type": "code",
      "source": [
        "!pip install -q transformers"
      ],
      "metadata": {
        "id": "khb8IIn70URQ",
        "colab": {
          "base_uri": "https://localhost:8080/"
        },
        "outputId": "7fe30fd2-283f-49df-8473-11f9d01938c6"
      },
      "execution_count": null,
      "outputs": [
        {
          "output_type": "stream",
          "name": "stdout",
          "text": [
            "\u001b[2K     \u001b[90m━━━━━━━━━━━━━━━━━━━━━━━━━━━━━━━━━━━━━━━━\u001b[0m \u001b[32m7.0/7.0 MB\u001b[0m \u001b[31m91.2 MB/s\u001b[0m eta \u001b[36m0:00:00\u001b[0m\n",
            "\u001b[2K     \u001b[90m━━━━━━━━━━━━━━━━━━━━━━━━━━━━━━━━━━━━━━━━\u001b[0m \u001b[32m7.8/7.8 MB\u001b[0m \u001b[31m107.7 MB/s\u001b[0m eta \u001b[36m0:00:00\u001b[0m\n",
            "\u001b[2K     \u001b[90m━━━━━━━━━━━━━━━━━━━━━━━━━━━━━━━━━━━━━━\u001b[0m \u001b[32m224.2/224.2 kB\u001b[0m \u001b[31m19.0 MB/s\u001b[0m eta \u001b[36m0:00:00\u001b[0m\n",
            "\u001b[?25h"
          ]
        }
      ]
    },
    {
      "cell_type": "code",
      "source": [
        "import transformers"
      ],
      "metadata": {
        "id": "ZWZ4in3e746X"
      },
      "execution_count": null,
      "outputs": []
    },
    {
      "cell_type": "markdown",
      "source": [
        "##Preprocessing Dataset"
      ],
      "metadata": {
        "id": "KIZlDxYg0nfO"
      }
    },
    {
      "cell_type": "code",
      "source": [
        "import pandas as pd\n",
        "import numpy as np"
      ],
      "metadata": {
        "id": "jI530eBP0rty"
      },
      "execution_count": null,
      "outputs": []
    },
    {
      "cell_type": "code",
      "source": [
        "\n",
        "import torch\n",
        "\n",
        "import copy\n",
        "import numpy as np\n",
        "import pandas as pd\n",
        "import seaborn as sns\n",
        "from pylab import rcParams\n",
        "import matplotlib.pyplot as plt\n",
        "from matplotlib import rc\n",
        "\n",
        "from sklearn.model_selection import train_test_split\n",
        "from tqdm import tqdm\n",
        "\n",
        "from torch import nn, optim\n",
        "from torch.utils import data\n",
        "from torch.utils.data import Dataset, DataLoader\n",
        "\n",
        "%matplotlib inline\n",
        "%config InlineBackend.figure_format='retina'\n",
        "\n",
        "sns.set(style='whitegrid', palette='muted', font_scale=1.2)\n",
        "HAPPY_COLORS_PALETTE = [\"#01BEFE\", \"#FFDD00\", \"#FF7D00\", \"#FF006D\", \"#ADFF02\", \"#8F00FF\"]\n",
        "sns.set_palette(sns.color_palette(HAPPY_COLORS_PALETTE))\n",
        "rcParams['figure.figsize'] = 8, 6\n",
        "RANDOM_SEED = 42\n",
        "np.random.seed(RANDOM_SEED)\n",
        "torch.manual_seed(RANDOM_SEED)"
      ],
      "metadata": {
        "colab": {
          "base_uri": "https://localhost:8080/"
        },
        "id": "ztG9LfCf7ul8",
        "outputId": "08cfebac-008d-4ce6-8e08-48e7d75d5b0f"
      },
      "execution_count": null,
      "outputs": [
        {
          "output_type": "execute_result",
          "data": {
            "text/plain": [
              "<torch._C.Generator at 0x7fe32bb9aa10>"
            ]
          },
          "metadata": {},
          "execution_count": 5
        }
      ]
    },
    {
      "cell_type": "code",
      "source": [
        "df = pd.read_csv(\"/content/final_dataset_appendedEverything.csv\")\n",
        "df.dropna()"
      ],
      "metadata": {
        "colab": {
          "base_uri": "https://localhost:8080/",
          "height": 818
        },
        "id": "cABTRzly0pCX",
        "outputId": "45d405fb-cc31-468c-ea02-02847e1b8f47"
      },
      "execution_count": null,
      "outputs": [
        {
          "output_type": "execute_result",
          "data": {
            "text/plain": [
              "      Unnamed: 0.2  Unnamed: 0.1  level_0  index  Unnamed: 0  \\\n",
              "0                0             0        0      0           0   \n",
              "1                1             1        2      2           2   \n",
              "2                2             2        5      5           5   \n",
              "3                3             3        6      6           6   \n",
              "4                4             4       10     10          10   \n",
              "...            ...           ...      ...    ...         ...   \n",
              "8687          8687          8687    12710  12745       12745   \n",
              "8688          8688          8688    12711  12746       12746   \n",
              "8689          8689          8689    12713  12748       12748   \n",
              "8690          8690          8690    12714  12749       12749   \n",
              "8691          8691          8691    12715  12750       12750   \n",
              "\n",
              "                                                   post  Mach  LSRP12  LSRP2  \\\n",
              "0                                 my heart my soul..T-T    68     1.3    2.5   \n",
              "1                 Free speech is a joke in this country    68     1.3    2.5   \n",
              "2     Make 500 sequels I don't care.Make another Jus...    68     1.3    2.5   \n",
              "3     Everybody wants a piece of the politically cor...    68     1.3    2.5   \n",
              "4                       And that's how a movement dies.    68     1.3    2.5   \n",
              "...                                                 ...   ...     ...    ...   \n",
              "8687                    TWO SUPERHUMANS IN ONE FRAME <3    53     1.9    3.1   \n",
              "8688  Man!!!\\nThe chase- UNBELIEVABLE!! Mushi and Ri...    53     1.9    3.1   \n",
              "8689                                              <3 <3    53     1.9    3.1   \n",
              "8690                               Madrid Triumphs!! :D    53     1.9    3.1   \n",
              "8691                  A small piece of heaven on earth.    53     1.9    3.1   \n",
              "\n",
              "      NRSM  Person         dark_triad  eng_usage_ratio  bng_usage_ratio  \\\n",
              "0        3       2       mach, psycho       100.000000         0.000000   \n",
              "1        3       2       mach, psycho       100.000000         0.000000   \n",
              "2        3       2       mach, psycho        76.470588        17.647059   \n",
              "3        3       2       mach, psycho       100.000000         0.000000   \n",
              "4        3       2       mach, psycho        83.333333        16.666667   \n",
              "...    ...     ...                ...              ...              ...   \n",
              "8687    19     100  psycho, narcisist        71.428571        14.285714   \n",
              "8688    19     100  psycho, narcisist        33.333333        55.555556   \n",
              "8689    19     100  psycho, narcisist        50.000000         0.000000   \n",
              "8690    19     100  psycho, narcisist        50.000000        25.000000   \n",
              "8691    19     100  psycho, narcisist       100.000000         0.000000   \n",
              "\n",
              "      eng_switching_ratio  bng_switching_ratio  \n",
              "0                0.000000             0.000000  \n",
              "1                0.000000             0.000000  \n",
              "2               66.666667            33.333333  \n",
              "3                0.000000             0.000000  \n",
              "4               50.000000            50.000000  \n",
              "...                   ...                  ...  \n",
              "8687            50.000000            50.000000  \n",
              "8688            60.000000            40.000000  \n",
              "8689             0.000000             0.000000  \n",
              "8690           100.000000             0.000000  \n",
              "8691             0.000000             0.000000  \n",
              "\n",
              "[8692 rows x 16 columns]"
            ],
            "text/html": [
              "\n",
              "  <div id=\"df-b21bc043-5a65-4c45-a205-17ae544ec45b\">\n",
              "    <div class=\"colab-df-container\">\n",
              "      <div>\n",
              "<style scoped>\n",
              "    .dataframe tbody tr th:only-of-type {\n",
              "        vertical-align: middle;\n",
              "    }\n",
              "\n",
              "    .dataframe tbody tr th {\n",
              "        vertical-align: top;\n",
              "    }\n",
              "\n",
              "    .dataframe thead th {\n",
              "        text-align: right;\n",
              "    }\n",
              "</style>\n",
              "<table border=\"1\" class=\"dataframe\">\n",
              "  <thead>\n",
              "    <tr style=\"text-align: right;\">\n",
              "      <th></th>\n",
              "      <th>Unnamed: 0.2</th>\n",
              "      <th>Unnamed: 0.1</th>\n",
              "      <th>level_0</th>\n",
              "      <th>index</th>\n",
              "      <th>Unnamed: 0</th>\n",
              "      <th>post</th>\n",
              "      <th>Mach</th>\n",
              "      <th>LSRP12</th>\n",
              "      <th>LSRP2</th>\n",
              "      <th>NRSM</th>\n",
              "      <th>Person</th>\n",
              "      <th>dark_triad</th>\n",
              "      <th>eng_usage_ratio</th>\n",
              "      <th>bng_usage_ratio</th>\n",
              "      <th>eng_switching_ratio</th>\n",
              "      <th>bng_switching_ratio</th>\n",
              "    </tr>\n",
              "  </thead>\n",
              "  <tbody>\n",
              "    <tr>\n",
              "      <th>0</th>\n",
              "      <td>0</td>\n",
              "      <td>0</td>\n",
              "      <td>0</td>\n",
              "      <td>0</td>\n",
              "      <td>0</td>\n",
              "      <td>my heart my soul..T-T</td>\n",
              "      <td>68</td>\n",
              "      <td>1.3</td>\n",
              "      <td>2.5</td>\n",
              "      <td>3</td>\n",
              "      <td>2</td>\n",
              "      <td>mach, psycho</td>\n",
              "      <td>100.000000</td>\n",
              "      <td>0.000000</td>\n",
              "      <td>0.000000</td>\n",
              "      <td>0.000000</td>\n",
              "    </tr>\n",
              "    <tr>\n",
              "      <th>1</th>\n",
              "      <td>1</td>\n",
              "      <td>1</td>\n",
              "      <td>2</td>\n",
              "      <td>2</td>\n",
              "      <td>2</td>\n",
              "      <td>Free speech is a joke in this country</td>\n",
              "      <td>68</td>\n",
              "      <td>1.3</td>\n",
              "      <td>2.5</td>\n",
              "      <td>3</td>\n",
              "      <td>2</td>\n",
              "      <td>mach, psycho</td>\n",
              "      <td>100.000000</td>\n",
              "      <td>0.000000</td>\n",
              "      <td>0.000000</td>\n",
              "      <td>0.000000</td>\n",
              "    </tr>\n",
              "    <tr>\n",
              "      <th>2</th>\n",
              "      <td>2</td>\n",
              "      <td>2</td>\n",
              "      <td>5</td>\n",
              "      <td>5</td>\n",
              "      <td>5</td>\n",
              "      <td>Make 500 sequels I don't care.Make another Jus...</td>\n",
              "      <td>68</td>\n",
              "      <td>1.3</td>\n",
              "      <td>2.5</td>\n",
              "      <td>3</td>\n",
              "      <td>2</td>\n",
              "      <td>mach, psycho</td>\n",
              "      <td>76.470588</td>\n",
              "      <td>17.647059</td>\n",
              "      <td>66.666667</td>\n",
              "      <td>33.333333</td>\n",
              "    </tr>\n",
              "    <tr>\n",
              "      <th>3</th>\n",
              "      <td>3</td>\n",
              "      <td>3</td>\n",
              "      <td>6</td>\n",
              "      <td>6</td>\n",
              "      <td>6</td>\n",
              "      <td>Everybody wants a piece of the politically cor...</td>\n",
              "      <td>68</td>\n",
              "      <td>1.3</td>\n",
              "      <td>2.5</td>\n",
              "      <td>3</td>\n",
              "      <td>2</td>\n",
              "      <td>mach, psycho</td>\n",
              "      <td>100.000000</td>\n",
              "      <td>0.000000</td>\n",
              "      <td>0.000000</td>\n",
              "      <td>0.000000</td>\n",
              "    </tr>\n",
              "    <tr>\n",
              "      <th>4</th>\n",
              "      <td>4</td>\n",
              "      <td>4</td>\n",
              "      <td>10</td>\n",
              "      <td>10</td>\n",
              "      <td>10</td>\n",
              "      <td>And that's how a movement dies.</td>\n",
              "      <td>68</td>\n",
              "      <td>1.3</td>\n",
              "      <td>2.5</td>\n",
              "      <td>3</td>\n",
              "      <td>2</td>\n",
              "      <td>mach, psycho</td>\n",
              "      <td>83.333333</td>\n",
              "      <td>16.666667</td>\n",
              "      <td>50.000000</td>\n",
              "      <td>50.000000</td>\n",
              "    </tr>\n",
              "    <tr>\n",
              "      <th>...</th>\n",
              "      <td>...</td>\n",
              "      <td>...</td>\n",
              "      <td>...</td>\n",
              "      <td>...</td>\n",
              "      <td>...</td>\n",
              "      <td>...</td>\n",
              "      <td>...</td>\n",
              "      <td>...</td>\n",
              "      <td>...</td>\n",
              "      <td>...</td>\n",
              "      <td>...</td>\n",
              "      <td>...</td>\n",
              "      <td>...</td>\n",
              "      <td>...</td>\n",
              "      <td>...</td>\n",
              "      <td>...</td>\n",
              "    </tr>\n",
              "    <tr>\n",
              "      <th>8687</th>\n",
              "      <td>8687</td>\n",
              "      <td>8687</td>\n",
              "      <td>12710</td>\n",
              "      <td>12745</td>\n",
              "      <td>12745</td>\n",
              "      <td>TWO SUPERHUMANS IN ONE FRAME &lt;3</td>\n",
              "      <td>53</td>\n",
              "      <td>1.9</td>\n",
              "      <td>3.1</td>\n",
              "      <td>19</td>\n",
              "      <td>100</td>\n",
              "      <td>psycho, narcisist</td>\n",
              "      <td>71.428571</td>\n",
              "      <td>14.285714</td>\n",
              "      <td>50.000000</td>\n",
              "      <td>50.000000</td>\n",
              "    </tr>\n",
              "    <tr>\n",
              "      <th>8688</th>\n",
              "      <td>8688</td>\n",
              "      <td>8688</td>\n",
              "      <td>12711</td>\n",
              "      <td>12746</td>\n",
              "      <td>12746</td>\n",
              "      <td>Man!!!\\nThe chase- UNBELIEVABLE!! Mushi and Ri...</td>\n",
              "      <td>53</td>\n",
              "      <td>1.9</td>\n",
              "      <td>3.1</td>\n",
              "      <td>19</td>\n",
              "      <td>100</td>\n",
              "      <td>psycho, narcisist</td>\n",
              "      <td>33.333333</td>\n",
              "      <td>55.555556</td>\n",
              "      <td>60.000000</td>\n",
              "      <td>40.000000</td>\n",
              "    </tr>\n",
              "    <tr>\n",
              "      <th>8689</th>\n",
              "      <td>8689</td>\n",
              "      <td>8689</td>\n",
              "      <td>12713</td>\n",
              "      <td>12748</td>\n",
              "      <td>12748</td>\n",
              "      <td>&lt;3 &lt;3</td>\n",
              "      <td>53</td>\n",
              "      <td>1.9</td>\n",
              "      <td>3.1</td>\n",
              "      <td>19</td>\n",
              "      <td>100</td>\n",
              "      <td>psycho, narcisist</td>\n",
              "      <td>50.000000</td>\n",
              "      <td>0.000000</td>\n",
              "      <td>0.000000</td>\n",
              "      <td>0.000000</td>\n",
              "    </tr>\n",
              "    <tr>\n",
              "      <th>8690</th>\n",
              "      <td>8690</td>\n",
              "      <td>8690</td>\n",
              "      <td>12714</td>\n",
              "      <td>12749</td>\n",
              "      <td>12749</td>\n",
              "      <td>Madrid Triumphs!! :D</td>\n",
              "      <td>53</td>\n",
              "      <td>1.9</td>\n",
              "      <td>3.1</td>\n",
              "      <td>19</td>\n",
              "      <td>100</td>\n",
              "      <td>psycho, narcisist</td>\n",
              "      <td>50.000000</td>\n",
              "      <td>25.000000</td>\n",
              "      <td>100.000000</td>\n",
              "      <td>0.000000</td>\n",
              "    </tr>\n",
              "    <tr>\n",
              "      <th>8691</th>\n",
              "      <td>8691</td>\n",
              "      <td>8691</td>\n",
              "      <td>12715</td>\n",
              "      <td>12750</td>\n",
              "      <td>12750</td>\n",
              "      <td>A small piece of heaven on earth.</td>\n",
              "      <td>53</td>\n",
              "      <td>1.9</td>\n",
              "      <td>3.1</td>\n",
              "      <td>19</td>\n",
              "      <td>100</td>\n",
              "      <td>psycho, narcisist</td>\n",
              "      <td>100.000000</td>\n",
              "      <td>0.000000</td>\n",
              "      <td>0.000000</td>\n",
              "      <td>0.000000</td>\n",
              "    </tr>\n",
              "  </tbody>\n",
              "</table>\n",
              "<p>8692 rows × 16 columns</p>\n",
              "</div>\n",
              "      <button class=\"colab-df-convert\" onclick=\"convertToInteractive('df-b21bc043-5a65-4c45-a205-17ae544ec45b')\"\n",
              "              title=\"Convert this dataframe to an interactive table.\"\n",
              "              style=\"display:none;\">\n",
              "        \n",
              "  <svg xmlns=\"http://www.w3.org/2000/svg\" height=\"24px\"viewBox=\"0 0 24 24\"\n",
              "       width=\"24px\">\n",
              "    <path d=\"M0 0h24v24H0V0z\" fill=\"none\"/>\n",
              "    <path d=\"M18.56 5.44l.94 2.06.94-2.06 2.06-.94-2.06-.94-.94-2.06-.94 2.06-2.06.94zm-11 1L8.5 8.5l.94-2.06 2.06-.94-2.06-.94L8.5 2.5l-.94 2.06-2.06.94zm10 10l.94 2.06.94-2.06 2.06-.94-2.06-.94-.94-2.06-.94 2.06-2.06.94z\"/><path d=\"M17.41 7.96l-1.37-1.37c-.4-.4-.92-.59-1.43-.59-.52 0-1.04.2-1.43.59L10.3 9.45l-7.72 7.72c-.78.78-.78 2.05 0 2.83L4 21.41c.39.39.9.59 1.41.59.51 0 1.02-.2 1.41-.59l7.78-7.78 2.81-2.81c.8-.78.8-2.07 0-2.86zM5.41 20L4 18.59l7.72-7.72 1.47 1.35L5.41 20z\"/>\n",
              "  </svg>\n",
              "      </button>\n",
              "      \n",
              "  <style>\n",
              "    .colab-df-container {\n",
              "      display:flex;\n",
              "      flex-wrap:wrap;\n",
              "      gap: 12px;\n",
              "    }\n",
              "\n",
              "    .colab-df-convert {\n",
              "      background-color: #E8F0FE;\n",
              "      border: none;\n",
              "      border-radius: 50%;\n",
              "      cursor: pointer;\n",
              "      display: none;\n",
              "      fill: #1967D2;\n",
              "      height: 32px;\n",
              "      padding: 0 0 0 0;\n",
              "      width: 32px;\n",
              "    }\n",
              "\n",
              "    .colab-df-convert:hover {\n",
              "      background-color: #E2EBFA;\n",
              "      box-shadow: 0px 1px 2px rgba(60, 64, 67, 0.3), 0px 1px 3px 1px rgba(60, 64, 67, 0.15);\n",
              "      fill: #174EA6;\n",
              "    }\n",
              "\n",
              "    [theme=dark] .colab-df-convert {\n",
              "      background-color: #3B4455;\n",
              "      fill: #D2E3FC;\n",
              "    }\n",
              "\n",
              "    [theme=dark] .colab-df-convert:hover {\n",
              "      background-color: #434B5C;\n",
              "      box-shadow: 0px 1px 3px 1px rgba(0, 0, 0, 0.15);\n",
              "      filter: drop-shadow(0px 1px 2px rgba(0, 0, 0, 0.3));\n",
              "      fill: #FFFFFF;\n",
              "    }\n",
              "  </style>\n",
              "\n",
              "      <script>\n",
              "        const buttonEl =\n",
              "          document.querySelector('#df-b21bc043-5a65-4c45-a205-17ae544ec45b button.colab-df-convert');\n",
              "        buttonEl.style.display =\n",
              "          google.colab.kernel.accessAllowed ? 'block' : 'none';\n",
              "\n",
              "        async function convertToInteractive(key) {\n",
              "          const element = document.querySelector('#df-b21bc043-5a65-4c45-a205-17ae544ec45b');\n",
              "          const dataTable =\n",
              "            await google.colab.kernel.invokeFunction('convertToInteractive',\n",
              "                                                     [key], {});\n",
              "          if (!dataTable) return;\n",
              "\n",
              "          const docLinkHtml = 'Like what you see? Visit the ' +\n",
              "            '<a target=\"_blank\" href=https://colab.research.google.com/notebooks/data_table.ipynb>data table notebook</a>'\n",
              "            + ' to learn more about interactive tables.';\n",
              "          element.innerHTML = '';\n",
              "          dataTable['output_type'] = 'display_data';\n",
              "          await google.colab.output.renderOutput(dataTable, element);\n",
              "          const docLink = document.createElement('div');\n",
              "          docLink.innerHTML = docLinkHtml;\n",
              "          element.appendChild(docLink);\n",
              "        }\n",
              "      </script>\n",
              "    </div>\n",
              "  </div>\n",
              "  "
            ]
          },
          "metadata": {},
          "execution_count": 6
        }
      ]
    },
    {
      "cell_type": "code",
      "source": [
        "mean = df['LSRP12'].mean()\n",
        "mean"
      ],
      "metadata": {
        "colab": {
          "base_uri": "https://localhost:8080/"
        },
        "id": "ghD65GVg_ufA",
        "outputId": "b2ebce70-427c-4d60-e9bd-d3e6172f8e03"
      },
      "execution_count": null,
      "outputs": [
        {
          "output_type": "execute_result",
          "data": {
            "text/plain": [
              "1.648341866083755"
            ]
          },
          "metadata": {},
          "execution_count": 7
        }
      ]
    },
    {
      "cell_type": "code",
      "source": [
        "def compare(ratings):\n",
        "    rating = int(ratings)\n",
        "    if rating > 1.60:\n",
        "        return 1\n",
        "    else:\n",
        "        return 0"
      ],
      "metadata": {
        "id": "3zHdeloEAIUH"
      },
      "execution_count": null,
      "outputs": []
    },
    {
      "cell_type": "code",
      "source": [
        "df['Trait'] = df.LSRP12.apply(compare)"
      ],
      "metadata": {
        "id": "cbWXdV3ZAaek"
      },
      "execution_count": null,
      "outputs": []
    },
    {
      "cell_type": "code",
      "source": [
        "df"
      ],
      "metadata": {
        "colab": {
          "base_uri": "https://localhost:8080/",
          "height": 818
        },
        "id": "bCgBclq5BY_H",
        "outputId": "35f15092-660d-470e-b494-e0b578419459"
      },
      "execution_count": null,
      "outputs": [
        {
          "output_type": "execute_result",
          "data": {
            "text/plain": [
              "      Unnamed: 0.2  Unnamed: 0.1  level_0  index  Unnamed: 0  \\\n",
              "0                0             0        0      0           0   \n",
              "1                1             1        2      2           2   \n",
              "2                2             2        5      5           5   \n",
              "3                3             3        6      6           6   \n",
              "4                4             4       10     10          10   \n",
              "...            ...           ...      ...    ...         ...   \n",
              "8687          8687          8687    12710  12745       12745   \n",
              "8688          8688          8688    12711  12746       12746   \n",
              "8689          8689          8689    12713  12748       12748   \n",
              "8690          8690          8690    12714  12749       12749   \n",
              "8691          8691          8691    12715  12750       12750   \n",
              "\n",
              "                                                   post  Mach  LSRP12  LSRP2  \\\n",
              "0                                 my heart my soul..T-T    68     1.3    2.5   \n",
              "1                 Free speech is a joke in this country    68     1.3    2.5   \n",
              "2     Make 500 sequels I don't care.Make another Jus...    68     1.3    2.5   \n",
              "3     Everybody wants a piece of the politically cor...    68     1.3    2.5   \n",
              "4                       And that's how a movement dies.    68     1.3    2.5   \n",
              "...                                                 ...   ...     ...    ...   \n",
              "8687                    TWO SUPERHUMANS IN ONE FRAME <3    53     1.9    3.1   \n",
              "8688  Man!!!\\nThe chase- UNBELIEVABLE!! Mushi and Ri...    53     1.9    3.1   \n",
              "8689                                              <3 <3    53     1.9    3.1   \n",
              "8690                               Madrid Triumphs!! :D    53     1.9    3.1   \n",
              "8691                  A small piece of heaven on earth.    53     1.9    3.1   \n",
              "\n",
              "      NRSM  Person         dark_triad  eng_usage_ratio  bng_usage_ratio  \\\n",
              "0        3       2       mach, psycho       100.000000         0.000000   \n",
              "1        3       2       mach, psycho       100.000000         0.000000   \n",
              "2        3       2       mach, psycho        76.470588        17.647059   \n",
              "3        3       2       mach, psycho       100.000000         0.000000   \n",
              "4        3       2       mach, psycho        83.333333        16.666667   \n",
              "...    ...     ...                ...              ...              ...   \n",
              "8687    19     100  psycho, narcisist        71.428571        14.285714   \n",
              "8688    19     100  psycho, narcisist        33.333333        55.555556   \n",
              "8689    19     100  psycho, narcisist        50.000000         0.000000   \n",
              "8690    19     100  psycho, narcisist        50.000000        25.000000   \n",
              "8691    19     100  psycho, narcisist       100.000000         0.000000   \n",
              "\n",
              "      eng_switching_ratio  bng_switching_ratio  Trait  \n",
              "0                0.000000             0.000000      0  \n",
              "1                0.000000             0.000000      0  \n",
              "2               66.666667            33.333333      0  \n",
              "3                0.000000             0.000000      0  \n",
              "4               50.000000            50.000000      0  \n",
              "...                   ...                  ...    ...  \n",
              "8687            50.000000            50.000000      0  \n",
              "8688            60.000000            40.000000      0  \n",
              "8689             0.000000             0.000000      0  \n",
              "8690           100.000000             0.000000      0  \n",
              "8691             0.000000             0.000000      0  \n",
              "\n",
              "[8692 rows x 17 columns]"
            ],
            "text/html": [
              "\n",
              "  <div id=\"df-68d74ab6-5db2-4e37-b8ee-18cdacf8841a\">\n",
              "    <div class=\"colab-df-container\">\n",
              "      <div>\n",
              "<style scoped>\n",
              "    .dataframe tbody tr th:only-of-type {\n",
              "        vertical-align: middle;\n",
              "    }\n",
              "\n",
              "    .dataframe tbody tr th {\n",
              "        vertical-align: top;\n",
              "    }\n",
              "\n",
              "    .dataframe thead th {\n",
              "        text-align: right;\n",
              "    }\n",
              "</style>\n",
              "<table border=\"1\" class=\"dataframe\">\n",
              "  <thead>\n",
              "    <tr style=\"text-align: right;\">\n",
              "      <th></th>\n",
              "      <th>Unnamed: 0.2</th>\n",
              "      <th>Unnamed: 0.1</th>\n",
              "      <th>level_0</th>\n",
              "      <th>index</th>\n",
              "      <th>Unnamed: 0</th>\n",
              "      <th>post</th>\n",
              "      <th>Mach</th>\n",
              "      <th>LSRP12</th>\n",
              "      <th>LSRP2</th>\n",
              "      <th>NRSM</th>\n",
              "      <th>Person</th>\n",
              "      <th>dark_triad</th>\n",
              "      <th>eng_usage_ratio</th>\n",
              "      <th>bng_usage_ratio</th>\n",
              "      <th>eng_switching_ratio</th>\n",
              "      <th>bng_switching_ratio</th>\n",
              "      <th>Trait</th>\n",
              "    </tr>\n",
              "  </thead>\n",
              "  <tbody>\n",
              "    <tr>\n",
              "      <th>0</th>\n",
              "      <td>0</td>\n",
              "      <td>0</td>\n",
              "      <td>0</td>\n",
              "      <td>0</td>\n",
              "      <td>0</td>\n",
              "      <td>my heart my soul..T-T</td>\n",
              "      <td>68</td>\n",
              "      <td>1.3</td>\n",
              "      <td>2.5</td>\n",
              "      <td>3</td>\n",
              "      <td>2</td>\n",
              "      <td>mach, psycho</td>\n",
              "      <td>100.000000</td>\n",
              "      <td>0.000000</td>\n",
              "      <td>0.000000</td>\n",
              "      <td>0.000000</td>\n",
              "      <td>0</td>\n",
              "    </tr>\n",
              "    <tr>\n",
              "      <th>1</th>\n",
              "      <td>1</td>\n",
              "      <td>1</td>\n",
              "      <td>2</td>\n",
              "      <td>2</td>\n",
              "      <td>2</td>\n",
              "      <td>Free speech is a joke in this country</td>\n",
              "      <td>68</td>\n",
              "      <td>1.3</td>\n",
              "      <td>2.5</td>\n",
              "      <td>3</td>\n",
              "      <td>2</td>\n",
              "      <td>mach, psycho</td>\n",
              "      <td>100.000000</td>\n",
              "      <td>0.000000</td>\n",
              "      <td>0.000000</td>\n",
              "      <td>0.000000</td>\n",
              "      <td>0</td>\n",
              "    </tr>\n",
              "    <tr>\n",
              "      <th>2</th>\n",
              "      <td>2</td>\n",
              "      <td>2</td>\n",
              "      <td>5</td>\n",
              "      <td>5</td>\n",
              "      <td>5</td>\n",
              "      <td>Make 500 sequels I don't care.Make another Jus...</td>\n",
              "      <td>68</td>\n",
              "      <td>1.3</td>\n",
              "      <td>2.5</td>\n",
              "      <td>3</td>\n",
              "      <td>2</td>\n",
              "      <td>mach, psycho</td>\n",
              "      <td>76.470588</td>\n",
              "      <td>17.647059</td>\n",
              "      <td>66.666667</td>\n",
              "      <td>33.333333</td>\n",
              "      <td>0</td>\n",
              "    </tr>\n",
              "    <tr>\n",
              "      <th>3</th>\n",
              "      <td>3</td>\n",
              "      <td>3</td>\n",
              "      <td>6</td>\n",
              "      <td>6</td>\n",
              "      <td>6</td>\n",
              "      <td>Everybody wants a piece of the politically cor...</td>\n",
              "      <td>68</td>\n",
              "      <td>1.3</td>\n",
              "      <td>2.5</td>\n",
              "      <td>3</td>\n",
              "      <td>2</td>\n",
              "      <td>mach, psycho</td>\n",
              "      <td>100.000000</td>\n",
              "      <td>0.000000</td>\n",
              "      <td>0.000000</td>\n",
              "      <td>0.000000</td>\n",
              "      <td>0</td>\n",
              "    </tr>\n",
              "    <tr>\n",
              "      <th>4</th>\n",
              "      <td>4</td>\n",
              "      <td>4</td>\n",
              "      <td>10</td>\n",
              "      <td>10</td>\n",
              "      <td>10</td>\n",
              "      <td>And that's how a movement dies.</td>\n",
              "      <td>68</td>\n",
              "      <td>1.3</td>\n",
              "      <td>2.5</td>\n",
              "      <td>3</td>\n",
              "      <td>2</td>\n",
              "      <td>mach, psycho</td>\n",
              "      <td>83.333333</td>\n",
              "      <td>16.666667</td>\n",
              "      <td>50.000000</td>\n",
              "      <td>50.000000</td>\n",
              "      <td>0</td>\n",
              "    </tr>\n",
              "    <tr>\n",
              "      <th>...</th>\n",
              "      <td>...</td>\n",
              "      <td>...</td>\n",
              "      <td>...</td>\n",
              "      <td>...</td>\n",
              "      <td>...</td>\n",
              "      <td>...</td>\n",
              "      <td>...</td>\n",
              "      <td>...</td>\n",
              "      <td>...</td>\n",
              "      <td>...</td>\n",
              "      <td>...</td>\n",
              "      <td>...</td>\n",
              "      <td>...</td>\n",
              "      <td>...</td>\n",
              "      <td>...</td>\n",
              "      <td>...</td>\n",
              "      <td>...</td>\n",
              "    </tr>\n",
              "    <tr>\n",
              "      <th>8687</th>\n",
              "      <td>8687</td>\n",
              "      <td>8687</td>\n",
              "      <td>12710</td>\n",
              "      <td>12745</td>\n",
              "      <td>12745</td>\n",
              "      <td>TWO SUPERHUMANS IN ONE FRAME &lt;3</td>\n",
              "      <td>53</td>\n",
              "      <td>1.9</td>\n",
              "      <td>3.1</td>\n",
              "      <td>19</td>\n",
              "      <td>100</td>\n",
              "      <td>psycho, narcisist</td>\n",
              "      <td>71.428571</td>\n",
              "      <td>14.285714</td>\n",
              "      <td>50.000000</td>\n",
              "      <td>50.000000</td>\n",
              "      <td>0</td>\n",
              "    </tr>\n",
              "    <tr>\n",
              "      <th>8688</th>\n",
              "      <td>8688</td>\n",
              "      <td>8688</td>\n",
              "      <td>12711</td>\n",
              "      <td>12746</td>\n",
              "      <td>12746</td>\n",
              "      <td>Man!!!\\nThe chase- UNBELIEVABLE!! Mushi and Ri...</td>\n",
              "      <td>53</td>\n",
              "      <td>1.9</td>\n",
              "      <td>3.1</td>\n",
              "      <td>19</td>\n",
              "      <td>100</td>\n",
              "      <td>psycho, narcisist</td>\n",
              "      <td>33.333333</td>\n",
              "      <td>55.555556</td>\n",
              "      <td>60.000000</td>\n",
              "      <td>40.000000</td>\n",
              "      <td>0</td>\n",
              "    </tr>\n",
              "    <tr>\n",
              "      <th>8689</th>\n",
              "      <td>8689</td>\n",
              "      <td>8689</td>\n",
              "      <td>12713</td>\n",
              "      <td>12748</td>\n",
              "      <td>12748</td>\n",
              "      <td>&lt;3 &lt;3</td>\n",
              "      <td>53</td>\n",
              "      <td>1.9</td>\n",
              "      <td>3.1</td>\n",
              "      <td>19</td>\n",
              "      <td>100</td>\n",
              "      <td>psycho, narcisist</td>\n",
              "      <td>50.000000</td>\n",
              "      <td>0.000000</td>\n",
              "      <td>0.000000</td>\n",
              "      <td>0.000000</td>\n",
              "      <td>0</td>\n",
              "    </tr>\n",
              "    <tr>\n",
              "      <th>8690</th>\n",
              "      <td>8690</td>\n",
              "      <td>8690</td>\n",
              "      <td>12714</td>\n",
              "      <td>12749</td>\n",
              "      <td>12749</td>\n",
              "      <td>Madrid Triumphs!! :D</td>\n",
              "      <td>53</td>\n",
              "      <td>1.9</td>\n",
              "      <td>3.1</td>\n",
              "      <td>19</td>\n",
              "      <td>100</td>\n",
              "      <td>psycho, narcisist</td>\n",
              "      <td>50.000000</td>\n",
              "      <td>25.000000</td>\n",
              "      <td>100.000000</td>\n",
              "      <td>0.000000</td>\n",
              "      <td>0</td>\n",
              "    </tr>\n",
              "    <tr>\n",
              "      <th>8691</th>\n",
              "      <td>8691</td>\n",
              "      <td>8691</td>\n",
              "      <td>12715</td>\n",
              "      <td>12750</td>\n",
              "      <td>12750</td>\n",
              "      <td>A small piece of heaven on earth.</td>\n",
              "      <td>53</td>\n",
              "      <td>1.9</td>\n",
              "      <td>3.1</td>\n",
              "      <td>19</td>\n",
              "      <td>100</td>\n",
              "      <td>psycho, narcisist</td>\n",
              "      <td>100.000000</td>\n",
              "      <td>0.000000</td>\n",
              "      <td>0.000000</td>\n",
              "      <td>0.000000</td>\n",
              "      <td>0</td>\n",
              "    </tr>\n",
              "  </tbody>\n",
              "</table>\n",
              "<p>8692 rows × 17 columns</p>\n",
              "</div>\n",
              "      <button class=\"colab-df-convert\" onclick=\"convertToInteractive('df-68d74ab6-5db2-4e37-b8ee-18cdacf8841a')\"\n",
              "              title=\"Convert this dataframe to an interactive table.\"\n",
              "              style=\"display:none;\">\n",
              "        \n",
              "  <svg xmlns=\"http://www.w3.org/2000/svg\" height=\"24px\"viewBox=\"0 0 24 24\"\n",
              "       width=\"24px\">\n",
              "    <path d=\"M0 0h24v24H0V0z\" fill=\"none\"/>\n",
              "    <path d=\"M18.56 5.44l.94 2.06.94-2.06 2.06-.94-2.06-.94-.94-2.06-.94 2.06-2.06.94zm-11 1L8.5 8.5l.94-2.06 2.06-.94-2.06-.94L8.5 2.5l-.94 2.06-2.06.94zm10 10l.94 2.06.94-2.06 2.06-.94-2.06-.94-.94-2.06-.94 2.06-2.06.94z\"/><path d=\"M17.41 7.96l-1.37-1.37c-.4-.4-.92-.59-1.43-.59-.52 0-1.04.2-1.43.59L10.3 9.45l-7.72 7.72c-.78.78-.78 2.05 0 2.83L4 21.41c.39.39.9.59 1.41.59.51 0 1.02-.2 1.41-.59l7.78-7.78 2.81-2.81c.8-.78.8-2.07 0-2.86zM5.41 20L4 18.59l7.72-7.72 1.47 1.35L5.41 20z\"/>\n",
              "  </svg>\n",
              "      </button>\n",
              "      \n",
              "  <style>\n",
              "    .colab-df-container {\n",
              "      display:flex;\n",
              "      flex-wrap:wrap;\n",
              "      gap: 12px;\n",
              "    }\n",
              "\n",
              "    .colab-df-convert {\n",
              "      background-color: #E8F0FE;\n",
              "      border: none;\n",
              "      border-radius: 50%;\n",
              "      cursor: pointer;\n",
              "      display: none;\n",
              "      fill: #1967D2;\n",
              "      height: 32px;\n",
              "      padding: 0 0 0 0;\n",
              "      width: 32px;\n",
              "    }\n",
              "\n",
              "    .colab-df-convert:hover {\n",
              "      background-color: #E2EBFA;\n",
              "      box-shadow: 0px 1px 2px rgba(60, 64, 67, 0.3), 0px 1px 3px 1px rgba(60, 64, 67, 0.15);\n",
              "      fill: #174EA6;\n",
              "    }\n",
              "\n",
              "    [theme=dark] .colab-df-convert {\n",
              "      background-color: #3B4455;\n",
              "      fill: #D2E3FC;\n",
              "    }\n",
              "\n",
              "    [theme=dark] .colab-df-convert:hover {\n",
              "      background-color: #434B5C;\n",
              "      box-shadow: 0px 1px 3px 1px rgba(0, 0, 0, 0.15);\n",
              "      filter: drop-shadow(0px 1px 2px rgba(0, 0, 0, 0.3));\n",
              "      fill: #FFFFFF;\n",
              "    }\n",
              "  </style>\n",
              "\n",
              "      <script>\n",
              "        const buttonEl =\n",
              "          document.querySelector('#df-68d74ab6-5db2-4e37-b8ee-18cdacf8841a button.colab-df-convert');\n",
              "        buttonEl.style.display =\n",
              "          google.colab.kernel.accessAllowed ? 'block' : 'none';\n",
              "\n",
              "        async function convertToInteractive(key) {\n",
              "          const element = document.querySelector('#df-68d74ab6-5db2-4e37-b8ee-18cdacf8841a');\n",
              "          const dataTable =\n",
              "            await google.colab.kernel.invokeFunction('convertToInteractive',\n",
              "                                                     [key], {});\n",
              "          if (!dataTable) return;\n",
              "\n",
              "          const docLinkHtml = 'Like what you see? Visit the ' +\n",
              "            '<a target=\"_blank\" href=https://colab.research.google.com/notebooks/data_table.ipynb>data table notebook</a>'\n",
              "            + ' to learn more about interactive tables.';\n",
              "          element.innerHTML = '';\n",
              "          dataTable['output_type'] = 'display_data';\n",
              "          await google.colab.output.renderOutput(dataTable, element);\n",
              "          const docLink = document.createElement('div');\n",
              "          docLink.innerHTML = docLinkHtml;\n",
              "          element.appendChild(docLink);\n",
              "        }\n",
              "      </script>\n",
              "    </div>\n",
              "  </div>\n",
              "  "
            ]
          },
          "metadata": {},
          "execution_count": 10
        }
      ]
    },
    {
      "cell_type": "code",
      "source": [
        "sns.countplot(data = df, x = 'Trait')\n",
        "plt.show()"
      ],
      "metadata": {
        "colab": {
          "base_uri": "https://localhost:8080/",
          "height": 556
        },
        "id": "j4uqGcpQ-kWY",
        "outputId": "017f857e-8814-4289-9f6e-f8e4c0d001da"
      },
      "execution_count": null,
      "outputs": [
        {
          "output_type": "display_data",
          "data": {
            "text/plain": [
              "<Figure size 800x600 with 1 Axes>"
            ],
            "image/png": "[encoded data removed]"
          },
          "metadata": {
            "image/png": {
              "width": 725,
              "height": 539
            }
          }
        }
      ]
    },
    {
      "cell_type": "code",
      "source": [
        "class_names = ['Not Psychopathy', 'Psychopathy']"
      ],
      "metadata": {
        "id": "NSmKLuae7KFO"
      },
      "execution_count": null,
      "outputs": []
    },
    {
      "cell_type": "code",
      "source": [
        "ax = sns.countplot(data =df, x = 'Trait')\n",
        "plt.xlabel('Trait count')\n",
        "ax.set_xticklabels(class_names);"
      ],
      "metadata": {
        "colab": {
          "base_uri": "https://localhost:8080/",
          "height": 556
        },
        "id": "VDuH-hdM7gtq",
        "outputId": "c8d912b2-37e7-4762-cea4-1449c19f62bf"
      },
      "execution_count": null,
      "outputs": [
        {
          "output_type": "display_data",
          "data": {
            "text/plain": [
              "<Figure size 800x600 with 1 Axes>"
            ],
            "image/png": "[encoded data removed]"
          },
          "metadata": {
            "image/png": {
              "width": 725,
              "height": 539
            }
          }
        }
      ]
    },
    {
      "cell_type": "code",
      "source": [
        "# we will be using pre-trained tokenizer provided by huggingface\n",
        "\n",
        "# from transformers import AutoTokenizer, AutoModelForMaskedLM\n",
        "\n",
        "# tokenizer = AutoTokenizer.from_pretrained(\"bert-base-multilingual-cased\")\n",
        "\n",
        "from transformers import BertTokenizer, BertModel\n",
        "\n",
        "tokenizer = BertTokenizer.from_pretrained('bert-base-multilingual-cased')\n"
      ],
      "metadata": {
        "id": "h3dsoimA9SaN",
        "colab": {
          "base_uri": "https://localhost:8080/",
          "height": 113,
          "referenced_widgets": [
            "afb47aca6983469a8be10a232d8fa226",
            "b100e14e1d364ba4aaaf3f33d97de9ac",
            "8859a9f42f014c2db3d6b386b1614525",
            "4828c5ffd0ea47e7882a54033f4f8872",
            "488cd1d894cb49b8b56c1f07695c5227",
            "1ab762d72dd246f48dcc0a2a2aa9a732",
            "03219b426664430e839dd875fe3fe83d",
            "2f190cb10bf8439fb8d5452b192941fe",
            "d844657d5bc149678bee6408bdedba68",
            "ec917b93708240979976c8e18f89493c",
            "635cb98c7f72460d9532167fd61c3d75",
            "8a81f4838e7d4c5e8bc1064bd4fc9b5d",
            "497dc98ed0c34bbcbf0a049c79640694",
            "a9fab57551fd491db3a7ffa28e12700d",
            "acbb20493ad94096a93c5ae8969357a5",
            "f4a24510378844c0a69e205457ba716f",
            "90715996a49d4eb18a757c6b9f867b1f",
            "27ae748c6c32494f84e4e82f4dd3584a",
            "823d0047861e424594a9dd5ef3c3fbb5",
            "160c3f0831c649e6bc89041d61668765",
            "f335590c59954422868cf127df656188",
            "77f87ae207364042970a467f7972da17",
            "afe37110b2c244299af7bf8f1308d90c",
            "7178acdbdfc54f1092a315c06b9f2704",
            "889816a614cd4295831f691a348daef2",
            "4aa72217b50e4d2d830f0046f1953933",
            "a7d7d70008ed4df5b9f5e095f3de235a",
            "778844389ebb42b08487675336a07fdf",
            "91fcb3e41840430f8d5fd821f92ee384",
            "50c2f8e6dc844f19b4bf7820a1b3308d",
            "7bd334e98d264de4aebdd5602ed6a551",
            "82fbd98f44114397b8130f72e73be4d4",
            "f6b1a0fa90884024a76b2632d2a7dcec"
          ]
        },
        "outputId": "f1a81602-7c05-4f3b-f530-5ea7c38cd599"
      },
      "execution_count": null,
      "outputs": [
        {
          "output_type": "display_data",
          "data": {
            "text/plain": [
              "Downloading (…)solve/main/vocab.txt:   0%|          | 0.00/996k [00:00<?, ?B/s]"
            ],
            "application/vnd.jupyter.widget-view+json": {
              "version_major": 2,
              "version_minor": 0,
              "model_id": "afb47aca6983469a8be10a232d8fa226"
            }
          },
          "metadata": {}
        },
        {
          "output_type": "display_data",
          "data": {
            "text/plain": [
              "Downloading (…)okenizer_config.json:   0%|          | 0.00/29.0 [00:00<?, ?B/s]"
            ],
            "application/vnd.jupyter.widget-view+json": {
              "version_major": 2,
              "version_minor": 0,
              "model_id": "8a81f4838e7d4c5e8bc1064bd4fc9b5d"
            }
          },
          "metadata": {}
        },
        {
          "output_type": "display_data",
          "data": {
            "text/plain": [
              "Downloading (…)lve/main/config.json:   0%|          | 0.00/625 [00:00<?, ?B/s]"
            ],
            "application/vnd.jupyter.widget-view+json": {
              "version_major": 2,
              "version_minor": 0,
              "model_id": "afe37110b2c244299af7bf8f1308d90c"
            }
          },
          "metadata": {}
        }
      ]
    },
    {
      "cell_type": "markdown",
      "source": [
        "##Text Preprocessing"
      ],
      "metadata": {
        "id": "zYyB95nPGkI9"
      }
    },
    {
      "cell_type": "code",
      "source": [
        "# now I am showing how tokenizer helps creating tokens in a sentence so that bert can understand\n",
        "\n",
        "simple_text = 'When was I last outside? I am stucked at home for last two weeks. '\n",
        "tokens = tokenizer.tokenize(simple_text)"
      ],
      "metadata": {
        "id": "O_2pyubVGIUi"
      },
      "execution_count": null,
      "outputs": []
    },
    {
      "cell_type": "code",
      "source": [
        "tokens"
      ],
      "metadata": {
        "colab": {
          "base_uri": "https://localhost:8080/"
        },
        "id": "mu04-1yeGTCw",
        "outputId": "c50f2ed9-d591-4832-89af-70721be25bbd"
      },
      "execution_count": null,
      "outputs": [
        {
          "output_type": "execute_result",
          "data": {
            "text/plain": [
              "['When',\n",
              " 'was',\n",
              " 'I',\n",
              " 'last',\n",
              " 'outside',\n",
              " '?',\n",
              " 'I',\n",
              " 'am',\n",
              " 'st',\n",
              " '##uck',\n",
              " '##ed',\n",
              " 'at',\n",
              " 'home',\n",
              " 'for',\n",
              " 'last',\n",
              " 'two',\n",
              " 'weeks',\n",
              " '.']"
            ]
          },
          "metadata": {},
          "execution_count": 15
        }
      ]
    },
    {
      "cell_type": "code",
      "source": [
        "# each tokens will have id's and these ids will be fed to bert model as models don't understand text.\n",
        "token_ids = tokenizer.convert_tokens_to_ids(tokens)"
      ],
      "metadata": {
        "id": "tiW47a7KGWiy"
      },
      "execution_count": null,
      "outputs": []
    },
    {
      "cell_type": "code",
      "source": [
        "# printing for better undrstanding\n",
        "\n",
        "print(f'Sentence : {simple_text}')\n",
        "print(f'Tokens : {tokens}')\n",
        "print(f'Token ID : {token_ids}')"
      ],
      "metadata": {
        "colab": {
          "base_uri": "https://localhost:8080/"
        },
        "id": "e_9OMk60Gep-",
        "outputId": "fd646024-ff2e-4f9a-9a88-4b96766fe5df"
      },
      "execution_count": null,
      "outputs": [
        {
          "output_type": "stream",
          "name": "stdout",
          "text": [
            "Sentence : When was I last outside? I am stucked at home for last two weeks. \n",
            "Tokens : ['When', 'was', 'I', 'last', 'outside', '?', 'I', 'am', 'st', '##uck', '##ed', 'at', 'home', 'for', 'last', 'two', 'weeks', '.']\n",
            "Token ID : [12242, 10134, 146, 12469, 17555, 136, 146, 10392, 28780, 31746, 10336, 10160, 11816, 10142, 12469, 10551, 20750, 119]\n"
          ]
        }
      ]
    },
    {
      "cell_type": "code",
      "source": [
        "##Special tokens\n",
        "\n",
        "tokenizer.sep_token, tokenizer.sep_token_id"
      ],
      "metadata": {
        "colab": {
          "base_uri": "https://localhost:8080/"
        },
        "id": "FHJOuE-zGiaL",
        "outputId": "c27a8873-9deb-4fae-ea7c-5907ab3d5bc8"
      },
      "execution_count": null,
      "outputs": [
        {
          "output_type": "execute_result",
          "data": {
            "text/plain": [
              "('[SEP]', 102)"
            ]
          },
          "metadata": {},
          "execution_count": 18
        }
      ]
    },
    {
      "cell_type": "code",
      "source": [
        "#classification token : we must add this token to the start of each sentence, so BERT knows we're doing classification\n",
        "tokenizer.cls_token, tokenizer.cls_token_id"
      ],
      "metadata": {
        "colab": {
          "base_uri": "https://localhost:8080/"
        },
        "id": "7uuFtVg3HFEd",
        "outputId": "95e473d8-00fd-4c97-b6e6-1c115748299a"
      },
      "execution_count": null,
      "outputs": [
        {
          "output_type": "execute_result",
          "data": {
            "text/plain": [
              "('[CLS]', 101)"
            ]
          },
          "metadata": {},
          "execution_count": 19
        }
      ]
    },
    {
      "cell_type": "code",
      "source": [
        "# padding_token\n",
        "tokenizer.pad_token, tokenizer.pad_token_id"
      ],
      "metadata": {
        "colab": {
          "base_uri": "https://localhost:8080/"
        },
        "id": "8p5KwiEtHH6d",
        "outputId": "23dccb62-d606-44b3-c5ab-ecf3fef176c9"
      },
      "execution_count": null,
      "outputs": [
        {
          "output_type": "execute_result",
          "data": {
            "text/plain": [
              "('[PAD]', 0)"
            ]
          },
          "metadata": {},
          "execution_count": 20
        }
      ]
    },
    {
      "cell_type": "code",
      "source": [
        "# unknown token : if any word is unknown to the model\n",
        "tokenizer.unk_token, tokenizer.unk_token_id"
      ],
      "metadata": {
        "colab": {
          "base_uri": "https://localhost:8080/"
        },
        "id": "ofupIPFuHMm9",
        "outputId": "998ee5b9-78bb-498f-9a83-6248f777e401"
      },
      "execution_count": null,
      "outputs": [
        {
          "output_type": "execute_result",
          "data": {
            "text/plain": [
              "('[UNK]', 100)"
            ]
          },
          "metadata": {},
          "execution_count": 21
        }
      ]
    },
    {
      "cell_type": "code",
      "source": [
        "# we can use these special token together using encode_plus()\n",
        "\n",
        "encoding = tokenizer.encode_plus(\n",
        "    simple_text,\n",
        "    max_length= 32,\n",
        "    truncation=True,\n",
        "    add_special_tokens = True,\n",
        "    padding='max_length',\n",
        "    return_attention_mask = True,\n",
        "    return_token_type_ids = False,\n",
        "    return_tensors = 'pt'\n",
        "\n",
        ")\n",
        "\n",
        "encoding.keys()"
      ],
      "metadata": {
        "colab": {
          "base_uri": "https://localhost:8080/"
        },
        "id": "niXVtepWHOtz",
        "outputId": "60b6c222-cd18-4536-a204-bc7f45d7cf8f"
      },
      "execution_count": null,
      "outputs": [
        {
          "output_type": "execute_result",
          "data": {
            "text/plain": [
              "dict_keys(['input_ids', 'attention_mask'])"
            ]
          },
          "metadata": {},
          "execution_count": 22
        }
      ]
    },
    {
      "cell_type": "code",
      "source": [
        "encoding['input_ids']\n",
        "\n",
        "# 0s were padded to make the input length 32(max_len)"
      ],
      "metadata": {
        "colab": {
          "base_uri": "https://localhost:8080/"
        },
        "id": "62o65jefHSTo",
        "outputId": "65ad77cb-6831-4789-9b38-273aef9c809a"
      },
      "execution_count": null,
      "outputs": [
        {
          "output_type": "execute_result",
          "data": {
            "text/plain": [
              "tensor([[  101, 12242, 10134,   146, 12469, 17555,   136,   146, 10392, 28780,\n",
              "         31746, 10336, 10160, 11816, 10142, 12469, 10551, 20750,   119,   102,\n",
              "             0,     0,     0,     0,     0,     0,     0,     0,     0,     0,\n",
              "             0,     0]])"
            ]
          },
          "metadata": {},
          "execution_count": 23
        }
      ]
    },
    {
      "cell_type": "code",
      "source": [
        "# in case of attention mask, 1 : words are there\n",
        "#                             0 : 0s are padded\n",
        "\n",
        "encoding['attention_mask']"
      ],
      "metadata": {
        "colab": {
          "base_uri": "https://localhost:8080/"
        },
        "id": "laUD0TnOHWef",
        "outputId": "5da8754c-db1b-4111-f68d-4a32383e0c39"
      },
      "execution_count": null,
      "outputs": [
        {
          "output_type": "execute_result",
          "data": {
            "text/plain": [
              "tensor([[1, 1, 1, 1, 1, 1, 1, 1, 1, 1, 1, 1, 1, 1, 1, 1, 1, 1, 1, 1, 0, 0, 0, 0,\n",
              "         0, 0, 0, 0, 0, 0, 0, 0]])"
            ]
          },
          "metadata": {},
          "execution_count": 24
        }
      ]
    },
    {
      "cell_type": "markdown",
      "source": [
        "##choosing sequence's max_length\n",
        "BERT works with fixed-length sequences. We'll use a simple strategy to choose the max length. Let's store the token length of each review: 512 is the max length for BERT"
      ],
      "metadata": {
        "id": "3Qeinx6AHhju"
      }
    },
    {
      "cell_type": "code",
      "source": [
        "token_lens = []\n",
        "\n",
        "for txt in df.post:\n",
        "  tokens = tokenizer.encode(txt, max_length=512)\n",
        "  token_lens.append(len(tokens))"
      ],
      "metadata": {
        "colab": {
          "base_uri": "https://localhost:8080/"
        },
        "id": "vbN3vcd-HbL6",
        "outputId": "2eb4ac3a-0db3-44f5-ab87-11e7f8093535"
      },
      "execution_count": null,
      "outputs": [
        {
          "output_type": "stream",
          "name": "stderr",
          "text": [
            "Truncation was not explicitly activated but `max_length` is provided a specific value, please use `truncation=True` to explicitly truncate examples to max length. Defaulting to 'longest_first' truncation strategy. If you encode pairs of sequences (GLUE-style) with the tokenizer you can select this strategy more precisely by providing a specific strategy to `truncation`.\n"
          ]
        }
      ]
    },
    {
      "cell_type": "code",
      "source": [
        "sns.displot(token_lens)"
      ],
      "metadata": {
        "colab": {
          "base_uri": "https://localhost:8080/",
          "height": 511
        },
        "id": "10B1VzTHHlRD",
        "outputId": "daf78dd3-6752-4f6c-e83a-2b6b336c2a90"
      },
      "execution_count": null,
      "outputs": [
        {
          "output_type": "execute_result",
          "data": {
            "text/plain": [
              "<seaborn.axisgrid.FacetGrid at 0x7fe2485c3dc0>"
            ]
          },
          "metadata": {},
          "execution_count": 26
        },
        {
          "output_type": "display_data",
          "data": {
            "text/plain": [
              "<Figure size 500x500 with 1 Axes>"
            ],
            "image/png": "[encoded data removed]"
          },
          "metadata": {
            "image/png": {
              "width": 477,
              "height": 477
            }
          }
        }
      ]
    },
    {
      "cell_type": "code",
      "source": [
        "class GooglePlayReviewDataset(Dataset):\n",
        "    def __init__(self, reviews, targets, tokenizer, max_len):\n",
        "        self.reviews = reviews\n",
        "        self.targets = targets\n",
        "        self.tokenizer = tokenizer\n",
        "        self.max_len = max_len\n",
        "\n",
        "    def __len__(self):\n",
        "        return len(self.reviews)\n",
        "    \n",
        "    def __getitem__(self, item):\n",
        "        review = str(self.reviews[item])\n",
        "        target = self.targets[item]\n",
        "        encoding = self.tokenizer.encode_plus(\n",
        "            review,\n",
        "            max_length= self.max_len,\n",
        "            truncation=True,\n",
        "            add_special_tokens = True,\n",
        "            padding='max_length',\n",
        "            return_attention_mask = True,\n",
        "            return_tensors = 'pt'\n",
        "        )\n",
        "        return{\n",
        "            'review_text': review,\n",
        "            'input_ids': encoding['input_ids'].flatten(),\n",
        "            'attention_mask': encoding['attention_mask'].flatten(),\n",
        "            'targets' : torch.tensor(self.targets[item], dtype = torch.long)\n",
        "        }"
      ],
      "metadata": {
        "id": "dFVCmOq0HuEh"
      },
      "execution_count": null,
      "outputs": []
    },
    {
      "cell_type": "code",
      "source": [
        "MAX_LEN = 256\n",
        "Epoch = 10\n",
        "BATCH_SIZE = 16"
      ],
      "metadata": {
        "id": "aAUJiWLGH74x"
      },
      "execution_count": null,
      "outputs": []
    },
    {
      "cell_type": "markdown",
      "source": [
        "##Splitting the dataset"
      ],
      "metadata": {
        "id": "rownRubqIQt1"
      }
    },
    {
      "cell_type": "code",
      "source": [
        "# splitting the dataset into test,validation and train\n",
        "df_train, df_test = train_test_split(df, test_size= 0.2, random_state=RANDOM_SEED)\n",
        "df_val, df_test = train_test_split(df_test, test_size= 0.5, random_state=RANDOM_SEED)"
      ],
      "metadata": {
        "id": "_a5Sm7y-IMwE"
      },
      "execution_count": null,
      "outputs": []
    },
    {
      "cell_type": "code",
      "source": [
        "df_train.shape"
      ],
      "metadata": {
        "colab": {
          "base_uri": "https://localhost:8080/"
        },
        "id": "ccbNQVSlIVaN",
        "outputId": "fb9c1259-0a89-4ca6-fb58-cfbd5aff3a9c"
      },
      "execution_count": null,
      "outputs": [
        {
          "output_type": "execute_result",
          "data": {
            "text/plain": [
              "(6953, 17)"
            ]
          },
          "metadata": {},
          "execution_count": 30
        }
      ]
    },
    {
      "cell_type": "code",
      "source": [
        "df_test.shape, df_val.shape"
      ],
      "metadata": {
        "colab": {
          "base_uri": "https://localhost:8080/"
        },
        "id": "feMn05qqIYeG",
        "outputId": "d36ba42d-1601-44db-c463-19e3504e6cba"
      },
      "execution_count": null,
      "outputs": [
        {
          "output_type": "execute_result",
          "data": {
            "text/plain": [
              "((870, 17), (869, 17))"
            ]
          },
          "metadata": {},
          "execution_count": 31
        }
      ]
    },
    {
      "cell_type": "code",
      "source": [
        "df.keys()"
      ],
      "metadata": {
        "colab": {
          "base_uri": "https://localhost:8080/"
        },
        "id": "GRPMMWIEJiND",
        "outputId": "4990dade-6efa-484d-d250-cf69bacf49f1"
      },
      "execution_count": null,
      "outputs": [
        {
          "output_type": "execute_result",
          "data": {
            "text/plain": [
              "Index(['Unnamed: 0.2', 'Unnamed: 0.1', 'level_0', 'index', 'Unnamed: 0',\n",
              "       'post', 'Mach', 'LSRP12', 'LSRP2', 'NRSM', 'Person', 'dark_triad',\n",
              "       'eng_usage_ratio', 'bng_usage_ratio', 'eng_switching_ratio',\n",
              "       'bng_switching_ratio', 'Trait'],\n",
              "      dtype='object')"
            ]
          },
          "metadata": {},
          "execution_count": 32
        }
      ]
    },
    {
      "cell_type": "code",
      "source": [
        "# create dataLoader\n",
        "\n",
        "def create_data_loader(df, tokenizer, max_len, batch_size):\n",
        "  ds = GooglePlayReviewDataset(\n",
        "    reviews=df.post.to_numpy(),\n",
        "    targets=df.Trait.to_numpy(),\n",
        "    tokenizer=tokenizer,\n",
        "    max_len=max_len \n",
        "  )\n",
        "\n",
        "  return DataLoader(\n",
        "    ds,\n",
        "    batch_size=batch_size,\n",
        "    drop_last = True,\n",
        "    shuffle = True,\n",
        "    num_workers=2\n",
        "  )"
      ],
      "metadata": {
        "id": "vSfUyr5YJlkq"
      },
      "execution_count": null,
      "outputs": []
    },
    {
      "cell_type": "code",
      "source": [
        "# creating train, test, validation dataLoader\n",
        "\n",
        "train_data_loader = create_data_loader(df_train, tokenizer, MAX_LEN, BATCH_SIZE)\n",
        "val_data_loader = create_data_loader(df_val, tokenizer, MAX_LEN, BATCH_SIZE)\n",
        "test_data_loader = create_data_loader(df_test, tokenizer, MAX_LEN, BATCH_SIZE)\n"
      ],
      "metadata": {
        "id": "8KySznhQKUMy"
      },
      "execution_count": null,
      "outputs": []
    },
    {
      "cell_type": "code",
      "source": [
        "#Let's have a look at an example batch from our training data loader\n",
        "dataset = next(iter(train_data_loader))\n",
        "dataset.keys()"
      ],
      "metadata": {
        "colab": {
          "base_uri": "https://localhost:8080/"
        },
        "id": "oiQg6mtSKXKl",
        "outputId": "7175c0a7-ef0c-4de4-c686-752d9a098401"
      },
      "execution_count": null,
      "outputs": [
        {
          "output_type": "execute_result",
          "data": {
            "text/plain": [
              "dict_keys(['review_text', 'input_ids', 'attention_mask', 'targets'])"
            ]
          },
          "metadata": {},
          "execution_count": 33
        }
      ]
    },
    {
      "cell_type": "code",
      "source": [
        "print(dataset['input_ids'].shape)"
      ],
      "metadata": {
        "colab": {
          "base_uri": "https://localhost:8080/"
        },
        "id": "Ovyo8dTUKa7g",
        "outputId": "8bcaa6cc-f35e-4ef4-b896-85bab7f13a7b"
      },
      "execution_count": null,
      "outputs": [
        {
          "output_type": "stream",
          "name": "stdout",
          "text": [
            "torch.Size([16, 256])\n"
          ]
        }
      ]
    },
    {
      "cell_type": "code",
      "source": [
        "print(dataset['targets'].shape)"
      ],
      "metadata": {
        "colab": {
          "base_uri": "https://localhost:8080/"
        },
        "id": "6EXG35EUKjvo",
        "outputId": "066f02e5-3780-4118-e1e2-85d460e811ec"
      },
      "execution_count": null,
      "outputs": [
        {
          "output_type": "stream",
          "name": "stdout",
          "text": [
            "torch.Size([16])\n"
          ]
        }
      ]
    },
    {
      "cell_type": "markdown",
      "source": [
        "##Loading and using MBERT model"
      ],
      "metadata": {
        "id": "wOqy7gUEKxb4"
      }
    },
    {
      "cell_type": "code",
      "source": [
        "from transformers import BertModel, BertTokenizer, AdamW, get_linear_schedule_with_warmup"
      ],
      "metadata": {
        "id": "vpwnHYhAS_l_"
      },
      "execution_count": null,
      "outputs": []
    },
    {
      "cell_type": "code",
      "source": [
        "bert_model = BertModel.from_pretrained('bert-base-multilingual-cased')\n"
      ],
      "metadata": {
        "colab": {
          "base_uri": "https://localhost:8080/",
          "height": 121,
          "referenced_widgets": [
            "fa874c11a6304a4ca94fb56eda84154a",
            "0f5b4d98909846248ccfe962e36c0b31",
            "d18f28dfdfe34b178e6633f1f3ee2fe5",
            "13e240d015ea44428f4b866f0cd38c1d",
            "64caf426fc0c4b1a982a02737def427c",
            "c8608bc3b9ad406eaf6d7c047a272f7c",
            "e10d92764c7f44038b4cda3679785cc1",
            "3d665e263f88474ea51f910b17fdb74c",
            "952829dfcccb484cb972197947448dc8",
            "858b739593114a568598a2de1552328d",
            "254bdd7e97dc49bfbad4ae6cf0b6099e"
          ]
        },
        "id": "0kuagKfuKp29",
        "outputId": "b04383fc-d849-4d9f-c1fe-996d7cfd9308"
      },
      "execution_count": null,
      "outputs": [
        {
          "output_type": "display_data",
          "data": {
            "text/plain": [
              "Downloading pytorch_model.bin:   0%|          | 0.00/714M [00:00<?, ?B/s]"
            ],
            "application/vnd.jupyter.widget-view+json": {
              "version_major": 2,
              "version_minor": 0,
              "model_id": "fa874c11a6304a4ca94fb56eda84154a"
            }
          },
          "metadata": {}
        },
        {
          "output_type": "stream",
          "name": "stderr",
          "text": [
            "Some weights of the model checkpoint at bert-base-multilingual-cased were not used when initializing BertModel: ['cls.predictions.transform.dense.weight', 'cls.seq_relationship.bias', 'cls.predictions.transform.LayerNorm.bias', 'cls.predictions.transform.dense.bias', 'cls.seq_relationship.weight', 'cls.predictions.decoder.weight', 'cls.predictions.bias', 'cls.predictions.transform.LayerNorm.weight']\n",
            "- This IS expected if you are initializing BertModel from the checkpoint of a model trained on another task or with another architecture (e.g. initializing a BertForSequenceClassification model from a BertForPreTraining model).\n",
            "- This IS NOT expected if you are initializing BertModel from the checkpoint of a model that you expect to be exactly identical (initializing a BertForSequenceClassification model from a BertForSequenceClassification model).\n"
          ]
        }
      ]
    },
    {
      "cell_type": "code",
      "source": [
        "# bert model uses 768 hidden units\n",
        "bert_model.config.hidden_size"
      ],
      "metadata": {
        "colab": {
          "base_uri": "https://localhost:8080/"
        },
        "id": "vBCzXx1wK0N0",
        "outputId": "973d03ef-6d03-4aff-a403-1e9694f8e8f7"
      },
      "execution_count": null,
      "outputs": [
        {
          "output_type": "execute_result",
          "data": {
            "text/plain": [
              "768"
            ]
          },
          "metadata": {},
          "execution_count": 37
        }
      ]
    },
    {
      "cell_type": "code",
      "source": [
        "# now we are calling bert model and this will return the last hidden stage of bert model and polled output\n",
        "\n",
        "last_hidden_state, polled_output = bert_model(input_ids=encoding['input_ids'], attention_mask = encoding['attention_mask'])"
      ],
      "metadata": {
        "id": "cQkCurz2Lr4j"
      },
      "execution_count": null,
      "outputs": []
    },
    {
      "cell_type": "code",
      "source": [
        "class SentimentClassifier(nn.Module):\n",
        "\n",
        "  def __init__(self, n_classes):\n",
        "    super(SentimentClassifier, self).__init__()\n",
        "    self.bert = BertModel.from_pretrained('bert-base-multilingual-cased', return_dict=False)\n",
        "    self.drop = nn.Dropout(p=0.3)\n",
        "    self.out = nn.Linear(self.bert.config.hidden_size, n_classes)\n",
        "  \n",
        "  def forward(self, input_ids, attention_mask):\n",
        "    _, pooled_output = self.bert(\n",
        "      input_ids=input_ids,\n",
        "      attention_mask=attention_mask\n",
        "    )\n",
        "    output = self.drop(pooled_output)\n",
        "    return self.out(output)"
      ],
      "metadata": {
        "id": "OvCvkEs6K9qz"
      },
      "execution_count": null,
      "outputs": []
    },
    {
      "cell_type": "code",
      "source": [
        "print(len(class_names))"
      ],
      "metadata": {
        "colab": {
          "base_uri": "https://localhost:8080/"
        },
        "id": "sn6YD6hCVuIt",
        "outputId": "f1966ff4-b486-49f7-f4ab-d22053f7811e"
      },
      "execution_count": null,
      "outputs": [
        {
          "output_type": "stream",
          "name": "stdout",
          "text": [
            "2\n"
          ]
        }
      ]
    },
    {
      "cell_type": "code",
      "source": [
        "device = torch.device('cuda' if torch.cuda.is_available() else 'cpu')\n",
        "model = SentimentClassifier(len(class_names))\n",
        "model = model.to(device)"
      ],
      "metadata": {
        "colab": {
          "base_uri": "https://localhost:8080/"
        },
        "id": "9gsC8nsWMNIi",
        "outputId": "c1d91875-694b-4b07-ae4e-7e89b663f948"
      },
      "execution_count": null,
      "outputs": [
        {
          "output_type": "stream",
          "name": "stderr",
          "text": [
            "Some weights of the model checkpoint at bert-base-multilingual-cased were not used when initializing BertModel: ['cls.predictions.transform.dense.weight', 'cls.seq_relationship.bias', 'cls.predictions.transform.LayerNorm.bias', 'cls.predictions.transform.dense.bias', 'cls.seq_relationship.weight', 'cls.predictions.decoder.weight', 'cls.predictions.bias', 'cls.predictions.transform.LayerNorm.weight']\n",
            "- This IS expected if you are initializing BertModel from the checkpoint of a model trained on another task or with another architecture (e.g. initializing a BertForSequenceClassification model from a BertForPreTraining model).\n",
            "- This IS NOT expected if you are initializing BertModel from the checkpoint of a model that you expect to be exactly identical (initializing a BertForSequenceClassification model from a BertForSequenceClassification model).\n"
          ]
        }
      ]
    },
    {
      "cell_type": "code",
      "source": [
        "#now look at the sample data\n",
        "input_ids = dataset['input_ids'].to(device)\n",
        "attention_mask = dataset['attention_mask'].to(device)\n",
        "print(input_ids.shape)\n",
        "print(attention_mask.shape)"
      ],
      "metadata": {
        "colab": {
          "base_uri": "https://localhost:8080/"
        },
        "id": "wFTykc32MWJB",
        "outputId": "91c42d11-9360-4acd-e8ba-6fa44366dcc9"
      },
      "execution_count": null,
      "outputs": [
        {
          "output_type": "stream",
          "name": "stdout",
          "text": [
            "torch.Size([16, 256])\n",
            "torch.Size([16, 256])\n"
          ]
        }
      ]
    },
    {
      "cell_type": "code",
      "source": [
        "# now run the model and see how it performs\n",
        "print(input_ids.dtype)\n",
        "model(input_ids, attention_mask)"
      ],
      "metadata": {
        "colab": {
          "base_uri": "https://localhost:8080/"
        },
        "id": "0claGvUxMcRh",
        "outputId": "81b8c49a-d651-4600-b3de-ec98be8d2c17"
      },
      "execution_count": null,
      "outputs": [
        {
          "output_type": "stream",
          "name": "stdout",
          "text": [
            "torch.int64\n"
          ]
        },
        {
          "output_type": "execute_result",
          "data": {
            "text/plain": [
              "tensor([[-0.2055,  0.3961],\n",
              "        [-0.3698,  0.0975],\n",
              "        [-0.1126, -0.0011],\n",
              "        [-0.0854,  0.1886],\n",
              "        [-0.1687,  0.1594],\n",
              "        [-0.3352,  0.5209],\n",
              "        [-0.0132,  0.2319],\n",
              "        [-0.0972,  0.5027],\n",
              "        [-0.2044,  0.1377],\n",
              "        [-0.0396,  0.0493],\n",
              "        [-0.2517,  0.2286],\n",
              "        [-0.2574,  0.1936],\n",
              "        [-0.2969,  0.2501],\n",
              "        [ 0.0444,  0.2504],\n",
              "        [-0.1909,  0.1148],\n",
              "        [-0.3664,  0.2737]], device='cuda:0', grad_fn=<AddmmBackward0>)"
            ]
          },
          "metadata": {},
          "execution_count": 43
        }
      ]
    },
    {
      "cell_type": "markdown",
      "source": [
        "##Now train the model"
      ],
      "metadata": {
        "id": "vlJXG7ROTjaQ"
      }
    },
    {
      "cell_type": "code",
      "source": [
        "optimizer = AdamW(model.parameters(), lr = 2e-5, correct_bias = False, no_deprecation_warning=True)\n",
        "\n",
        "total_steps = len(train_data_loader)*Epoch\n",
        "\n",
        "scheduler = get_linear_schedule_with_warmup(\n",
        "    optimizer,\n",
        "    num_warmup_steps = 0,\n",
        "    num_training_steps = total_steps\n",
        "\n",
        ")\n",
        "\n",
        "loss_func = nn.CrossEntropyLoss().to(device)"
      ],
      "metadata": {
        "id": "XlWid499Mf2w"
      },
      "execution_count": null,
      "outputs": []
    },
    {
      "cell_type": "code",
      "source": [
        "#train epoch helper method -> iterate over all the train examples\n",
        "\n",
        "def train_epoch(model, data_loader, loss_func, scheduler, device, optimizer, num_examples):\n",
        "    #put the model in train mood -> batch normalization, dropout is enabled\n",
        "    model = model.train()\n",
        "    losses = []\n",
        "    correct_predictions = 0\n",
        "\n",
        "    for d in data_loader:\n",
        "        input_ids = d['input_ids'].to(device)\n",
        "        attention_mask = d['attention_mask'].to(device)\n",
        "        targets = d['targets'].to(device)\n",
        "        outputs = model(\n",
        "            input_ids = input_ids,\n",
        "            attention_mask = attention_mask\n",
        "        )\n",
        "        # we will take the max prediction along dim 1\n",
        "        _, preds = torch.max(outputs, dim = 1)\n",
        "        loss = loss_func(outputs , targets)\n",
        "\n",
        "        correct_predictions += torch.sum(preds == targets)\n",
        "        losses.append(loss.item())\n",
        "\n",
        "        #backprop\n",
        "\n",
        "        loss.backward()\n",
        "        #gradient clipping -> solves exploiding gradient problem\n",
        "        nn.utils.clip_grad_norm_(model.parameters(), max_norm = 1.0)\n",
        "        optimizer.step()\n",
        "        scheduler.step()\n",
        "        optimizer.zero_grad()\n",
        "\n",
        "    return correct_predictions.double()/num_examples, np.mean(losses)\n",
        "\n",
        "\n"
      ],
      "metadata": {
        "id": "MncA8e4tT6yh"
      },
      "execution_count": null,
      "outputs": []
    },
    {
      "cell_type": "code",
      "source": [
        "# create a val epoch helper function\n",
        "\n",
        "def eval_epoch(model, data_loader, loss_func, device, num_examples):\n",
        "    #put the model in eval mood -> batch normalization, dropout is disabled\n",
        "    model = model.eval()\n",
        "\n",
        "    losses = []\n",
        "    correct_predictions = 0\n",
        "\n",
        "    #disable the gradient descent so that model can run faster\n",
        "    with torch.no_grad():\n",
        "        for d in data_loader:\n",
        "            input_ids = d['input_ids'].to(device)\n",
        "            attention_mask = d['attention_mask'].to(device)\n",
        "            targets = d['targets'].to(device)\n",
        "            outputs = model(\n",
        "                input_ids = input_ids,\n",
        "                attention_mask = attention_mask\n",
        "            )\n",
        "            # we will take the max prediction along dim 1\n",
        "            _, preds = torch.max(outputs, dim = 1)\n",
        "            loss = loss_func(outputs , targets)\n",
        "\n",
        "            correct_predictions += torch.sum(preds == targets)\n",
        "            losses.append(loss.item())\n",
        "\n",
        "        # no training is required\n",
        "    return correct_predictions.double()/num_examples, np.mean(losses)\n",
        "        \n"
      ],
      "metadata": {
        "id": "W8wpuwqQT_h0"
      },
      "execution_count": null,
      "outputs": []
    },
    {
      "cell_type": "code",
      "source": [
        "%%time\n",
        "from collections import defaultdict\n",
        "from typing import DefaultDict\n",
        "# see the accuracy, loss\n",
        "\n",
        "\n",
        "history = defaultdict(list)\n",
        "best_accuracy = 0\n",
        "\n",
        "for epoch in range(Epoch):\n",
        "    print(f'Epoch {epoch + 1}/ {Epoch}')\n",
        "    print('-'*15)\n",
        "\n",
        "    train_accuracy, train_loss = train_epoch(model, train_data_loader, loss_func, scheduler, device, optimizer, len(df_train))\n",
        "    print(f'Train loss {train_loss} train accuracy {train_accuracy}')\n",
        "\n",
        "    val_accuracy, val_loss = eval_epoch(model, val_data_loader, loss_func, device, len(df_val))\n",
        "    print(f'validation loss {val_loss} validation accuracy {val_accuracy}')\n",
        "    print()\n",
        "\n",
        "\n",
        "    history['train_accuracy'].append(train_accuracy)\n",
        "    history['train_loss'].append(train_loss)\n",
        "\n",
        "    history['val_accuracy'].append(val_accuracy)\n",
        "    history['val_loss'].append(val_loss)\n",
        "\n",
        "    if val_accuracy > best_accuracy:\n",
        "      torch.save(model.state_dict(), '/content/drive/My Drive/best_model_state_psy.bin')\n",
        "      best_accuracy = val_accuracy\n",
        "\n",
        "\n",
        "   "
      ],
      "metadata": {
        "colab": {
          "base_uri": "https://localhost:8080/"
        },
        "id": "Qh7biGuNUCvQ",
        "outputId": "4622c218-e321-400a-956c-389f53467cd7"
      },
      "execution_count": null,
      "outputs": [
        {
          "output_type": "stream",
          "name": "stdout",
          "text": [
            "Epoch 1/ 10\n",
            "---------------\n",
            "Train loss 0.6877131236863027 train accuracy 0.5590392636272113\n",
            "validation loss 0.6834404049096284 validation accuracy 0.5661680092059839\n",
            "\n",
            "Epoch 2/ 10\n",
            "---------------\n",
            "Train loss 0.6849994718479121 train accuracy 0.5619157198331656\n",
            "validation loss 0.6787245207362704 validation accuracy 0.5684695051783659\n",
            "\n",
            "Epoch 3/ 10\n",
            "---------------\n",
            "Train loss 0.68394287390643 train accuracy 0.5639292391773335\n",
            "validation loss 0.686073261278647 validation accuracy 0.567318757192175\n",
            "\n",
            "Epoch 4/ 10\n",
            "---------------\n",
            "Train loss 0.6765710635943347 train accuracy 0.589242053789731\n",
            "validation loss 0.6730265771901166 validation accuracy 0.5891829689298044\n",
            "\n",
            "Epoch 5/ 10\n",
            "---------------\n",
            "Train loss 0.6594332447661783 train accuracy 0.5995972961311664\n",
            "validation loss 0.6614254955892209 validation accuracy 0.6121979286536249\n",
            "\n",
            "Epoch 6/ 10\n",
            "---------------\n",
            "Train loss 0.6366263916415553 train accuracy 0.62390335107148\n",
            "validation loss 0.6560350971089469 validation accuracy 0.6214039125431531\n",
            "\n",
            "Epoch 7/ 10\n",
            "---------------\n",
            "Train loss 0.5998328913192046 train accuracy 0.6771177908816338\n",
            "validation loss 0.6723089494087078 validation accuracy 0.6156501726121979\n",
            "\n",
            "Epoch 8/ 10\n",
            "---------------\n",
            "Train loss 0.5652482166954998 train accuracy 0.7058823529411765\n",
            "validation loss 0.7179154163157498 validation accuracy 0.61795166858458\n",
            "\n",
            "Epoch 9/ 10\n",
            "---------------\n",
            "Train loss 0.5357789819897045 train accuracy 0.7345030921904214\n",
            "validation loss 0.7289527980265794 validation accuracy 0.6087456846950517\n",
            "\n",
            "Epoch 10/ 10\n",
            "---------------\n",
            "Train loss 0.521761581507696 train accuracy 0.7415504098950094\n",
            "validation loss 0.7336997660221877 validation accuracy 0.6052934407364787\n",
            "\n",
            "CPU times: user 47min 34s, sys: 1min 17s, total: 48min 51s\n",
            "Wall time: 49min 54s\n"
          ]
        }
      ]
    },
    {
      "cell_type": "code",
      "source": [
        "!gdown --id 1rQU8k9SqIN8fiskLSlqzvQnJzjfsnAdU"
      ],
      "metadata": {
        "id": "-0cf8V6On6j4",
        "colab": {
          "base_uri": "https://localhost:8080/"
        },
        "outputId": "2aa440ae-8e12-453c-b499-a25393291f2a"
      },
      "execution_count": null,
      "outputs": [
        {
          "output_type": "stream",
          "name": "stdout",
          "text": [
            "/usr/local/lib/python3.9/dist-packages/gdown/cli.py:121: FutureWarning: Option `--id` was deprecated in version 4.3.1 and will be removed in 5.0. You don't need to pass it anymore to use a file ID.\n",
            "  warnings.warn(\n",
            "Downloading...\n",
            "From: https://drive.google.com/uc?id=1rQU8k9SqIN8fiskLSlqzvQnJzjfsnAdU\n",
            "To: /content/best_model_state_psy.bin\n",
            "100% 712M/712M [00:03<00:00, 223MB/s]\n"
          ]
        }
      ]
    },
    {
      "cell_type": "code",
      "source": [
        "model = SentimentClassifier(len(class_names))\n",
        "model.load_state_dict(torch.load('best_model_state_psy.bin'))\n",
        "model = model.to(device)"
      ],
      "metadata": {
        "colab": {
          "base_uri": "https://localhost:8080/"
        },
        "id": "MCqR0TXlIL-6",
        "outputId": "a5ff8a44-be9a-45d8-e5d7-e85a2f50ea62"
      },
      "execution_count": null,
      "outputs": [
        {
          "output_type": "stream",
          "name": "stderr",
          "text": [
            "Some weights of the model checkpoint at bert-base-multilingual-cased were not used when initializing BertModel: ['cls.predictions.transform.dense.weight', 'cls.seq_relationship.bias', 'cls.predictions.transform.LayerNorm.bias', 'cls.predictions.transform.dense.bias', 'cls.seq_relationship.weight', 'cls.predictions.decoder.weight', 'cls.predictions.bias', 'cls.predictions.transform.LayerNorm.weight']\n",
            "- This IS expected if you are initializing BertModel from the checkpoint of a model trained on another task or with another architecture (e.g. initializing a BertForSequenceClassification model from a BertForPreTraining model).\n",
            "- This IS NOT expected if you are initializing BertModel from the checkpoint of a model that you expect to be exactly identical (initializing a BertForSequenceClassification model from a BertForSequenceClassification model).\n"
          ]
        }
      ]
    },
    {
      "cell_type": "code",
      "source": [
        "test_accuracy, test_loss = eval_epoch(model, test_data_loader, loss_func, device, len(df_test))\n",
        "test_accuracy"
      ],
      "metadata": {
        "colab": {
          "base_uri": "https://localhost:8080/"
        },
        "id": "TxFZkH-9IOe6",
        "outputId": "946ae842-1a5b-4530-f80c-f5148345801e"
      },
      "execution_count": null,
      "outputs": [
        {
          "output_type": "execute_result",
          "data": {
            "text/plain": [
              "tensor(0.6276, device='cuda:0', dtype=torch.float64)"
            ]
          },
          "metadata": {},
          "execution_count": 53
        }
      ]
    },
    {
      "cell_type": "code",
      "source": [
        "def get_predictions(model, data_loader):\n",
        "    model = model.eval()\n",
        "  \n",
        "    review_texts = []\n",
        "    predictions = []\n",
        "    prediction_probs = []\n",
        "    real_values = []\n",
        "\n",
        "    with torch.no_grad():\n",
        "        for d in data_loader:\n",
        "            texts = d[\"review_text\"]\n",
        "            input_ids = d[\"input_ids\"].to(device)\n",
        "            attention_mask = d[\"attention_mask\"].to(device)\n",
        "            targets = d[\"targets\"].to(device)\n",
        "\n",
        "            outputs = model(\n",
        "                input_ids=input_ids,\n",
        "                attention_mask=attention_mask\n",
        "            )\n",
        "            _, preds = torch.max(outputs, dim=1)\n",
        "\n",
        "            review_texts.extend(texts)\n",
        "            predictions.extend(preds)\n",
        "            prediction_probs.extend(outputs)\n",
        "            real_values.extend(targets)\n",
        "\n",
        "    predictions = torch.stack(predictions).cpu() # converts list of tensors into single tensor\n",
        "    prediction_probs = torch.stack(prediction_probs).cpu()\n",
        "    real_values = torch.stack(real_values).cpu()\n",
        "\n",
        "    return review_texts, predictions, prediction_probs, real_values\n"
      ],
      "metadata": {
        "id": "nILJeNX1IZV3"
      },
      "execution_count": null,
      "outputs": []
    },
    {
      "cell_type": "code",
      "source": [
        "y_review_texts, y_predictions, y_prediction_probs, y_test = get_predictions(model, test_data_loader)"
      ],
      "metadata": {
        "id": "QdnnKGPZIdkE"
      },
      "execution_count": null,
      "outputs": []
    },
    {
      "cell_type": "code",
      "source": [
        "from sklearn.metrics import confusion_matrix, classification_report\n",
        "\n",
        "print(classification_report(y_test, y_predictions, target_names = class_names))"
      ],
      "metadata": {
        "id": "th7fk-aBIg94",
        "outputId": "870d6d10-f667-42af-c197-dadc0527f7cc",
        "colab": {
          "base_uri": "https://localhost:8080/"
        }
      },
      "execution_count": null,
      "outputs": [
        {
          "output_type": "stream",
          "name": "stdout",
          "text": [
            "                 precision    recall  f1-score   support\n",
            "\n",
            "Not Psychopathy       0.62      0.85      0.72       479\n",
            "    Psychopathy       0.66      0.36      0.47       385\n",
            "\n",
            "       accuracy                           0.63       864\n",
            "      macro avg       0.64      0.61      0.59       864\n",
            "   weighted avg       0.64      0.63      0.61       864\n",
            "\n"
          ]
        }
      ]
    },
    {
      "cell_type": "code",
      "source": [
        "# confusion matrix\n",
        "\n",
        "def show_confusion_matrix(confusion_matrix):\n",
        "    hmap = sns.heatmap(confusion_matrix, annot=True, fmt=\"d\", cmap=\"Blues\")\n",
        "    hmap.yaxis.set_ticklabels(hmap.yaxis.get_ticklabels(), rotation=0, ha='right')\n",
        "    hmap.xaxis.set_ticklabels(hmap.xaxis.get_ticklabels(), rotation=30, ha='right')\n",
        "    plt.ylabel('True sentiment')\n",
        "    plt.xlabel('Predicted sentiment');\n",
        "\n",
        "cm = confusion_matrix(y_test, y_predictions)\n",
        "df_cm = pd.DataFrame(cm, index=class_names, columns=class_names)\n",
        "show_confusion_matrix(df_cm)"
      ],
      "metadata": {
        "id": "8WPQjkNnIkag",
        "outputId": "ab5a0cf5-0235-4dc1-d15a-256a461b3474",
        "colab": {
          "base_uri": "https://localhost:8080/",
          "height": 630
        }
      },
      "execution_count": null,
      "outputs": [
        {
          "output_type": "display_data",
          "data": {
            "text/plain": [
              "<Figure size 800x600 with 2 Axes>"
            ],
            "image/png": "[encoded data removed]"
          },
          "metadata": {
            "image/png": {
              "width": 811,
              "height": 613
            }
          }
        }
      ]
    },
    {
      "cell_type": "code",
      "source": [],
      "metadata": {
        "id": "m5qeQFW4Imon"
      },
      "execution_count": null,
      "outputs": []
    }
  ]
}