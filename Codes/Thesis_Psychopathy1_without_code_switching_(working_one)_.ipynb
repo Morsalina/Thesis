{
  "nbformat": 4,
  "nbformat_minor": 0,
  "metadata": {
    "colab": {
      "provenance": []
    },
    "kernelspec": {
      "name": "python3",
      "display_name": "Python 3"
    },
    "language_info": {
      "name": "python"
    },
    "accelerator": "GPU",
    "gpuClass": "standard"
  },
  "cells": [
    {
      "cell_type": "markdown",
      "source": [
        "# Feature extraction and Pre process"
      ],
      "metadata": {
        "id": "2SQrjkXDamWV"
      }
    },
    {
      "cell_type": "code",
      "execution_count": null,
      "metadata": {
        "id": "nfY8gHP03aKM"
      },
      "outputs": [],
      "source": [
        "import nltk               \n",
        "import spacy              \n",
        "import gensim             \n",
        "import sklearn            \n",
        "import pandas as pd       \n",
        "import numpy as np        \n",
        "import matplotlib.pyplot as plt   "
      ]
    },
    {
      "cell_type": "markdown",
      "source": [
        "\n",
        "\n",
        "---\n",
        "\n",
        "\n",
        "# Running Models\n"
      ],
      "metadata": {
        "id": "6xFdIQY5ugNi"
      }
    },
    {
      "cell_type": "code",
      "source": [
        "import nltk               \n",
        "import spacy              \n",
        "import gensim             \n",
        "import sklearn            \n",
        "import pandas as pd       \n",
        "import numpy as np        \n",
        "import matplotlib.pyplot as plt   \n",
        "from sklearn.model_selection import train_test_split\n",
        "from sklearn.naive_bayes import GaussianNB\n",
        "from sklearn.svm import SVC\n",
        "from sklearn.metrics import accuracy_score"
      ],
      "metadata": {
        "id": "i9A5PSI_a_AS"
      },
      "execution_count": null,
      "outputs": []
    },
    {
      "cell_type": "markdown",
      "source": [
        "\n",
        "# For NRSM\n",
        "\n",
        "this section showing result for without code switching, emoji and object columns in sevaral configurations: \n",
        "\n",
        "*   all columns\n",
        "*   all columns: scaled\n",
        "*   dropping colsum>=6000\n",
        "*   same, scaled\n",
        "*   dropping colsum>=4000\n",
        "*   same, scaled\n",
        "\n",
        "all of these done for NB,RF and SVM.\n",
        "\n",
        "\n",
        "\n",
        "\n"
      ],
      "metadata": {
        "id": "rujHeskQujgv"
      }
    },
    {
      "cell_type": "markdown",
      "source": [
        "# with all columns \n"
      ],
      "metadata": {
        "id": "ZTmGJUTAvCxY"
      }
    },
    {
      "cell_type": "code",
      "source": [
        "df = pd.read_csv('/content/feature_dataset_8692.csv')\n",
        "y =(df.LSRP12<df.LSRP12.quantile()).replace({True:1, False:2})\n",
        "\n",
        "x = df.drop(['Mach', 'LSRP12','LSRP2','NRSM','english_text','topic_distributions','word_tokens','part_of_speech','word_freq_dist'], axis=1)  \n"
      ],
      "metadata": {
        "id": "lOGGoygKvrLu"
      },
      "execution_count": null,
      "outputs": []
    },
    {
      "cell_type": "code",
      "source": [
        "from sklearn.preprocessing import MinMaxScaler\n",
        "import pandas as pd\n",
        "\n",
        "scaler = MinMaxScaler()\n",
        " \n",
        "x_scaled = scaler.fit_transform(x.to_numpy())\n",
        "x_scaled = pd.DataFrame(x_scaled)\n",
        " \n",
        "print(\"Scaled Dataset Using MinMaxScaler\")\n",
        "x_scaled.head()"
      ],
      "metadata": {
        "colab": {
          "base_uri": "https://localhost:8080/",
          "height": 317
        },
        "id": "qQvxMNsXSg8i",
        "outputId": "9a77b0ce-e3f3-4502-a18e-558cd6ec7d48"
      },
      "execution_count": null,
      "outputs": [
        {
          "output_type": "stream",
          "name": "stdout",
          "text": [
            "Scaled Dataset Using MinMaxScaler\n"
          ]
        },
        {
          "output_type": "execute_result",
          "data": {
            "text/plain": [
              "         0     1    2         3         4         5         6         7   \\\n",
              "0  0.000000  0.50  0.0  0.941818  0.040000  0.684211  0.020010  0.019990   \n",
              "1  0.000115  0.70  0.8  0.933602  0.048358  0.912281  0.012497  0.012483   \n",
              "2  0.000230  0.40  0.4  0.905508  0.066567  0.972299  0.005539  0.005533   \n",
              "3  0.000345  0.55  0.1  0.894070  0.074328  0.923684  0.901597  0.011093   \n",
              "4  0.000460  0.50  0.0  0.929382  0.049552  0.898026  0.016670  0.016653   \n",
              "\n",
              "         8         9   ...   53   54   55   56   57   58   59   60   61   62  \n",
              "0  0.020011  0.839355  ...  0.0  0.0  0.0  0.0  0.0  0.0  0.0  0.0  0.0  0.0  \n",
              "1  0.012498  0.012768  ...  0.0  0.0  0.0  0.0  0.0  0.0  0.0  0.0  0.0  0.0  \n",
              "2  0.005541  0.005659  ...  0.0  0.0  0.0  0.0  0.0  0.0  0.0  0.0  0.0  0.0  \n",
              "3  0.011106  0.011347  ...  0.0  0.0  0.0  0.0  0.0  0.0  0.0  0.0  0.0  0.0  \n",
              "4  0.016675  0.147768  ...  0.0  0.0  0.0  0.0  0.0  0.0  0.0  0.0  0.0  0.0  \n",
              "\n",
              "[5 rows x 63 columns]"
            ],
            "text/html": [
              "\n",
              "  <div id=\"df-e8d8852f-8602-4a4c-bd32-f6a327f9077e\">\n",
              "    <div class=\"colab-df-container\">\n",
              "      <div>\n",
              "<style scoped>\n",
              "    .dataframe tbody tr th:only-of-type {\n",
              "        vertical-align: middle;\n",
              "    }\n",
              "\n",
              "    .dataframe tbody tr th {\n",
              "        vertical-align: top;\n",
              "    }\n",
              "\n",
              "    .dataframe thead th {\n",
              "        text-align: right;\n",
              "    }\n",
              "</style>\n",
              "<table border=\"1\" class=\"dataframe\">\n",
              "  <thead>\n",
              "    <tr style=\"text-align: right;\">\n",
              "      <th></th>\n",
              "      <th>0</th>\n",
              "      <th>1</th>\n",
              "      <th>2</th>\n",
              "      <th>3</th>\n",
              "      <th>4</th>\n",
              "      <th>5</th>\n",
              "      <th>6</th>\n",
              "      <th>7</th>\n",
              "      <th>8</th>\n",
              "      <th>9</th>\n",
              "      <th>...</th>\n",
              "      <th>53</th>\n",
              "      <th>54</th>\n",
              "      <th>55</th>\n",
              "      <th>56</th>\n",
              "      <th>57</th>\n",
              "      <th>58</th>\n",
              "      <th>59</th>\n",
              "      <th>60</th>\n",
              "      <th>61</th>\n",
              "      <th>62</th>\n",
              "    </tr>\n",
              "  </thead>\n",
              "  <tbody>\n",
              "    <tr>\n",
              "      <th>0</th>\n",
              "      <td>0.000000</td>\n",
              "      <td>0.50</td>\n",
              "      <td>0.0</td>\n",
              "      <td>0.941818</td>\n",
              "      <td>0.040000</td>\n",
              "      <td>0.684211</td>\n",
              "      <td>0.020010</td>\n",
              "      <td>0.019990</td>\n",
              "      <td>0.020011</td>\n",
              "      <td>0.839355</td>\n",
              "      <td>...</td>\n",
              "      <td>0.0</td>\n",
              "      <td>0.0</td>\n",
              "      <td>0.0</td>\n",
              "      <td>0.0</td>\n",
              "      <td>0.0</td>\n",
              "      <td>0.0</td>\n",
              "      <td>0.0</td>\n",
              "      <td>0.0</td>\n",
              "      <td>0.0</td>\n",
              "      <td>0.0</td>\n",
              "    </tr>\n",
              "    <tr>\n",
              "      <th>1</th>\n",
              "      <td>0.000115</td>\n",
              "      <td>0.70</td>\n",
              "      <td>0.8</td>\n",
              "      <td>0.933602</td>\n",
              "      <td>0.048358</td>\n",
              "      <td>0.912281</td>\n",
              "      <td>0.012497</td>\n",
              "      <td>0.012483</td>\n",
              "      <td>0.012498</td>\n",
              "      <td>0.012768</td>\n",
              "      <td>...</td>\n",
              "      <td>0.0</td>\n",
              "      <td>0.0</td>\n",
              "      <td>0.0</td>\n",
              "      <td>0.0</td>\n",
              "      <td>0.0</td>\n",
              "      <td>0.0</td>\n",
              "      <td>0.0</td>\n",
              "      <td>0.0</td>\n",
              "      <td>0.0</td>\n",
              "      <td>0.0</td>\n",
              "    </tr>\n",
              "    <tr>\n",
              "      <th>2</th>\n",
              "      <td>0.000230</td>\n",
              "      <td>0.40</td>\n",
              "      <td>0.4</td>\n",
              "      <td>0.905508</td>\n",
              "      <td>0.066567</td>\n",
              "      <td>0.972299</td>\n",
              "      <td>0.005539</td>\n",
              "      <td>0.005533</td>\n",
              "      <td>0.005541</td>\n",
              "      <td>0.005659</td>\n",
              "      <td>...</td>\n",
              "      <td>0.0</td>\n",
              "      <td>0.0</td>\n",
              "      <td>0.0</td>\n",
              "      <td>0.0</td>\n",
              "      <td>0.0</td>\n",
              "      <td>0.0</td>\n",
              "      <td>0.0</td>\n",
              "      <td>0.0</td>\n",
              "      <td>0.0</td>\n",
              "      <td>0.0</td>\n",
              "    </tr>\n",
              "    <tr>\n",
              "      <th>3</th>\n",
              "      <td>0.000345</td>\n",
              "      <td>0.55</td>\n",
              "      <td>0.1</td>\n",
              "      <td>0.894070</td>\n",
              "      <td>0.074328</td>\n",
              "      <td>0.923684</td>\n",
              "      <td>0.901597</td>\n",
              "      <td>0.011093</td>\n",
              "      <td>0.011106</td>\n",
              "      <td>0.011347</td>\n",
              "      <td>...</td>\n",
              "      <td>0.0</td>\n",
              "      <td>0.0</td>\n",
              "      <td>0.0</td>\n",
              "      <td>0.0</td>\n",
              "      <td>0.0</td>\n",
              "      <td>0.0</td>\n",
              "      <td>0.0</td>\n",
              "      <td>0.0</td>\n",
              "      <td>0.0</td>\n",
              "      <td>0.0</td>\n",
              "    </tr>\n",
              "    <tr>\n",
              "      <th>4</th>\n",
              "      <td>0.000460</td>\n",
              "      <td>0.50</td>\n",
              "      <td>0.0</td>\n",
              "      <td>0.929382</td>\n",
              "      <td>0.049552</td>\n",
              "      <td>0.898026</td>\n",
              "      <td>0.016670</td>\n",
              "      <td>0.016653</td>\n",
              "      <td>0.016675</td>\n",
              "      <td>0.147768</td>\n",
              "      <td>...</td>\n",
              "      <td>0.0</td>\n",
              "      <td>0.0</td>\n",
              "      <td>0.0</td>\n",
              "      <td>0.0</td>\n",
              "      <td>0.0</td>\n",
              "      <td>0.0</td>\n",
              "      <td>0.0</td>\n",
              "      <td>0.0</td>\n",
              "      <td>0.0</td>\n",
              "      <td>0.0</td>\n",
              "    </tr>\n",
              "  </tbody>\n",
              "</table>\n",
              "<p>5 rows × 63 columns</p>\n",
              "</div>\n",
              "      <button class=\"colab-df-convert\" onclick=\"convertToInteractive('df-e8d8852f-8602-4a4c-bd32-f6a327f9077e')\"\n",
              "              title=\"Convert this dataframe to an interactive table.\"\n",
              "              style=\"display:none;\">\n",
              "        \n",
              "  <svg xmlns=\"http://www.w3.org/2000/svg\" height=\"24px\"viewBox=\"0 0 24 24\"\n",
              "       width=\"24px\">\n",
              "    <path d=\"M0 0h24v24H0V0z\" fill=\"none\"/>\n",
              "    <path d=\"M18.56 5.44l.94 2.06.94-2.06 2.06-.94-2.06-.94-.94-2.06-.94 2.06-2.06.94zm-11 1L8.5 8.5l.94-2.06 2.06-.94-2.06-.94L8.5 2.5l-.94 2.06-2.06.94zm10 10l.94 2.06.94-2.06 2.06-.94-2.06-.94-.94-2.06-.94 2.06-2.06.94z\"/><path d=\"M17.41 7.96l-1.37-1.37c-.4-.4-.92-.59-1.43-.59-.52 0-1.04.2-1.43.59L10.3 9.45l-7.72 7.72c-.78.78-.78 2.05 0 2.83L4 21.41c.39.39.9.59 1.41.59.51 0 1.02-.2 1.41-.59l7.78-7.78 2.81-2.81c.8-.78.8-2.07 0-2.86zM5.41 20L4 18.59l7.72-7.72 1.47 1.35L5.41 20z\"/>\n",
              "  </svg>\n",
              "      </button>\n",
              "      \n",
              "  <style>\n",
              "    .colab-df-container {\n",
              "      display:flex;\n",
              "      flex-wrap:wrap;\n",
              "      gap: 12px;\n",
              "    }\n",
              "\n",
              "    .colab-df-convert {\n",
              "      background-color: #E8F0FE;\n",
              "      border: none;\n",
              "      border-radius: 50%;\n",
              "      cursor: pointer;\n",
              "      display: none;\n",
              "      fill: #1967D2;\n",
              "      height: 32px;\n",
              "      padding: 0 0 0 0;\n",
              "      width: 32px;\n",
              "    }\n",
              "\n",
              "    .colab-df-convert:hover {\n",
              "      background-color: #E2EBFA;\n",
              "      box-shadow: 0px 1px 2px rgba(60, 64, 67, 0.3), 0px 1px 3px 1px rgba(60, 64, 67, 0.15);\n",
              "      fill: #174EA6;\n",
              "    }\n",
              "\n",
              "    [theme=dark] .colab-df-convert {\n",
              "      background-color: #3B4455;\n",
              "      fill: #D2E3FC;\n",
              "    }\n",
              "\n",
              "    [theme=dark] .colab-df-convert:hover {\n",
              "      background-color: #434B5C;\n",
              "      box-shadow: 0px 1px 3px 1px rgba(0, 0, 0, 0.15);\n",
              "      filter: drop-shadow(0px 1px 2px rgba(0, 0, 0, 0.3));\n",
              "      fill: #FFFFFF;\n",
              "    }\n",
              "  </style>\n",
              "\n",
              "      <script>\n",
              "        const buttonEl =\n",
              "          document.querySelector('#df-e8d8852f-8602-4a4c-bd32-f6a327f9077e button.colab-df-convert');\n",
              "        buttonEl.style.display =\n",
              "          google.colab.kernel.accessAllowed ? 'block' : 'none';\n",
              "\n",
              "        async function convertToInteractive(key) {\n",
              "          const element = document.querySelector('#df-e8d8852f-8602-4a4c-bd32-f6a327f9077e');\n",
              "          const dataTable =\n",
              "            await google.colab.kernel.invokeFunction('convertToInteractive',\n",
              "                                                     [key], {});\n",
              "          if (!dataTable) return;\n",
              "\n",
              "          const docLinkHtml = 'Like what you see? Visit the ' +\n",
              "            '<a target=\"_blank\" href=https://colab.research.google.com/notebooks/data_table.ipynb>data table notebook</a>'\n",
              "            + ' to learn more about interactive tables.';\n",
              "          element.innerHTML = '';\n",
              "          dataTable['output_type'] = 'display_data';\n",
              "          await google.colab.output.renderOutput(dataTable, element);\n",
              "          const docLink = document.createElement('div');\n",
              "          docLink.innerHTML = docLinkHtml;\n",
              "          element.appendChild(docLink);\n",
              "        }\n",
              "      </script>\n",
              "    </div>\n",
              "  </div>\n",
              "  "
            ]
          },
          "metadata": {},
          "execution_count": 4
        }
      ]
    },
    {
      "cell_type": "markdown",
      "source": [
        "##Naive Bayes"
      ],
      "metadata": {
        "id": "B9fWrdDYz8gZ"
      }
    },
    {
      "cell_type": "code",
      "source": [
        "X_train, X_test, y_train, y_test = train_test_split(x,y, test_size=0.3, random_state=42)\n",
        "\n",
        "nb_clf = GaussianNB()\n",
        "nb_clf.fit(X_train, y_train)\n",
        "nb_pred = nb_clf.predict(X_test)\n",
        "nb_acc = accuracy_score(y_test, nb_pred)\n",
        "print(\"Naive Bayes accuracy :\", nb_acc)\n",
        "\n",
        "\n",
        "X_train, X_test, y_train, y_test = train_test_split(x_scaled,y, test_size=0.3, random_state=42)\n",
        "\n",
        "nb_clf = GaussianNB()\n",
        "nb_clf.fit(X_train, y_train)\n",
        "nb_pred = nb_clf.predict(X_test)\n",
        "nb_acc = accuracy_score(y_test, nb_pred)\n",
        "print(\"Naive Bayes accuracy scaled:\", nb_acc)"
      ],
      "metadata": {
        "colab": {
          "base_uri": "https://localhost:8080/"
        },
        "id": "7EHYXRxjbD7w",
        "outputId": "7bd725d1-a7b2-4d41-bb9a-62d481c45eb2"
      },
      "execution_count": null,
      "outputs": [
        {
          "output_type": "stream",
          "name": "stdout",
          "text": [
            "Naive Bayes accuracy : 0.4869631901840491\n",
            "Naive Bayes accuracy scaled: 0.49003067484662577\n"
          ]
        }
      ]
    },
    {
      "cell_type": "markdown",
      "source": [
        "##SVM"
      ],
      "metadata": {
        "id": "VllWw61tz-9h"
      }
    },
    {
      "cell_type": "code",
      "source": [
        "#Unscaled\n",
        "X_train, X_test, y_train, y_test = train_test_split(x,y, test_size=0.3, random_state=42)\n",
        "\n",
        "svm_clf = SVC(kernel='linear', C=1, cache_size=2000) \n",
        "svm_clf.fit(X_train, y_train)\n",
        "svm_pred = svm_clf.predict(X_test)\n",
        "svm_acc = accuracy_score(y_test, svm_pred)\n",
        "print(\"SVM accuracy:\", svm_acc)"
      ],
      "metadata": {
        "id": "zUdzpVv_zqXU",
        "colab": {
          "base_uri": "https://localhost:8080/"
        },
        "outputId": "6f92a6be-f95a-4309-d2cf-fc58841438b6"
      },
      "execution_count": null,
      "outputs": [
        {
          "output_type": "stream",
          "name": "stdout",
          "text": [
            "SVM accuracy: 0.48504601226993865\n"
          ]
        }
      ]
    },
    {
      "cell_type": "code",
      "source": [
        "#Scaled\n",
        "X_train, X_test, y_train, y_test = train_test_split(x_scaled,y, test_size=0.3, random_state=42)\n",
        "\n",
        "svm_clf = SVC(kernel='linear', C=1, cache_size=2000) \n",
        "svm_clf.fit(X_train, y_train)\n",
        "svm_pred = svm_clf.predict(X_test)\n",
        "svm_acc = accuracy_score(y_test, svm_pred)\n",
        "print(\"SVM accuracy:\", svm_acc)"
      ],
      "metadata": {
        "id": "UaZduGJBfw82",
        "colab": {
          "base_uri": "https://localhost:8080/"
        },
        "outputId": "14a35785-ad88-44ee-f00e-ca910f5edf10"
      },
      "execution_count": null,
      "outputs": [
        {
          "output_type": "stream",
          "name": "stdout",
          "text": [
            "SVM accuracy: 0.7174079754601227\n"
          ]
        }
      ]
    },
    {
      "cell_type": "markdown",
      "source": [
        "##Random Forest"
      ],
      "metadata": {
        "id": "YYV3nWgw0Az8"
      }
    },
    {
      "cell_type": "code",
      "source": [
        "from sklearn.ensemble import RandomForestClassifier\n",
        "\n",
        "X_train, X_test, y_train, y_test = train_test_split(x,y, test_size=0.3, random_state=42)\n",
        "rfc = RandomForestClassifier(n_estimators=100, random_state=42)\n",
        "\n",
        "# fit the random forest classifier to the training data\n",
        "rfc.fit(X_train, y_train)\n",
        "\n",
        "# make predictions on the testing data\n",
        "y_pred = rfc.predict(X_test)\n",
        "\n",
        "# calculate the accuracy of the random forest classifier\n",
        "accuracy = accuracy_score(y_test, y_pred)\n",
        "print(\"Accuracy:\", accuracy)"
      ],
      "metadata": {
        "id": "L41fPD45H-h6",
        "colab": {
          "base_uri": "https://localhost:8080/"
        },
        "outputId": "1e80ea1a-b0d2-47de-d86d-a9ca5b099379"
      },
      "execution_count": null,
      "outputs": [
        {
          "output_type": "stream",
          "name": "stdout",
          "text": [
            "Accuracy: 0.9513036809815951\n"
          ]
        }
      ]
    },
    {
      "cell_type": "code",
      "source": [
        "from sklearn.ensemble import RandomForestClassifier\n",
        "\n",
        "X_train, X_test, y_train, y_test = train_test_split(x_scaled,y, test_size=0.3, random_state=42)\n",
        "rfc = RandomForestClassifier(n_estimators=100, random_state=42)\n",
        "\n",
        "# fit the random forest classifier to the training data\n",
        "rfc.fit(X_train, y_train)\n",
        "\n",
        "# make predictions on the testing data\n",
        "y_pred = rfc.predict(X_test)\n",
        "\n",
        "# calculate the accuracy of the random forest classifier\n",
        "accuracy = accuracy_score(y_test, y_pred)\n",
        "print(\"Accuracy:(scaled)\", accuracy)"
      ],
      "metadata": {
        "id": "IuOyrCHrTWMC",
        "colab": {
          "base_uri": "https://localhost:8080/"
        },
        "outputId": "bd9c4662-e871-4205-99f6-f4c018cfd692"
      },
      "execution_count": null,
      "outputs": [
        {
          "output_type": "stream",
          "name": "stdout",
          "text": [
            "Accuracy:(scaled) 0.9516871165644172\n"
          ]
        }
      ]
    },
    {
      "cell_type": "markdown",
      "source": [
        "# dropping columns = sum zero > 6000\n"
      ],
      "metadata": {
        "id": "oeu0R1lovFbJ"
      }
    },
    {
      "cell_type": "code",
      "source": [
        "df = pd.read_csv('/content/feature_dataset_8692.csv')\n",
        "y =(df.LSRP12<df.LSRP12.quantile()).replace({True:1, False:2})\n",
        "\n",
        "\n",
        "\n",
        "for column_name in df.columns:\n",
        "    column = df[column_name]\n",
        "    # Get the count of Zeros in column \n",
        "    count = (column == 0).sum()\n",
        "   \n",
        "    if (count>=6000):\n",
        "       #print('Count of zeros in column ', column_name, ' is : ', count)\n",
        "       df.drop(columns =column_name, inplace = True )\n",
        "\n",
        "df = df.drop(['Mach', 'LSRP12','LSRP2','NRSM','english_text','topic_distributions','word_tokens','part_of_speech','word_freq_dist'], axis=1)  \n",
        "\n",
        "df.info()"
      ],
      "metadata": {
        "id": "kbP8BNkFr7_Q",
        "colab": {
          "base_uri": "https://localhost:8080/"
        },
        "outputId": "be5dcdf6-43d6-4160-9a06-28e6f0339408"
      },
      "execution_count": null,
      "outputs": [
        {
          "output_type": "stream",
          "name": "stdout",
          "text": [
            "<class 'pandas.core.frame.DataFrame'>\n",
            "RangeIndex: 8692 entries, 0 to 8691\n",
            "Data columns (total 29 columns):\n",
            " #   Column                Non-Null Count  Dtype  \n",
            "---  ------                --------------  -----  \n",
            " 0   Unnamed: 0            8692 non-null   int64  \n",
            " 1   polarity              8692 non-null   float64\n",
            " 2   subjectivity          8692 non-null   float64\n",
            " 3   flesch_reading_ease   8692 non-null   float64\n",
            " 4   flesch_kincaid_grade  8692 non-null   float64\n",
            " 5   lexical_density       8692 non-null   float64\n",
            " 6   topic_0               8692 non-null   float64\n",
            " 7   topic_1               8692 non-null   float64\n",
            " 8   topic_2               8692 non-null   float64\n",
            " 9   topic_3               8692 non-null   float64\n",
            " 10  topic_4               8692 non-null   float64\n",
            " 11  topic_5               8692 non-null   float64\n",
            " 12  topic_6               8692 non-null   float64\n",
            " 13  topic_7               8692 non-null   float64\n",
            " 14  topic_8               8692 non-null   float64\n",
            " 15  topic_9               8692 non-null   float64\n",
            " 16  word_count            8692 non-null   int64  \n",
            " 17  avg_word_length       8692 non-null   float64\n",
            " 18  stopword_count        8692 non-null   int64  \n",
            " 19  NN                    8692 non-null   float64\n",
            " 20  JJ                    8692 non-null   float64\n",
            " 21  DT                    8692 non-null   float64\n",
            " 22  IN                    8692 non-null   float64\n",
            " 23  NNP                   8692 non-null   float64\n",
            " 24  PRP                   8692 non-null   float64\n",
            " 25  RB                    8692 non-null   float64\n",
            " 26  VB                    8692 non-null   float64\n",
            " 27  :                     8692 non-null   float64\n",
            " 28  .                     8692 non-null   float64\n",
            "dtypes: float64(26), int64(3)\n",
            "memory usage: 1.9 MB\n"
          ]
        }
      ]
    },
    {
      "cell_type": "code",
      "source": [
        "from sklearn.preprocessing import MinMaxScaler\n",
        "import pandas as pd\n",
        " \n",
        "scaler = MinMaxScaler()\n",
        " \n",
        "x_scaled = scaler.fit_transform(df.to_numpy())\n",
        "x_scaled = pd.DataFrame(x_scaled)\n",
        " \n",
        "print(\"Scaled Dataset Using MinMaxScaler\")\n",
        "x_scaled.head()"
      ],
      "metadata": {
        "id": "IUfugufuakWR",
        "colab": {
          "base_uri": "https://localhost:8080/",
          "height": 317
        },
        "outputId": "0500a46c-f718-42cf-ecfc-959abfa63a77"
      },
      "execution_count": null,
      "outputs": [
        {
          "output_type": "stream",
          "name": "stdout",
          "text": [
            "Scaled Dataset Using MinMaxScaler\n"
          ]
        },
        {
          "output_type": "execute_result",
          "data": {
            "text/plain": [
              "         0     1    2         3         4         5         6         7   \\\n",
              "0  0.000000  0.50  0.0  0.941818  0.040000  0.684211  0.020010  0.019990   \n",
              "1  0.000115  0.70  0.8  0.933602  0.048358  0.912281  0.012497  0.012483   \n",
              "2  0.000230  0.40  0.4  0.905508  0.066567  0.972299  0.005539  0.005533   \n",
              "3  0.000345  0.55  0.1  0.894070  0.074328  0.923684  0.901597  0.011093   \n",
              "4  0.000460  0.50  0.0  0.929382  0.049552  0.898026  0.016670  0.016653   \n",
              "\n",
              "         8         9   ...        19        20        21        22        23  \\\n",
              "0  0.020011  0.839355  ...  0.031915  0.000000  0.000000  0.000000  0.000000   \n",
              "1  0.012498  0.012768  ...  0.031915  0.015625  0.030303  0.002404  0.000000   \n",
              "2  0.005541  0.005659  ...  0.021277  0.015625  0.015152  0.000000  0.000617   \n",
              "3  0.011106  0.011347  ...  0.031915  0.015625  0.030303  0.002404  0.000000   \n",
              "4  0.016675  0.147768  ...  0.010638  0.000000  0.030303  0.000000  0.000000   \n",
              "\n",
              "         24        25        26        27        28  \n",
              "0  0.000000  0.000000  0.000000  0.000000  0.000000  \n",
              "1  0.000000  0.000000  0.000000  0.000000  0.000000  \n",
              "2  0.027778  0.044444  0.021739  0.006897  0.000000  \n",
              "3  0.000000  0.022222  0.000000  0.000000  0.000000  \n",
              "4  0.000000  0.000000  0.000000  0.000000  0.004149  \n",
              "\n",
              "[5 rows x 29 columns]"
            ],
            "text/html": [
              "\n",
              "  <div id=\"df-c7b545f3-657a-4f2a-8404-24b27fb9ce8b\">\n",
              "    <div class=\"colab-df-container\">\n",
              "      <div>\n",
              "<style scoped>\n",
              "    .dataframe tbody tr th:only-of-type {\n",
              "        vertical-align: middle;\n",
              "    }\n",
              "\n",
              "    .dataframe tbody tr th {\n",
              "        vertical-align: top;\n",
              "    }\n",
              "\n",
              "    .dataframe thead th {\n",
              "        text-align: right;\n",
              "    }\n",
              "</style>\n",
              "<table border=\"1\" class=\"dataframe\">\n",
              "  <thead>\n",
              "    <tr style=\"text-align: right;\">\n",
              "      <th></th>\n",
              "      <th>0</th>\n",
              "      <th>1</th>\n",
              "      <th>2</th>\n",
              "      <th>3</th>\n",
              "      <th>4</th>\n",
              "      <th>5</th>\n",
              "      <th>6</th>\n",
              "      <th>7</th>\n",
              "      <th>8</th>\n",
              "      <th>9</th>\n",
              "      <th>...</th>\n",
              "      <th>19</th>\n",
              "      <th>20</th>\n",
              "      <th>21</th>\n",
              "      <th>22</th>\n",
              "      <th>23</th>\n",
              "      <th>24</th>\n",
              "      <th>25</th>\n",
              "      <th>26</th>\n",
              "      <th>27</th>\n",
              "      <th>28</th>\n",
              "    </tr>\n",
              "  </thead>\n",
              "  <tbody>\n",
              "    <tr>\n",
              "      <th>0</th>\n",
              "      <td>0.000000</td>\n",
              "      <td>0.50</td>\n",
              "      <td>0.0</td>\n",
              "      <td>0.941818</td>\n",
              "      <td>0.040000</td>\n",
              "      <td>0.684211</td>\n",
              "      <td>0.020010</td>\n",
              "      <td>0.019990</td>\n",
              "      <td>0.020011</td>\n",
              "      <td>0.839355</td>\n",
              "      <td>...</td>\n",
              "      <td>0.031915</td>\n",
              "      <td>0.000000</td>\n",
              "      <td>0.000000</td>\n",
              "      <td>0.000000</td>\n",
              "      <td>0.000000</td>\n",
              "      <td>0.000000</td>\n",
              "      <td>0.000000</td>\n",
              "      <td>0.000000</td>\n",
              "      <td>0.000000</td>\n",
              "      <td>0.000000</td>\n",
              "    </tr>\n",
              "    <tr>\n",
              "      <th>1</th>\n",
              "      <td>0.000115</td>\n",
              "      <td>0.70</td>\n",
              "      <td>0.8</td>\n",
              "      <td>0.933602</td>\n",
              "      <td>0.048358</td>\n",
              "      <td>0.912281</td>\n",
              "      <td>0.012497</td>\n",
              "      <td>0.012483</td>\n",
              "      <td>0.012498</td>\n",
              "      <td>0.012768</td>\n",
              "      <td>...</td>\n",
              "      <td>0.031915</td>\n",
              "      <td>0.015625</td>\n",
              "      <td>0.030303</td>\n",
              "      <td>0.002404</td>\n",
              "      <td>0.000000</td>\n",
              "      <td>0.000000</td>\n",
              "      <td>0.000000</td>\n",
              "      <td>0.000000</td>\n",
              "      <td>0.000000</td>\n",
              "      <td>0.000000</td>\n",
              "    </tr>\n",
              "    <tr>\n",
              "      <th>2</th>\n",
              "      <td>0.000230</td>\n",
              "      <td>0.40</td>\n",
              "      <td>0.4</td>\n",
              "      <td>0.905508</td>\n",
              "      <td>0.066567</td>\n",
              "      <td>0.972299</td>\n",
              "      <td>0.005539</td>\n",
              "      <td>0.005533</td>\n",
              "      <td>0.005541</td>\n",
              "      <td>0.005659</td>\n",
              "      <td>...</td>\n",
              "      <td>0.021277</td>\n",
              "      <td>0.015625</td>\n",
              "      <td>0.015152</td>\n",
              "      <td>0.000000</td>\n",
              "      <td>0.000617</td>\n",
              "      <td>0.027778</td>\n",
              "      <td>0.044444</td>\n",
              "      <td>0.021739</td>\n",
              "      <td>0.006897</td>\n",
              "      <td>0.000000</td>\n",
              "    </tr>\n",
              "    <tr>\n",
              "      <th>3</th>\n",
              "      <td>0.000345</td>\n",
              "      <td>0.55</td>\n",
              "      <td>0.1</td>\n",
              "      <td>0.894070</td>\n",
              "      <td>0.074328</td>\n",
              "      <td>0.923684</td>\n",
              "      <td>0.901597</td>\n",
              "      <td>0.011093</td>\n",
              "      <td>0.011106</td>\n",
              "      <td>0.011347</td>\n",
              "      <td>...</td>\n",
              "      <td>0.031915</td>\n",
              "      <td>0.015625</td>\n",
              "      <td>0.030303</td>\n",
              "      <td>0.002404</td>\n",
              "      <td>0.000000</td>\n",
              "      <td>0.000000</td>\n",
              "      <td>0.022222</td>\n",
              "      <td>0.000000</td>\n",
              "      <td>0.000000</td>\n",
              "      <td>0.000000</td>\n",
              "    </tr>\n",
              "    <tr>\n",
              "      <th>4</th>\n",
              "      <td>0.000460</td>\n",
              "      <td>0.50</td>\n",
              "      <td>0.0</td>\n",
              "      <td>0.929382</td>\n",
              "      <td>0.049552</td>\n",
              "      <td>0.898026</td>\n",
              "      <td>0.016670</td>\n",
              "      <td>0.016653</td>\n",
              "      <td>0.016675</td>\n",
              "      <td>0.147768</td>\n",
              "      <td>...</td>\n",
              "      <td>0.010638</td>\n",
              "      <td>0.000000</td>\n",
              "      <td>0.030303</td>\n",
              "      <td>0.000000</td>\n",
              "      <td>0.000000</td>\n",
              "      <td>0.000000</td>\n",
              "      <td>0.000000</td>\n",
              "      <td>0.000000</td>\n",
              "      <td>0.000000</td>\n",
              "      <td>0.004149</td>\n",
              "    </tr>\n",
              "  </tbody>\n",
              "</table>\n",
              "<p>5 rows × 29 columns</p>\n",
              "</div>\n",
              "      <button class=\"colab-df-convert\" onclick=\"convertToInteractive('df-c7b545f3-657a-4f2a-8404-24b27fb9ce8b')\"\n",
              "              title=\"Convert this dataframe to an interactive table.\"\n",
              "              style=\"display:none;\">\n",
              "        \n",
              "  <svg xmlns=\"http://www.w3.org/2000/svg\" height=\"24px\"viewBox=\"0 0 24 24\"\n",
              "       width=\"24px\">\n",
              "    <path d=\"M0 0h24v24H0V0z\" fill=\"none\"/>\n",
              "    <path d=\"M18.56 5.44l.94 2.06.94-2.06 2.06-.94-2.06-.94-.94-2.06-.94 2.06-2.06.94zm-11 1L8.5 8.5l.94-2.06 2.06-.94-2.06-.94L8.5 2.5l-.94 2.06-2.06.94zm10 10l.94 2.06.94-2.06 2.06-.94-2.06-.94-.94-2.06-.94 2.06-2.06.94z\"/><path d=\"M17.41 7.96l-1.37-1.37c-.4-.4-.92-.59-1.43-.59-.52 0-1.04.2-1.43.59L10.3 9.45l-7.72 7.72c-.78.78-.78 2.05 0 2.83L4 21.41c.39.39.9.59 1.41.59.51 0 1.02-.2 1.41-.59l7.78-7.78 2.81-2.81c.8-.78.8-2.07 0-2.86zM5.41 20L4 18.59l7.72-7.72 1.47 1.35L5.41 20z\"/>\n",
              "  </svg>\n",
              "      </button>\n",
              "      \n",
              "  <style>\n",
              "    .colab-df-container {\n",
              "      display:flex;\n",
              "      flex-wrap:wrap;\n",
              "      gap: 12px;\n",
              "    }\n",
              "\n",
              "    .colab-df-convert {\n",
              "      background-color: #E8F0FE;\n",
              "      border: none;\n",
              "      border-radius: 50%;\n",
              "      cursor: pointer;\n",
              "      display: none;\n",
              "      fill: #1967D2;\n",
              "      height: 32px;\n",
              "      padding: 0 0 0 0;\n",
              "      width: 32px;\n",
              "    }\n",
              "\n",
              "    .colab-df-convert:hover {\n",
              "      background-color: #E2EBFA;\n",
              "      box-shadow: 0px 1px 2px rgba(60, 64, 67, 0.3), 0px 1px 3px 1px rgba(60, 64, 67, 0.15);\n",
              "      fill: #174EA6;\n",
              "    }\n",
              "\n",
              "    [theme=dark] .colab-df-convert {\n",
              "      background-color: #3B4455;\n",
              "      fill: #D2E3FC;\n",
              "    }\n",
              "\n",
              "    [theme=dark] .colab-df-convert:hover {\n",
              "      background-color: #434B5C;\n",
              "      box-shadow: 0px 1px 3px 1px rgba(0, 0, 0, 0.15);\n",
              "      filter: drop-shadow(0px 1px 2px rgba(0, 0, 0, 0.3));\n",
              "      fill: #FFFFFF;\n",
              "    }\n",
              "  </style>\n",
              "\n",
              "      <script>\n",
              "        const buttonEl =\n",
              "          document.querySelector('#df-c7b545f3-657a-4f2a-8404-24b27fb9ce8b button.colab-df-convert');\n",
              "        buttonEl.style.display =\n",
              "          google.colab.kernel.accessAllowed ? 'block' : 'none';\n",
              "\n",
              "        async function convertToInteractive(key) {\n",
              "          const element = document.querySelector('#df-c7b545f3-657a-4f2a-8404-24b27fb9ce8b');\n",
              "          const dataTable =\n",
              "            await google.colab.kernel.invokeFunction('convertToInteractive',\n",
              "                                                     [key], {});\n",
              "          if (!dataTable) return;\n",
              "\n",
              "          const docLinkHtml = 'Like what you see? Visit the ' +\n",
              "            '<a target=\"_blank\" href=https://colab.research.google.com/notebooks/data_table.ipynb>data table notebook</a>'\n",
              "            + ' to learn more about interactive tables.';\n",
              "          element.innerHTML = '';\n",
              "          dataTable['output_type'] = 'display_data';\n",
              "          await google.colab.output.renderOutput(dataTable, element);\n",
              "          const docLink = document.createElement('div');\n",
              "          docLink.innerHTML = docLinkHtml;\n",
              "          element.appendChild(docLink);\n",
              "        }\n",
              "      </script>\n",
              "    </div>\n",
              "  </div>\n",
              "  "
            ]
          },
          "metadata": {},
          "execution_count": 11
        }
      ]
    },
    {
      "cell_type": "markdown",
      "source": [
        "##Naive Bayes"
      ],
      "metadata": {
        "id": "ybAvGN5j0LLG"
      }
    },
    {
      "cell_type": "code",
      "source": [
        "X_train, X_test, y_train, y_test = train_test_split(df,y, test_size=0.2, random_state=42)\n",
        "\n",
        "nb_clf = GaussianNB()\n",
        "nb_clf.fit(X_train, y_train)\n",
        "nb_pred = nb_clf.predict(X_test)\n",
        "nb_acc = accuracy_score(y_test, nb_pred)\n",
        "print(\"Naive Bayes accuracy:\", nb_acc)\n",
        "\n",
        "\n",
        "X_train, X_test, y_train, y_test = train_test_split(x_scaled,y, test_size=0.2, random_state=42)\n",
        "\n",
        "nb_clf = GaussianNB()\n",
        "nb_clf.fit(X_train, y_train)\n",
        "nb_pred = nb_clf.predict(X_test)\n",
        "nb_acc = accuracy_score(y_test, nb_pred)\n",
        "print(\"Naive Bayes accuracy:\", nb_acc)"
      ],
      "metadata": {
        "id": "0pwSdzWgv8nY",
        "colab": {
          "base_uri": "https://localhost:8080/"
        },
        "outputId": "7a045a68-d8f3-4920-9d39-b4851335103e"
      },
      "execution_count": null,
      "outputs": [
        {
          "output_type": "stream",
          "name": "stdout",
          "text": [
            "Naive Bayes accuracy: 0.4824611845888442\n",
            "Naive Bayes accuracy: 0.48763657274295574\n"
          ]
        }
      ]
    },
    {
      "cell_type": "markdown",
      "source": [
        "##SVM"
      ],
      "metadata": {
        "id": "goeovXsY0NpZ"
      }
    },
    {
      "cell_type": "code",
      "source": [
        "#Unscaled\n",
        "X_train, X_test, y_train, y_test = train_test_split(df,y, test_size=0.2, random_state=42)\n",
        "\n",
        "svm_clf = SVC(kernel='linear', C=1)\n",
        "svm_clf.fit(X_train, y_train)\n",
        "svm_pred = svm_clf.predict(X_test)\n",
        "svm_acc = accuracy_score(y_test, svm_pred)\n",
        "print(\"SVM accuracy:\", svm_acc)"
      ],
      "metadata": {
        "id": "xwXQoztQ0QZa",
        "colab": {
          "base_uri": "https://localhost:8080/"
        },
        "outputId": "fd82d348-0c20-4149-dddb-910936415037"
      },
      "execution_count": null,
      "outputs": [
        {
          "output_type": "stream",
          "name": "stdout",
          "text": [
            "SVM accuracy: 0.45543415756181715\n"
          ]
        }
      ]
    },
    {
      "cell_type": "code",
      "source": [
        "#Scaled\n",
        "X_train, X_test, y_train, y_test = train_test_split(x_scaled,y, test_size=0.2, random_state=42)\n",
        "\n",
        "svm_clf = SVC(kernel='linear', C=1)\n",
        "svm_clf.fit(X_train, y_train)\n",
        "svm_pred = svm_clf.predict(X_test)\n",
        "svm_acc = accuracy_score(y_test, svm_pred)\n",
        "print(\"SVM accuracy:\", svm_acc)"
      ],
      "metadata": {
        "id": "Ck8yaZ3TwJad",
        "colab": {
          "base_uri": "https://localhost:8080/"
        },
        "outputId": "ef771b42-3279-4900-e13c-83e6b1388d6a"
      },
      "execution_count": null,
      "outputs": [
        {
          "output_type": "stream",
          "name": "stdout",
          "text": [
            "SVM accuracy: 0.7124784358826912\n"
          ]
        }
      ]
    },
    {
      "cell_type": "markdown",
      "source": [
        "##Random Forest"
      ],
      "metadata": {
        "id": "Hs7UDCxA0dj2"
      }
    },
    {
      "cell_type": "code",
      "source": [
        "from sklearn.ensemble import RandomForestClassifier\n",
        "\n",
        "X_train, X_test, y_train, y_test = train_test_split(df,y, test_size=0.3, random_state=42)\n",
        "rfc = RandomForestClassifier(n_estimators=100, random_state=42)\n",
        "\n",
        "# fit the random forest classifier to the training data\n",
        "rfc.fit(X_train, y_train)\n",
        "\n",
        "# make predictions on the testing data\n",
        "y_pred = rfc.predict(X_test)\n",
        "\n",
        "# calculate the accuracy of the random forest classifier\n",
        "accuracy = accuracy_score(y_test, y_pred)\n",
        "print(\"Accuracy:\", accuracy)"
      ],
      "metadata": {
        "id": "oWBk01790dE2",
        "colab": {
          "base_uri": "https://localhost:8080/"
        },
        "outputId": "3e1e3264-cfbd-4605-85d0-908766dd790c"
      },
      "execution_count": null,
      "outputs": [
        {
          "output_type": "stream",
          "name": "stdout",
          "text": [
            "Accuracy: 0.968558282208589\n"
          ]
        }
      ]
    },
    {
      "cell_type": "code",
      "source": [
        "from sklearn.ensemble import RandomForestClassifier\n",
        "\n",
        "X_train, X_test, y_train, y_test = train_test_split(x_scaled,y, test_size=0.3, random_state=42)\n",
        "rfc = RandomForestClassifier(n_estimators=100, random_state=42)\n",
        "\n",
        "# fit the random forest classifier to the training data\n",
        "rfc.fit(X_train, y_train)\n",
        "\n",
        "# make predictions on the testing data\n",
        "y_pred = rfc.predict(X_test)\n",
        "\n",
        "# calculate the accuracy of the random forest classifier\n",
        "accuracy = accuracy_score(y_test, y_pred)\n",
        "print(\"Accuracy:(scaled)\", accuracy)"
      ],
      "metadata": {
        "id": "DephzXvwdtRU",
        "colab": {
          "base_uri": "https://localhost:8080/"
        },
        "outputId": "1774b49f-d162-4d24-92de-d0cc5a53c01d"
      },
      "execution_count": null,
      "outputs": [
        {
          "output_type": "stream",
          "name": "stdout",
          "text": [
            "Accuracy:(scaled) 0.9662576687116564\n"
          ]
        }
      ]
    },
    {
      "cell_type": "markdown",
      "source": [
        "# drop 4000>"
      ],
      "metadata": {
        "id": "7KLUDI1GdfG1"
      }
    },
    {
      "cell_type": "code",
      "source": [
        "df = pd.read_csv('/content/feature_dataset_8692.csv')\n",
        "y =(df.LSRP12<df.LSRP12.quantile()).replace({True:1, False:2})\n",
        "\n",
        "\n",
        "\n",
        "for column_name in df.columns:\n",
        "    column = df[column_name]\n",
        "    # Get the count of Zeros in column \n",
        "    count = (column == 0).sum()\n",
        "   \n",
        "    if (count>=4000):\n",
        "      # print('Count of zeros in column ', column_name, ' is : ', count)\n",
        "       df.drop(columns =column_name, inplace = True )\n",
        "\n",
        "df = df.drop(['Mach', 'LSRP12','LSRP2','NRSM','english_text','topic_distributions','word_tokens','part_of_speech','word_freq_dist'], axis=1)  \n",
        "\n",
        "from sklearn.preprocessing import MinMaxScaler\n",
        "import pandas as pd\n",
        " \n",
        "scaler = MinMaxScaler()\n",
        " \n",
        "x_scaled = scaler.fit_transform(df.to_numpy())\n",
        "x_scaled = pd.DataFrame(x_scaled)\n",
        " \n",
        "print(\"Scaled Dataset Using MinMaxScaler\")\n",
        "x_scaled.head()\n"
      ],
      "metadata": {
        "id": "s9cKjir7desX",
        "colab": {
          "base_uri": "https://localhost:8080/",
          "height": 317
        },
        "outputId": "79e5498b-1114-457f-881d-f390004f2ef1"
      },
      "execution_count": null,
      "outputs": [
        {
          "output_type": "stream",
          "name": "stdout",
          "text": [
            "Scaled Dataset Using MinMaxScaler\n"
          ]
        },
        {
          "output_type": "execute_result",
          "data": {
            "text/plain": [
              "         0     1    2         3         4         5         6         7   \\\n",
              "0  0.000000  0.50  0.0  0.941818  0.040000  0.684211  0.020010  0.019990   \n",
              "1  0.000115  0.70  0.8  0.933602  0.048358  0.912281  0.012497  0.012483   \n",
              "2  0.000230  0.40  0.4  0.905508  0.066567  0.972299  0.005539  0.005533   \n",
              "3  0.000345  0.55  0.1  0.894070  0.074328  0.923684  0.901597  0.011093   \n",
              "4  0.000460  0.50  0.0  0.929382  0.049552  0.898026  0.016670  0.016653   \n",
              "\n",
              "         8         9   ...        11        12        13        14        15  \\\n",
              "0  0.020011  0.839355  ...  0.020283  0.020402  0.020158  0.019916  0.020023   \n",
              "1  0.012498  0.012768  ...  0.012666  0.012740  0.012588  0.012413  0.889511   \n",
              "2  0.005541  0.005659  ...  0.241820  0.005647  0.005579  0.005467  0.719026   \n",
              "3  0.011106  0.011347  ...  0.011257  0.011324  0.011186  0.011025  0.011112   \n",
              "4  0.016675  0.147768  ...  0.016899  0.016996  0.016793  0.016581  0.723914   \n",
              "\n",
              "         16        17        18        19        20  \n",
              "0  0.000960  0.058824  0.001817  0.031915  0.000000  \n",
              "1  0.001344  0.080882  0.003633  0.031915  0.000000  \n",
              "2  0.003841  0.102241  0.007266  0.021277  0.000617  \n",
              "3  0.001536  0.124183  0.002725  0.031915  0.000000  \n",
              "4  0.001344  0.066176  0.004541  0.010638  0.000000  \n",
              "\n",
              "[5 rows x 21 columns]"
            ],
            "text/html": [
              "\n",
              "  <div id=\"df-a97fb0cb-f5a4-4162-8175-4f456f8805f9\">\n",
              "    <div class=\"colab-df-container\">\n",
              "      <div>\n",
              "<style scoped>\n",
              "    .dataframe tbody tr th:only-of-type {\n",
              "        vertical-align: middle;\n",
              "    }\n",
              "\n",
              "    .dataframe tbody tr th {\n",
              "        vertical-align: top;\n",
              "    }\n",
              "\n",
              "    .dataframe thead th {\n",
              "        text-align: right;\n",
              "    }\n",
              "</style>\n",
              "<table border=\"1\" class=\"dataframe\">\n",
              "  <thead>\n",
              "    <tr style=\"text-align: right;\">\n",
              "      <th></th>\n",
              "      <th>0</th>\n",
              "      <th>1</th>\n",
              "      <th>2</th>\n",
              "      <th>3</th>\n",
              "      <th>4</th>\n",
              "      <th>5</th>\n",
              "      <th>6</th>\n",
              "      <th>7</th>\n",
              "      <th>8</th>\n",
              "      <th>9</th>\n",
              "      <th>...</th>\n",
              "      <th>11</th>\n",
              "      <th>12</th>\n",
              "      <th>13</th>\n",
              "      <th>14</th>\n",
              "      <th>15</th>\n",
              "      <th>16</th>\n",
              "      <th>17</th>\n",
              "      <th>18</th>\n",
              "      <th>19</th>\n",
              "      <th>20</th>\n",
              "    </tr>\n",
              "  </thead>\n",
              "  <tbody>\n",
              "    <tr>\n",
              "      <th>0</th>\n",
              "      <td>0.000000</td>\n",
              "      <td>0.50</td>\n",
              "      <td>0.0</td>\n",
              "      <td>0.941818</td>\n",
              "      <td>0.040000</td>\n",
              "      <td>0.684211</td>\n",
              "      <td>0.020010</td>\n",
              "      <td>0.019990</td>\n",
              "      <td>0.020011</td>\n",
              "      <td>0.839355</td>\n",
              "      <td>...</td>\n",
              "      <td>0.020283</td>\n",
              "      <td>0.020402</td>\n",
              "      <td>0.020158</td>\n",
              "      <td>0.019916</td>\n",
              "      <td>0.020023</td>\n",
              "      <td>0.000960</td>\n",
              "      <td>0.058824</td>\n",
              "      <td>0.001817</td>\n",
              "      <td>0.031915</td>\n",
              "      <td>0.000000</td>\n",
              "    </tr>\n",
              "    <tr>\n",
              "      <th>1</th>\n",
              "      <td>0.000115</td>\n",
              "      <td>0.70</td>\n",
              "      <td>0.8</td>\n",
              "      <td>0.933602</td>\n",
              "      <td>0.048358</td>\n",
              "      <td>0.912281</td>\n",
              "      <td>0.012497</td>\n",
              "      <td>0.012483</td>\n",
              "      <td>0.012498</td>\n",
              "      <td>0.012768</td>\n",
              "      <td>...</td>\n",
              "      <td>0.012666</td>\n",
              "      <td>0.012740</td>\n",
              "      <td>0.012588</td>\n",
              "      <td>0.012413</td>\n",
              "      <td>0.889511</td>\n",
              "      <td>0.001344</td>\n",
              "      <td>0.080882</td>\n",
              "      <td>0.003633</td>\n",
              "      <td>0.031915</td>\n",
              "      <td>0.000000</td>\n",
              "    </tr>\n",
              "    <tr>\n",
              "      <th>2</th>\n",
              "      <td>0.000230</td>\n",
              "      <td>0.40</td>\n",
              "      <td>0.4</td>\n",
              "      <td>0.905508</td>\n",
              "      <td>0.066567</td>\n",
              "      <td>0.972299</td>\n",
              "      <td>0.005539</td>\n",
              "      <td>0.005533</td>\n",
              "      <td>0.005541</td>\n",
              "      <td>0.005659</td>\n",
              "      <td>...</td>\n",
              "      <td>0.241820</td>\n",
              "      <td>0.005647</td>\n",
              "      <td>0.005579</td>\n",
              "      <td>0.005467</td>\n",
              "      <td>0.719026</td>\n",
              "      <td>0.003841</td>\n",
              "      <td>0.102241</td>\n",
              "      <td>0.007266</td>\n",
              "      <td>0.021277</td>\n",
              "      <td>0.000617</td>\n",
              "    </tr>\n",
              "    <tr>\n",
              "      <th>3</th>\n",
              "      <td>0.000345</td>\n",
              "      <td>0.55</td>\n",
              "      <td>0.1</td>\n",
              "      <td>0.894070</td>\n",
              "      <td>0.074328</td>\n",
              "      <td>0.923684</td>\n",
              "      <td>0.901597</td>\n",
              "      <td>0.011093</td>\n",
              "      <td>0.011106</td>\n",
              "      <td>0.011347</td>\n",
              "      <td>...</td>\n",
              "      <td>0.011257</td>\n",
              "      <td>0.011324</td>\n",
              "      <td>0.011186</td>\n",
              "      <td>0.011025</td>\n",
              "      <td>0.011112</td>\n",
              "      <td>0.001536</td>\n",
              "      <td>0.124183</td>\n",
              "      <td>0.002725</td>\n",
              "      <td>0.031915</td>\n",
              "      <td>0.000000</td>\n",
              "    </tr>\n",
              "    <tr>\n",
              "      <th>4</th>\n",
              "      <td>0.000460</td>\n",
              "      <td>0.50</td>\n",
              "      <td>0.0</td>\n",
              "      <td>0.929382</td>\n",
              "      <td>0.049552</td>\n",
              "      <td>0.898026</td>\n",
              "      <td>0.016670</td>\n",
              "      <td>0.016653</td>\n",
              "      <td>0.016675</td>\n",
              "      <td>0.147768</td>\n",
              "      <td>...</td>\n",
              "      <td>0.016899</td>\n",
              "      <td>0.016996</td>\n",
              "      <td>0.016793</td>\n",
              "      <td>0.016581</td>\n",
              "      <td>0.723914</td>\n",
              "      <td>0.001344</td>\n",
              "      <td>0.066176</td>\n",
              "      <td>0.004541</td>\n",
              "      <td>0.010638</td>\n",
              "      <td>0.000000</td>\n",
              "    </tr>\n",
              "  </tbody>\n",
              "</table>\n",
              "<p>5 rows × 21 columns</p>\n",
              "</div>\n",
              "      <button class=\"colab-df-convert\" onclick=\"convertToInteractive('df-a97fb0cb-f5a4-4162-8175-4f456f8805f9')\"\n",
              "              title=\"Convert this dataframe to an interactive table.\"\n",
              "              style=\"display:none;\">\n",
              "        \n",
              "  <svg xmlns=\"http://www.w3.org/2000/svg\" height=\"24px\"viewBox=\"0 0 24 24\"\n",
              "       width=\"24px\">\n",
              "    <path d=\"M0 0h24v24H0V0z\" fill=\"none\"/>\n",
              "    <path d=\"M18.56 5.44l.94 2.06.94-2.06 2.06-.94-2.06-.94-.94-2.06-.94 2.06-2.06.94zm-11 1L8.5 8.5l.94-2.06 2.06-.94-2.06-.94L8.5 2.5l-.94 2.06-2.06.94zm10 10l.94 2.06.94-2.06 2.06-.94-2.06-.94-.94-2.06-.94 2.06-2.06.94z\"/><path d=\"M17.41 7.96l-1.37-1.37c-.4-.4-.92-.59-1.43-.59-.52 0-1.04.2-1.43.59L10.3 9.45l-7.72 7.72c-.78.78-.78 2.05 0 2.83L4 21.41c.39.39.9.59 1.41.59.51 0 1.02-.2 1.41-.59l7.78-7.78 2.81-2.81c.8-.78.8-2.07 0-2.86zM5.41 20L4 18.59l7.72-7.72 1.47 1.35L5.41 20z\"/>\n",
              "  </svg>\n",
              "      </button>\n",
              "      \n",
              "  <style>\n",
              "    .colab-df-container {\n",
              "      display:flex;\n",
              "      flex-wrap:wrap;\n",
              "      gap: 12px;\n",
              "    }\n",
              "\n",
              "    .colab-df-convert {\n",
              "      background-color: #E8F0FE;\n",
              "      border: none;\n",
              "      border-radius: 50%;\n",
              "      cursor: pointer;\n",
              "      display: none;\n",
              "      fill: #1967D2;\n",
              "      height: 32px;\n",
              "      padding: 0 0 0 0;\n",
              "      width: 32px;\n",
              "    }\n",
              "\n",
              "    .colab-df-convert:hover {\n",
              "      background-color: #E2EBFA;\n",
              "      box-shadow: 0px 1px 2px rgba(60, 64, 67, 0.3), 0px 1px 3px 1px rgba(60, 64, 67, 0.15);\n",
              "      fill: #174EA6;\n",
              "    }\n",
              "\n",
              "    [theme=dark] .colab-df-convert {\n",
              "      background-color: #3B4455;\n",
              "      fill: #D2E3FC;\n",
              "    }\n",
              "\n",
              "    [theme=dark] .colab-df-convert:hover {\n",
              "      background-color: #434B5C;\n",
              "      box-shadow: 0px 1px 3px 1px rgba(0, 0, 0, 0.15);\n",
              "      filter: drop-shadow(0px 1px 2px rgba(0, 0, 0, 0.3));\n",
              "      fill: #FFFFFF;\n",
              "    }\n",
              "  </style>\n",
              "\n",
              "      <script>\n",
              "        const buttonEl =\n",
              "          document.querySelector('#df-a97fb0cb-f5a4-4162-8175-4f456f8805f9 button.colab-df-convert');\n",
              "        buttonEl.style.display =\n",
              "          google.colab.kernel.accessAllowed ? 'block' : 'none';\n",
              "\n",
              "        async function convertToInteractive(key) {\n",
              "          const element = document.querySelector('#df-a97fb0cb-f5a4-4162-8175-4f456f8805f9');\n",
              "          const dataTable =\n",
              "            await google.colab.kernel.invokeFunction('convertToInteractive',\n",
              "                                                     [key], {});\n",
              "          if (!dataTable) return;\n",
              "\n",
              "          const docLinkHtml = 'Like what you see? Visit the ' +\n",
              "            '<a target=\"_blank\" href=https://colab.research.google.com/notebooks/data_table.ipynb>data table notebook</a>'\n",
              "            + ' to learn more about interactive tables.';\n",
              "          element.innerHTML = '';\n",
              "          dataTable['output_type'] = 'display_data';\n",
              "          await google.colab.output.renderOutput(dataTable, element);\n",
              "          const docLink = document.createElement('div');\n",
              "          docLink.innerHTML = docLinkHtml;\n",
              "          element.appendChild(docLink);\n",
              "        }\n",
              "      </script>\n",
              "    </div>\n",
              "  </div>\n",
              "  "
            ]
          },
          "metadata": {},
          "execution_count": 17
        }
      ]
    },
    {
      "cell_type": "markdown",
      "source": [
        "##Naive Bayes"
      ],
      "metadata": {
        "id": "AR0OfCzr03qI"
      }
    },
    {
      "cell_type": "code",
      "source": [
        "X_train, X_test, y_train, y_test = train_test_split(df,y, test_size=0.2, random_state=42)\n",
        "\n",
        "nb_clf = GaussianNB()\n",
        "nb_clf.fit(X_train, y_train)\n",
        "nb_pred = nb_clf.predict(X_test)\n",
        "nb_acc = accuracy_score(y_test, nb_pred)\n",
        "print(\"Naive Bayes accuracy:\", nb_acc)\n",
        "\n",
        "\n",
        "X_train, X_test, y_train, y_test = train_test_split(x_scaled,y, test_size=0.2, random_state=42)\n",
        "\n",
        "nb_clf = GaussianNB()\n",
        "nb_clf.fit(X_train, y_train)\n",
        "nb_pred = nb_clf.predict(X_test)\n",
        "nb_acc = accuracy_score(y_test, nb_pred)\n",
        "print(\"Naive Bayes accuracy:\", nb_acc)"
      ],
      "metadata": {
        "id": "ohmXXjyId9hO",
        "colab": {
          "base_uri": "https://localhost:8080/"
        },
        "outputId": "745afa2a-ecb5-4ecc-d0b5-246bf6c1084f"
      },
      "execution_count": null,
      "outputs": [
        {
          "output_type": "stream",
          "name": "stdout",
          "text": [
            "Naive Bayes accuracy: 0.5583668775158137\n",
            "Naive Bayes accuracy: 0.5595169637722829\n"
          ]
        }
      ]
    },
    {
      "cell_type": "markdown",
      "source": [
        "#SVM"
      ],
      "metadata": {
        "id": "d8DJHFq41YMy"
      }
    },
    {
      "cell_type": "code",
      "source": [
        "#Unscaled\n",
        "X_train, X_test, y_train, y_test = train_test_split(df,y, test_size=0.3, random_state=42)\n",
        "\n",
        "svm_clf = SVC(kernel='linear', C=1)\n",
        "svm_clf.fit(X_train, y_train)\n",
        "svm_pred = svm_clf.predict(X_test)\n",
        "svm_acc = accuracy_score(y_test, svm_pred)\n",
        "print(\"SVM accuracy:\", svm_acc)"
      ],
      "metadata": {
        "id": "EpSK1iNDd-a2",
        "colab": {
          "base_uri": "https://localhost:8080/"
        },
        "outputId": "ce26d03d-78a8-423a-991a-6c88bcec77ef"
      },
      "execution_count": null,
      "outputs": [
        {
          "output_type": "stream",
          "name": "stdout",
          "text": [
            "SVM accuracy: 0.4263803680981595\n"
          ]
        }
      ]
    },
    {
      "cell_type": "code",
      "source": [
        "#Scaled\n",
        "X_train, X_test, y_train, y_test = train_test_split(x_scaled,y, test_size=0.3, random_state=42)\n",
        "\n",
        "svm_clf = SVC(kernel='linear', C=1)\n",
        "svm_clf.fit(X_train, y_train)\n",
        "svm_pred = svm_clf.predict(X_test)\n",
        "svm_acc = accuracy_score(y_test, svm_pred)\n",
        "print(\"SVM accuracy:\", svm_acc)"
      ],
      "metadata": {
        "id": "dXxVSfFkeCTY",
        "colab": {
          "base_uri": "https://localhost:8080/"
        },
        "outputId": "44f93cbb-6d57-48fe-a916-394d7518dd96"
      },
      "execution_count": null,
      "outputs": [
        {
          "output_type": "stream",
          "name": "stdout",
          "text": [
            "SVM accuracy: 0.7089723926380368\n"
          ]
        }
      ]
    },
    {
      "cell_type": "markdown",
      "source": [
        "##Random Forest"
      ],
      "metadata": {
        "id": "bb6zGvWp1ees"
      }
    },
    {
      "cell_type": "code",
      "source": [
        "#unscaled\n",
        "\n",
        "from sklearn.ensemble import RandomForestClassifier\n",
        "\n",
        "X_train, X_test, y_train, y_test = train_test_split(x,y, test_size=0.3, random_state=42)\n",
        "rfc = RandomForestClassifier(n_estimators=100, random_state=42)\n",
        "\n",
        "# fit the random forest classifier to the training data\n",
        "rfc.fit(X_train, y_train)\n",
        "\n",
        "# make predictions on the testing data\n",
        "y_pred = rfc.predict(X_test)\n",
        "\n",
        "# calculate the accuracy of the random forest classifier\n",
        "accuracy = accuracy_score(y_test, y_pred)\n",
        "print(\"Accuracy:\", accuracy)"
      ],
      "metadata": {
        "id": "d-_u3bgxeP4v",
        "colab": {
          "base_uri": "https://localhost:8080/"
        },
        "outputId": "2beba06b-9ce0-43b8-9623-ecf388d02143"
      },
      "execution_count": null,
      "outputs": [
        {
          "output_type": "stream",
          "name": "stdout",
          "text": [
            "Accuracy: 0.9513036809815951\n"
          ]
        }
      ]
    },
    {
      "cell_type": "code",
      "source": [
        "#scaled\n",
        "\n",
        "from sklearn.ensemble import RandomForestClassifier\n",
        "\n",
        "X_train, X_test, y_train, y_test = train_test_split(x_scaled,y, test_size=0.3, random_state=42)\n",
        "rfc = RandomForestClassifier(n_estimators=100, random_state=42)\n",
        "\n",
        "# fit the random forest classifier to the training data\n",
        "rfc.fit(X_train, y_train)\n",
        "\n",
        "# make predictions on the testing data\n",
        "y_pred = rfc.predict(X_test)\n",
        "\n",
        "# calculate the accuracy of the random forest classifier\n",
        "accuracy = accuracy_score(y_test, y_pred)\n",
        "print(\"Accuracy:(scaled)\", accuracy)"
      ],
      "metadata": {
        "id": "SVTr0foxdySZ",
        "colab": {
          "base_uri": "https://localhost:8080/"
        },
        "outputId": "52a02c21-2994-4243-a3d9-0ad3f2fb9c4f"
      },
      "execution_count": null,
      "outputs": [
        {
          "output_type": "stream",
          "name": "stdout",
          "text": [
            "Accuracy:(scaled) 0.9723926380368099\n"
          ]
        }
      ]
    },
    {
      "cell_type": "markdown",
      "source": [
        "# Ensemble"
      ],
      "metadata": {
        "id": "hCU84OpUh5MP"
      }
    },
    {
      "cell_type": "code",
      "source": [
        "df = pd.read_csv('/content/feature_dataset_8692.csv')\n",
        "y =(df.LSRP12<df.LSRP12.quantile()).replace({True:1, False:2})\n",
        "\n",
        "\n",
        "\n",
        "for column_name in df.columns:\n",
        "    column = df[column_name]\n",
        "    # Get the count of Zeros in column \n",
        "    count = (column == 0).sum()\n",
        "   \n",
        "    if (count>=6000):\n",
        "       df.drop(columns =column_name, inplace = True )\n",
        "\n",
        "df = df.drop(['Mach', 'LSRP12','LSRP2','NRSM','english_text','topic_distributions','word_tokens','part_of_speech','word_freq_dist'], axis=1)  \n",
        "\n",
        "df.info()"
      ],
      "metadata": {
        "id": "Zom19gsziH_A",
        "colab": {
          "base_uri": "https://localhost:8080/"
        },
        "outputId": "5370abfa-ad15-4a9e-bb09-00b3b7f7caca"
      },
      "execution_count": null,
      "outputs": [
        {
          "output_type": "stream",
          "name": "stdout",
          "text": [
            "<class 'pandas.core.frame.DataFrame'>\n",
            "RangeIndex: 8692 entries, 0 to 8691\n",
            "Data columns (total 29 columns):\n",
            " #   Column                Non-Null Count  Dtype  \n",
            "---  ------                --------------  -----  \n",
            " 0   Unnamed: 0            8692 non-null   int64  \n",
            " 1   polarity              8692 non-null   float64\n",
            " 2   subjectivity          8692 non-null   float64\n",
            " 3   flesch_reading_ease   8692 non-null   float64\n",
            " 4   flesch_kincaid_grade  8692 non-null   float64\n",
            " 5   lexical_density       8692 non-null   float64\n",
            " 6   topic_0               8692 non-null   float64\n",
            " 7   topic_1               8692 non-null   float64\n",
            " 8   topic_2               8692 non-null   float64\n",
            " 9   topic_3               8692 non-null   float64\n",
            " 10  topic_4               8692 non-null   float64\n",
            " 11  topic_5               8692 non-null   float64\n",
            " 12  topic_6               8692 non-null   float64\n",
            " 13  topic_7               8692 non-null   float64\n",
            " 14  topic_8               8692 non-null   float64\n",
            " 15  topic_9               8692 non-null   float64\n",
            " 16  word_count            8692 non-null   int64  \n",
            " 17  avg_word_length       8692 non-null   float64\n",
            " 18  stopword_count        8692 non-null   int64  \n",
            " 19  NN                    8692 non-null   float64\n",
            " 20  JJ                    8692 non-null   float64\n",
            " 21  DT                    8692 non-null   float64\n",
            " 22  IN                    8692 non-null   float64\n",
            " 23  NNP                   8692 non-null   float64\n",
            " 24  PRP                   8692 non-null   float64\n",
            " 25  RB                    8692 non-null   float64\n",
            " 26  VB                    8692 non-null   float64\n",
            " 27  :                     8692 non-null   float64\n",
            " 28  .                     8692 non-null   float64\n",
            "dtypes: float64(26), int64(3)\n",
            "memory usage: 1.9 MB\n"
          ]
        }
      ]
    },
    {
      "cell_type": "code",
      "source": [
        "import pandas as pd\n",
        "from sklearn.model_selection import train_test_split\n",
        "from sklearn.naive_bayes import GaussianNB\n",
        "from sklearn.ensemble import RandomForestClassifier, VotingClassifier\n",
        "from sklearn.tree import DecisionTreeClassifier\n",
        "import xgboost as xgb\n",
        "\n",
        "from sklearn.preprocessing import MinMaxScaler\n",
        "import pandas as pd\n",
        " \n",
        "scaler = MinMaxScaler()\n",
        " \n",
        "x_scaled = scaler.fit_transform(df.to_numpy())\n",
        "x_scaled = pd.DataFrame(x_scaled)\n",
        " \n",
        "print(\"Scaled Dataset Using MinMaxScaler\")\n",
        "x_scaled.head()\n",
        "\n",
        "\n",
        "\n",
        "X_train, X_test, y_train, y_test = train_test_split(x_scaled, y, test_size=0.3, random_state=42)\n",
        "\n",
        "\n",
        "nb = GaussianNB()\n",
        "rf = RandomForestClassifier(n_estimators=100, random_state=42)\n",
        "dt = DecisionTreeClassifier(random_state=42)\n",
        "xgboost = xgb.XGBClassifier(random_state=42)\n",
        "\n",
        "ensemble = VotingClassifier(estimators=[('nb', nb), ('rf', rf), ('dt', dt), ('xgboost', xgboost)], voting='hard')\n",
        "\n",
        "\n",
        "ensemble.fit(X_train, y_train)\n",
        "\n",
        "y_pred = ensemble.predict(X_test)\n",
        "\n",
        "\n",
        "from sklearn.metrics import accuracy_score, classification_report\n",
        "print(\"Accuracy:\", accuracy_score(y_test, y_pred))\n",
        "print(\"Classification Report:\\n\", classification_report(y_test, y_pred))\n"
      ],
      "metadata": {
        "id": "zqLqfp_eh40C",
        "colab": {
          "base_uri": "https://localhost:8080/"
        },
        "outputId": "fc09b18f-9ca8-4c5e-96ab-38b2230c25db"
      },
      "execution_count": null,
      "outputs": [
        {
          "output_type": "stream",
          "name": "stdout",
          "text": [
            "Scaled Dataset Using MinMaxScaler\n",
            "Accuracy: 0.9946319018404908\n",
            "Classification Report:\n",
            "               precision    recall  f1-score   support\n",
            "\n",
            "           1       0.99      1.00      0.99      1238\n",
            "           2       1.00      0.99      0.99      1370\n",
            "\n",
            "    accuracy                           0.99      2608\n",
            "   macro avg       0.99      0.99      0.99      2608\n",
            "weighted avg       0.99      0.99      0.99      2608\n",
            "\n"
          ]
        }
      ]
    },
    {
      "cell_type": "code",
      "source": [
        "from sklearn.metrics import confusion_matrix\n",
        "import seaborn as sns\n",
        "\n",
        "cm = confusion_matrix(y_test, y_pred)\n",
        "print(\"Confusion Matrix:\\n\", cm)\n",
        "\n",
        "# Plot the confusion matrix\n",
        "sns.heatmap(cm, annot=True, cmap='Blues')\n",
        "plt.title('Confusion Matrix')\n",
        "plt.xlabel('Predicted')\n",
        "plt.ylabel('Actual')\n",
        "plt.show()\n"
      ],
      "metadata": {
        "id": "OZgWBFD-lyiz",
        "colab": {
          "base_uri": "https://localhost:8080/",
          "height": 524
        },
        "outputId": "47a7a95a-8187-400e-8f69-350824da5828"
      },
      "execution_count": null,
      "outputs": [
        {
          "output_type": "stream",
          "name": "stdout",
          "text": [
            "Confusion Matrix:\n",
            " [[1233    5]\n",
            " [   9 1361]]\n"
          ]
        },
        {
          "output_type": "display_data",
          "data": {
            "text/plain": [
              "<Figure size 640x480 with 2 Axes>"
            ],
            "image/png": "[encoded data removed]"
          },
          "metadata": {}
        }
      ]
    },
    {
      "cell_type": "markdown",
      "source": [
        "corr matrix and statistical analysis "
      ],
      "metadata": {
        "id": "vkfiYBz1wZTp"
      }
    },
    {
      "cell_type": "code",
      "source": [
        "df_mach = pd.concat([x, y], axis = 1)\n"
      ],
      "metadata": {
        "id": "IHAV-tFPojtP"
      },
      "execution_count": null,
      "outputs": []
    },
    {
      "cell_type": "code",
      "source": [
        "import matplotlib.pyplot as plt\n",
        "\n",
        "f = plt.figure(figsize=(19, 15))\n",
        "plt.matshow(df_mach.corr(), fignum=f.number)\n",
        "plt.xticks(range(df.select_dtypes(['number']).shape[1]), df.select_dtypes(['number']).columns, fontsize=14, rotation=45)\n",
        "plt.yticks(range(df.select_dtypes(['number']).shape[1]), df.select_dtypes(['number']).columns, fontsize=14)\n",
        "cb = plt.colorbar()\n",
        "cb.ax.tick_params(labelsize=14)\n",
        "plt.title('Correlation Matrix', fontsize=16);"
      ],
      "metadata": {
        "id": "KWXBxvkineSJ",
        "colab": {
          "base_uri": "https://localhost:8080/",
          "height": 831
        },
        "outputId": "f79cc51a-3335-4e22-a69c-51107c8d9d28"
      },
      "execution_count": null,
      "outputs": [
        {
          "output_type": "display_data",
          "data": {
            "text/plain": [
              "<Figure size 1900x1500 with 2 Axes>"
            ],
            "image/png": "[encoded data removed]"
          },
          "metadata": {}
        }
      ]
    }
  ]
}